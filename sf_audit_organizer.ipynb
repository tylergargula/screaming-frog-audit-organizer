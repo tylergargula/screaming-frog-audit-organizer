{
 "cells": [
  {
   "metadata": {},
   "cell_type": "markdown",
   "source": [
    "# Screaming Frog Tech Audit Prioritization\n",
    "Create a prioritized list of issues from Screaming Frog's tech audit.\n",
    "\n",
    "Notebook uses a custom prioritization algorithm to label issues based on factors like traffic, issue type, priority, and issue scale."
   ],
   "id": "2656ef23f7fb8e8e"
  },
  {
   "metadata": {},
   "cell_type": "markdown",
   "source": "## Import Issues Overview and GSC Data\n",
   "id": "a452c0d56d5dde71"
  },
  {
   "metadata": {
    "ExecuteTime": {
     "end_time": "2025-01-17T22:40:58.816567Z",
     "start_time": "2025-01-17T22:40:58.792974Z"
    }
   },
   "cell_type": "code",
   "source": [
    "import os\n",
    "import pandas as pd\n",
    "import plotly_express as px\n",
    "\n",
    "issues_report = pd.read_csv('data/issues_overview_report.csv')\n",
    "issues_report.head()"
   ],
   "id": "1c3053605ad8acf0",
   "outputs": [
    {
     "data": {
      "text/plain": [
       "                                       Issue Name Issue Type Issue Priority  \\\n",
       "0                            Directives: Nofollow    Warning           High   \n",
       "1  Structured Data: Rich Result Validation Errors      Issue           High   \n",
       "2        Search Console: No Search Analytics Data    Warning            Low   \n",
       "3      Security: Protocol-Relative Resource Links    Warning            Low   \n",
       "4                   Security: Missing HSTS Header    Warning            Low   \n",
       "\n",
       "   URLs  % of Total                                        Description  \\\n",
       "0    22        3.18  URLs containing a 'nofollow' directive in eith...   \n",
       "1    84       16.54  URLs that contain Google rich result feature v...   \n",
       "2   311       39.17  URLs that are not returning impressions in the...   \n",
       "3   487       41.17  URLs that load resources such as images, JavaS...   \n",
       "4   204       17.24  URLs that are missing the HSTS response header...   \n",
       "\n",
       "                                          How To Fix  Help URL  \n",
       "0  URLs with a 'nofollow' should be reviewed care...       NaN  \n",
       "1  Resolve validation errors to ensure pages are ...       NaN  \n",
       "2  Review URLs with no search analytics data and ...       NaN  \n",
       "3  Update any resource links to be absolute links...       NaN  \n",
       "4  The HSTS header should be used across all page...       NaN  "
      ],
      "text/html": [
       "<div>\n",
       "<style scoped>\n",
       "    .dataframe tbody tr th:only-of-type {\n",
       "        vertical-align: middle;\n",
       "    }\n",
       "\n",
       "    .dataframe tbody tr th {\n",
       "        vertical-align: top;\n",
       "    }\n",
       "\n",
       "    .dataframe thead th {\n",
       "        text-align: right;\n",
       "    }\n",
       "</style>\n",
       "<table border=\"1\" class=\"dataframe\">\n",
       "  <thead>\n",
       "    <tr style=\"text-align: right;\">\n",
       "      <th></th>\n",
       "      <th>Issue Name</th>\n",
       "      <th>Issue Type</th>\n",
       "      <th>Issue Priority</th>\n",
       "      <th>URLs</th>\n",
       "      <th>% of Total</th>\n",
       "      <th>Description</th>\n",
       "      <th>How To Fix</th>\n",
       "      <th>Help URL</th>\n",
       "    </tr>\n",
       "  </thead>\n",
       "  <tbody>\n",
       "    <tr>\n",
       "      <th>0</th>\n",
       "      <td>Directives: Nofollow</td>\n",
       "      <td>Warning</td>\n",
       "      <td>High</td>\n",
       "      <td>22</td>\n",
       "      <td>3.18</td>\n",
       "      <td>URLs containing a 'nofollow' directive in eith...</td>\n",
       "      <td>URLs with a 'nofollow' should be reviewed care...</td>\n",
       "      <td>NaN</td>\n",
       "    </tr>\n",
       "    <tr>\n",
       "      <th>1</th>\n",
       "      <td>Structured Data: Rich Result Validation Errors</td>\n",
       "      <td>Issue</td>\n",
       "      <td>High</td>\n",
       "      <td>84</td>\n",
       "      <td>16.54</td>\n",
       "      <td>URLs that contain Google rich result feature v...</td>\n",
       "      <td>Resolve validation errors to ensure pages are ...</td>\n",
       "      <td>NaN</td>\n",
       "    </tr>\n",
       "    <tr>\n",
       "      <th>2</th>\n",
       "      <td>Search Console: No Search Analytics Data</td>\n",
       "      <td>Warning</td>\n",
       "      <td>Low</td>\n",
       "      <td>311</td>\n",
       "      <td>39.17</td>\n",
       "      <td>URLs that are not returning impressions in the...</td>\n",
       "      <td>Review URLs with no search analytics data and ...</td>\n",
       "      <td>NaN</td>\n",
       "    </tr>\n",
       "    <tr>\n",
       "      <th>3</th>\n",
       "      <td>Security: Protocol-Relative Resource Links</td>\n",
       "      <td>Warning</td>\n",
       "      <td>Low</td>\n",
       "      <td>487</td>\n",
       "      <td>41.17</td>\n",
       "      <td>URLs that load resources such as images, JavaS...</td>\n",
       "      <td>Update any resource links to be absolute links...</td>\n",
       "      <td>NaN</td>\n",
       "    </tr>\n",
       "    <tr>\n",
       "      <th>4</th>\n",
       "      <td>Security: Missing HSTS Header</td>\n",
       "      <td>Warning</td>\n",
       "      <td>Low</td>\n",
       "      <td>204</td>\n",
       "      <td>17.24</td>\n",
       "      <td>URLs that are missing the HSTS response header...</td>\n",
       "      <td>The HSTS header should be used across all page...</td>\n",
       "      <td>NaN</td>\n",
       "    </tr>\n",
       "  </tbody>\n",
       "</table>\n",
       "</div>"
      ]
     },
     "execution_count": 11,
     "metadata": {},
     "output_type": "execute_result"
    }
   ],
   "execution_count": 11
  },
  {
   "metadata": {
    "ExecuteTime": {
     "end_time": "2025-01-17T22:40:58.851281Z",
     "start_time": "2025-01-17T22:40:58.843253Z"
    }
   },
   "cell_type": "code",
   "source": [
    "gsc_df = pd.read_csv('data/search_console_all.csv')\n",
    "gsc_df.head()"
   ],
   "id": "653e80e3cce1f9e6",
   "outputs": [
    {
     "data": {
      "text/plain": [
       "                                             Address  Status Code  \\\n",
       "0                          https://www.zoominfo.com/          200   \n",
       "1  https://www.zoominfo.com/_next/static/media/zo...            0   \n",
       "2  https://www.zoominfo.com/free-trial?camp_id=70...          200   \n",
       "3  https://www.zoominfo.com/free-trial-contact-sales          200   \n",
       "4                  https://www.zoominfo.com/newsroom          200   \n",
       "\n",
       "                                             Title 1   Indexability  \\\n",
       "0  ZoomInfo: B2B Database | Company Contacts & In...      Indexable   \n",
       "1                                                NaN  Non-Indexable   \n",
       "2                   Start Your Free Trial | ZoomInfo  Non-Indexable   \n",
       "3                   Start Your Free Trial | ZoomInfo  Non-Indexable   \n",
       "4        Welcome to the ZoomInfo Newsroom | ZoomInfo      Indexable   \n",
       "\n",
       "     Indexability Status    Clicks  Impressions    CTR  Position  \n",
       "0                    NaN  262268.0    1011378.0  0.259      7.42  \n",
       "1  Blocked by robots.txt       NaN          NaN    NaN       NaN  \n",
       "2          Canonicalised       NaN          NaN    NaN       NaN  \n",
       "3                noindex       NaN          NaN    NaN       NaN  \n",
       "4                    NaN       9.0        309.0  0.029      5.99  "
      ],
      "text/html": [
       "<div>\n",
       "<style scoped>\n",
       "    .dataframe tbody tr th:only-of-type {\n",
       "        vertical-align: middle;\n",
       "    }\n",
       "\n",
       "    .dataframe tbody tr th {\n",
       "        vertical-align: top;\n",
       "    }\n",
       "\n",
       "    .dataframe thead th {\n",
       "        text-align: right;\n",
       "    }\n",
       "</style>\n",
       "<table border=\"1\" class=\"dataframe\">\n",
       "  <thead>\n",
       "    <tr style=\"text-align: right;\">\n",
       "      <th></th>\n",
       "      <th>Address</th>\n",
       "      <th>Status Code</th>\n",
       "      <th>Title 1</th>\n",
       "      <th>Indexability</th>\n",
       "      <th>Indexability Status</th>\n",
       "      <th>Clicks</th>\n",
       "      <th>Impressions</th>\n",
       "      <th>CTR</th>\n",
       "      <th>Position</th>\n",
       "    </tr>\n",
       "  </thead>\n",
       "  <tbody>\n",
       "    <tr>\n",
       "      <th>0</th>\n",
       "      <td>https://www.zoominfo.com/</td>\n",
       "      <td>200</td>\n",
       "      <td>ZoomInfo: B2B Database | Company Contacts &amp; In...</td>\n",
       "      <td>Indexable</td>\n",
       "      <td>NaN</td>\n",
       "      <td>262268.0</td>\n",
       "      <td>1011378.0</td>\n",
       "      <td>0.259</td>\n",
       "      <td>7.42</td>\n",
       "    </tr>\n",
       "    <tr>\n",
       "      <th>1</th>\n",
       "      <td>https://www.zoominfo.com/_next/static/media/zo...</td>\n",
       "      <td>0</td>\n",
       "      <td>NaN</td>\n",
       "      <td>Non-Indexable</td>\n",
       "      <td>Blocked by robots.txt</td>\n",
       "      <td>NaN</td>\n",
       "      <td>NaN</td>\n",
       "      <td>NaN</td>\n",
       "      <td>NaN</td>\n",
       "    </tr>\n",
       "    <tr>\n",
       "      <th>2</th>\n",
       "      <td>https://www.zoominfo.com/free-trial?camp_id=70...</td>\n",
       "      <td>200</td>\n",
       "      <td>Start Your Free Trial | ZoomInfo</td>\n",
       "      <td>Non-Indexable</td>\n",
       "      <td>Canonicalised</td>\n",
       "      <td>NaN</td>\n",
       "      <td>NaN</td>\n",
       "      <td>NaN</td>\n",
       "      <td>NaN</td>\n",
       "    </tr>\n",
       "    <tr>\n",
       "      <th>3</th>\n",
       "      <td>https://www.zoominfo.com/free-trial-contact-sales</td>\n",
       "      <td>200</td>\n",
       "      <td>Start Your Free Trial | ZoomInfo</td>\n",
       "      <td>Non-Indexable</td>\n",
       "      <td>noindex</td>\n",
       "      <td>NaN</td>\n",
       "      <td>NaN</td>\n",
       "      <td>NaN</td>\n",
       "      <td>NaN</td>\n",
       "    </tr>\n",
       "    <tr>\n",
       "      <th>4</th>\n",
       "      <td>https://www.zoominfo.com/newsroom</td>\n",
       "      <td>200</td>\n",
       "      <td>Welcome to the ZoomInfo Newsroom | ZoomInfo</td>\n",
       "      <td>Indexable</td>\n",
       "      <td>NaN</td>\n",
       "      <td>9.0</td>\n",
       "      <td>309.0</td>\n",
       "      <td>0.029</td>\n",
       "      <td>5.99</td>\n",
       "    </tr>\n",
       "  </tbody>\n",
       "</table>\n",
       "</div>"
      ]
     },
     "execution_count": 12,
     "metadata": {},
     "output_type": "execute_result"
    }
   ],
   "execution_count": 12
  },
  {
   "metadata": {},
   "cell_type": "markdown",
   "source": "## Import All Issues Data",
   "id": "d3a1eb78089b4efd"
  },
  {
   "metadata": {
    "ExecuteTime": {
     "end_time": "2025-01-17T22:40:59.279190Z",
     "start_time": "2025-01-17T22:40:59.001295Z"
    }
   },
   "cell_type": "code",
   "source": [
    "issues = []\n",
    "\n",
    "issues_path = 'data/issues_reports'\n",
    "export_path = '/'.join(issues_path.split('/')[0:-1]) + '/'\n",
    "\n",
    "for issue in os.listdir(issues_path):\n",
    "    issue_df = pd.read_csv(os.path.join(issues_path, issue))\n",
    "    issue_name = issue.split('.')[0]\n",
    "    issue_df['issue'] = issue_name\n",
    "    issues.append(issue_df)\n",
    "\n",
    "\n",
    "issues_df = pd.concat(issues)\n",
    "issues_df = issues_df.dropna(subset='Address')\n",
    "issues_df['issue'].value_counts()"
   ],
   "id": "3b639842db48bbd1",
   "outputs": [
    {
     "data": {
      "text/plain": [
       "issue\n",
       "search_console_no_search_analytics_data                   311\n",
       "structured_data_missing                                   275\n",
       "response_codes_internal_blocked_by_robots_txt             257\n",
       "response_codes_internal_blocked_resource                  254\n",
       "response_codes_internal_redirection_(3xx)                 223\n",
       "h2_duplicate                                              207\n",
       "h2_multiple                                               204\n",
       "content_low_content_pages                                 167\n",
       "url_parameters                                            136\n",
       "url_underscores                                           124\n",
       "url_ga_tracking_parameters                                117\n",
       "canonicals_canonicalised                                  115\n",
       "h1_missing                                                 88\n",
       "meta_description_duplicate                                 87\n",
       "structured_data_rich_result_validation_errors              84\n",
       "structured_data_rich_result_validation_warnings            83\n",
       "links_pages_with_high_crawl_depth                          81\n",
       "content_readability_difficult                              79\n",
       "url_uppercase                                              75\n",
       "response_codes_internal_redirect_chain                     55\n",
       "meta_description_over_155_characters                       54\n",
       "meta_description_missing                                   48\n",
       "h2_missing                                                 47\n",
       "page_titles_over_561_pixels                                47\n",
       "images_missing_alt_text                                    44\n",
       "page_titles_duplicate                                      40\n",
       "page_titles_below_30_characters                            40\n",
       "meta_description_over_985_pixels                           39\n",
       "h2_nonsequential                                           35\n",
       "page_titles_over_60_characters                             35\n",
       "canonicals_missing                                         29\n",
       "page_titles_same_as_h1                                     28\n",
       "h1_over_70_characters                                      25\n",
       "directives_noindex                                         25\n",
       "directives_nofollow                                        22\n",
       "h1_nonsequential                                           21\n",
       "url_over_115_characters                                    19\n",
       "page_titles_below_200_pixels                               18\n",
       "javascript_contains_javascript_content                     15\n",
       "images_missing_alt_attribute                               15\n",
       "images_over_100_kb                                         12\n",
       "h2_over_70_characters                                      12\n",
       "response_codes_internal_client_error_(4xx)                 11\n",
       "meta_description_below_400_pixels                          10\n",
       "meta_description_below_70_characters                       10\n",
       "images_alt_text_over_100_characters                         9\n",
       "content_readability_very_difficult                          7\n",
       "images_background_images                                    6\n",
       "h1_duplicate                                                5\n",
       "canonicals_nonindexable_canonical                           5\n",
       "search_console_nonindexable_with_search_analytics_data      4\n",
       "url_repetitive_path                                         3\n",
       "url_contains_space                                          2\n",
       "url_multiple_slashes                                        2\n",
       "validation_high_carbon_rating                               2\n",
       "javascript_h1_updated_by_javascript                         1\n",
       "javascript_page_title_updated_by_javascript                 1\n",
       "javascript_meta_description_updated_by_javascript           1\n",
       "Name: count, dtype: int64"
      ]
     },
     "execution_count": 13,
     "metadata": {},
     "output_type": "execute_result"
    }
   ],
   "execution_count": 13
  },
  {
   "metadata": {},
   "cell_type": "markdown",
   "source": "## Data Cleaning",
   "id": "3385c95a755910d3"
  },
  {
   "metadata": {
    "ExecuteTime": {
     "end_time": "2025-01-17T22:40:59.363948Z",
     "start_time": "2025-01-17T22:40:59.321372Z"
    }
   },
   "cell_type": "code",
   "source": [
    "from src.data import clean_data\n",
    "issues_group, issues_df = clean_data(issues_df, gsc_df, issues_report)\n",
    "issues_group"
   ],
   "id": "4477564884f88065",
   "outputs": [
    {
     "data": {
      "text/plain": [
       "                                           Issue Name  Clicks_gsc  \\\n",
       "0                                        H2: Multiple    296729.0   \n",
       "1                            Structured Data: Missing    294432.0   \n",
       "2                                  H2: Non-Sequential    266718.0   \n",
       "3                              Page Titles: Duplicate    262377.0   \n",
       "4                    Page Titles: Below 30 Characters     31447.0   \n",
       "5                       Page Titles: Below 200 Pixels     28226.0   \n",
       "6                          Content: Low Content Pages     15417.0   \n",
       "7                                         H2: Missing     12315.0   \n",
       "8                 Content: Readability Very Difficult     10693.0   \n",
       "9                                         H1: Missing     10079.0   \n",
       "10              Meta Description: Over 155 Characters      9633.0   \n",
       "11                     Content: Readability Difficult      9158.0   \n",
       "12                                      H2: Duplicate      7458.0   \n",
       "13                 Meta Description: Below 400 Pixels      5313.0   \n",
       "14              Meta Description: Below 70 Characters      5313.0   \n",
       "15                                      H1: Duplicate      4925.0   \n",
       "16  Search Console: Non-Indexable with Search Anal...      1709.0   \n",
       "18                  Meta Description: Over 985 Pixels      1427.0   \n",
       "19                        Meta Description: Duplicate      1309.0   \n",
       "20                             H2: Over 70 Characters      1084.0   \n",
       "21                       Page Titles: Over 561 Pixels       647.0   \n",
       "22                          Meta Description: Missing       565.0   \n",
       "23                            Page Titles: Same as H1       473.0   \n",
       "24                 Links: Pages With High Crawl Depth       115.0   \n",
       "25                    Page Titles: Over 60 Characters        79.0   \n",
       "26                                 H1: Non-Sequential        78.0   \n",
       "27     Structured Data: Rich Result Validation Errors        58.0   \n",
       "28   Structured Data: Rich Result Validation Warnings        38.0   \n",
       "29                                     URL: Uppercase        28.0   \n",
       "30            JavaScript: Contains JavaScript Content        10.0   \n",
       "31                                Canonicals: Missing         8.0   \n",
       "32               JavaScript: H1 Updated by JavaScript         6.0   \n",
       "33                     Validation: High Carbon Rating         4.0   \n",
       "34       JavaScript: Page Title Updated by JavaScript         0.0   \n",
       "35  JavaScript: Meta Description Updated by JavaSc...         0.0   \n",
       "36                Canonicals: Non-Indexable Canonical         0.0   \n",
       "37                                   URL: Underscores         0.0   \n",
       "38                               URL: Repetitive Path         0.0   \n",
       "39                                    URL: Parameters         0.0   \n",
       "40                           URL: Over 115 Characters         0.0   \n",
       "41                              URL: Multiple Slashes         0.0   \n",
       "42                        URL: GA Tracking Parameters         0.0   \n",
       "43                                URL: Contains Space         0.0   \n",
       "44                               Directives: Nofollow         0.0   \n",
       "45                                Directives: Noindex         0.0   \n",
       "46                             H1: Over 70 Characters         0.0   \n",
       "47               Images: Alt Text Over 100 Characters         0.0   \n",
       "48           Search Console: No Search Analytics Data         0.0   \n",
       "49                          Images: Background Images         0.0   \n",
       "50            Response Codes: Internal Redirect Chain         0.0   \n",
       "52          Response Codes: Internal Blocked Resource         0.0   \n",
       "54                      Images: Missing Alt Attribute         0.0   \n",
       "55                           Images: Missing Alt Text         0.0   \n",
       "56                                Images: Over 100 KB         0.0   \n",
       "57                          Canonicals: Canonicalised         0.0   \n",
       "\n",
       "    Impressions_gsc   CTR_gsc  Position_gsc   Issue Type Issue Priority  \\\n",
       "0         3451188.0  0.100333     16.790580      Warning            Low   \n",
       "1         2674064.0  0.114176     14.156351  Opportunity            Low   \n",
       "2         1065560.0  0.145529     16.250588      Warning            Low   \n",
       "3         1013287.0  0.119600     16.334000  Opportunity         Medium   \n",
       "4         2201118.0  0.075148      9.181481  Opportunity         Medium   \n",
       "5         2122594.0  0.085250      6.721875  Opportunity         Medium   \n",
       "6          785966.0  0.108250     17.142917  Opportunity         Medium   \n",
       "7          739040.0  0.109400     11.488000      Warning            Low   \n",
       "8          660372.0  0.034333      4.300000  Opportunity            Low   \n",
       "9          705907.0  0.063833     34.293333        Issue         Medium   \n",
       "10         747320.0  0.202647     11.691176  Opportunity            Low   \n",
       "11         861015.0  0.076667     21.248333  Opportunity            Low   \n",
       "12         743258.0  0.077421     19.758947  Opportunity            Low   \n",
       "13         130164.0  0.098571      8.422857  Opportunity            Low   \n",
       "14         130164.0  0.098571      8.422857  Opportunity            Low   \n",
       "15         714064.0  0.086667      6.703333  Opportunity            Low   \n",
       "16         127955.0  0.058750     11.465000      Warning            Low   \n",
       "18          16620.0  0.233000     11.373750  Opportunity            Low   \n",
       "19          23839.0  0.103143     30.321429  Opportunity            Low   \n",
       "20          41782.0  0.204333     23.581667  Opportunity            Low   \n",
       "21          17507.0  0.085571     23.218571  Opportunity         Medium   \n",
       "22          12676.0  0.067417     10.001667  Opportunity            Low   \n",
       "23          14031.0  0.149000     11.325000  Opportunity            Low   \n",
       "24           2187.0  0.170800     13.490000  Opportunity         Medium   \n",
       "25           1959.0  0.107200     12.592000  Opportunity         Medium   \n",
       "26           1601.0  0.049000     11.310000      Warning            Low   \n",
       "27           1212.0  0.065500     49.042500        Issue           High   \n",
       "28            434.0  0.078667     51.616667  Opportunity            Low   \n",
       "29           1558.0  0.018000      7.200000      Warning            Low   \n",
       "30            178.0  0.056000     15.495000      Warning         Medium   \n",
       "31             17.0  0.471000     15.940000      Warning         Medium   \n",
       "32            104.0  0.058000      9.810000      Warning         Medium   \n",
       "33             74.0  0.054000     21.180000  Opportunity            Low   \n",
       "34              0.0       NaN           NaN      Warning         Medium   \n",
       "35              0.0       NaN           NaN      Warning         Medium   \n",
       "36              0.0       NaN           NaN        Issue           High   \n",
       "37              0.0       NaN           NaN  Opportunity            Low   \n",
       "38              0.0       NaN           NaN      Warning            Low   \n",
       "39              0.0       NaN           NaN      Warning            Low   \n",
       "40              0.0       NaN           NaN  Opportunity            Low   \n",
       "41              0.0       NaN           NaN        Issue            Low   \n",
       "42              0.0       NaN           NaN      Warning            Low   \n",
       "43              0.0       NaN           NaN        Issue            Low   \n",
       "44              0.0       NaN           NaN      Warning           High   \n",
       "45              0.0       NaN           NaN      Warning           High   \n",
       "46              0.0       NaN           NaN  Opportunity            Low   \n",
       "47              0.0       NaN           NaN  Opportunity            Low   \n",
       "48              0.0       NaN           NaN      Warning            Low   \n",
       "49              0.0       NaN           NaN      Warning            Low   \n",
       "50              0.0       NaN           NaN      Warning         Medium   \n",
       "52              0.0       NaN           NaN      Warning           High   \n",
       "54              0.0       NaN           NaN        Issue            Low   \n",
       "55              0.0       NaN           NaN        Issue            Low   \n",
       "56              0.0       NaN           NaN  Opportunity         Medium   \n",
       "57              0.0       NaN           NaN      Warning           High   \n",
       "\n",
       "    % of Total                                              issue  Address  \\\n",
       "0        40.16                                        h2_multiple      204   \n",
       "1        54.13                            structured_data_missing      275   \n",
       "2         6.89                                   h2_nonsequential       35   \n",
       "3         7.87                              page_titles_duplicate       40   \n",
       "4         7.87                    page_titles_below_30_characters       40   \n",
       "5         3.54                       page_titles_below_200_pixels       18   \n",
       "6        31.10                          content_low_content_pages      167   \n",
       "7         9.25                                         h2_missing       47   \n",
       "8         1.30                 content_readability_very_difficult        7   \n",
       "9        17.32                                         h1_missing       88   \n",
       "10       10.63               meta_description_over_155_characters       54   \n",
       "11       14.71                      content_readability_difficult       79   \n",
       "12       40.75                                       h2_duplicate      207   \n",
       "13        1.97                  meta_description_below_400_pixels       10   \n",
       "14        1.97               meta_description_below_70_characters       10   \n",
       "15        0.98                                       h1_duplicate        5   \n",
       "16        0.50  search_console_nonindexable_with_search_analyt...        4   \n",
       "18        7.68                   meta_description_over_985_pixels       39   \n",
       "19       17.13                         meta_description_duplicate       87   \n",
       "20        2.36                              h2_over_70_characters       12   \n",
       "21        9.25                        page_titles_over_561_pixels       47   \n",
       "22        9.45                           meta_description_missing       48   \n",
       "23        5.51                             page_titles_same_as_h1       28   \n",
       "24       15.94                  links_pages_with_high_crawl_depth       81   \n",
       "25        6.89                     page_titles_over_60_characters       35   \n",
       "26        4.13                                   h1_nonsequential       21   \n",
       "27       16.54      structured_data_rich_result_validation_errors       84   \n",
       "28       16.34    structured_data_rich_result_validation_warnings       83   \n",
       "29        6.34                                      url_uppercase       75   \n",
       "30        2.95             javascript_contains_javascript_content       15   \n",
       "31        5.40                                 canonicals_missing       29   \n",
       "32        0.20                javascript_h1_updated_by_javascript        1   \n",
       "33        0.17                      validation_high_carbon_rating        2   \n",
       "34        0.20        javascript_page_title_updated_by_javascript        1   \n",
       "35        0.20  javascript_meta_description_updated_by_javascript        1   \n",
       "36        0.93                  canonicals_nonindexable_canonical        5   \n",
       "37       10.48                                    url_underscores      124   \n",
       "38        0.25                                url_repetitive_path        3   \n",
       "39       11.50                                     url_parameters      136   \n",
       "40        1.61                            url_over_115_characters       19   \n",
       "41        0.17                               url_multiple_slashes        2   \n",
       "42        9.89                         url_ga_tracking_parameters      117   \n",
       "43        0.17                                 url_contains_space        2   \n",
       "44        3.18                                directives_nofollow       22   \n",
       "45        3.61                                 directives_noindex       25   \n",
       "46        4.92                              h1_over_70_characters       25   \n",
       "47        6.82                images_alt_text_over_100_characters        9   \n",
       "48       39.17            search_console_no_search_analytics_data      311   \n",
       "49        4.55                           images_background_images        6   \n",
       "50        4.65             response_codes_internal_redirect_chain       55   \n",
       "52       21.47           response_codes_internal_blocked_resource      254   \n",
       "54       11.36                       images_missing_alt_attribute       15   \n",
       "55       33.33                            images_missing_alt_text       44   \n",
       "56        9.09                                 images_over_100_kb       12   \n",
       "57       21.42                           canonicals_canonicalised      115   \n",
       "\n",
       "    pct_rank_clicks  pct_rank_urls  \n",
       "0          1.000000       0.927273  \n",
       "1          0.981818       0.981818  \n",
       "2          0.963636       0.518182  \n",
       "3          0.945455       0.572727  \n",
       "4          0.927273       0.572727  \n",
       "5          0.909091       0.363636  \n",
       "6          0.890909       0.909091  \n",
       "7          0.872727       0.627273  \n",
       "8          0.854545       0.218182  \n",
       "9          0.836364       0.818182  \n",
       "10         0.818182       0.672727  \n",
       "11         0.800000       0.727273  \n",
       "12         0.781818       0.945455  \n",
       "13         0.754545       0.263636  \n",
       "14         0.754545       0.263636  \n",
       "15         0.727273       0.172727  \n",
       "16         0.709091       0.145455  \n",
       "18         0.690909       0.545455  \n",
       "19         0.672727       0.800000  \n",
       "20         0.654545       0.300000  \n",
       "21         0.636364       0.627273  \n",
       "22         0.618182       0.654545  \n",
       "23         0.600000       0.472727  \n",
       "24         0.581818       0.745455  \n",
       "25         0.563636       0.518182  \n",
       "26         0.545455       0.400000  \n",
       "27         0.527273       0.781818  \n",
       "28         0.509091       0.763636  \n",
       "29         0.490909       0.709091  \n",
       "30         0.472727       0.336364  \n",
       "31         0.454545       0.490909  \n",
       "32         0.436364       0.036364  \n",
       "33         0.418182       0.090909  \n",
       "34         0.209091       0.036364  \n",
       "35         0.209091       0.036364  \n",
       "36         0.209091       0.172727  \n",
       "37         0.209091       0.872727  \n",
       "38         0.209091       0.127273  \n",
       "39         0.209091       0.890909  \n",
       "40         0.209091       0.381818  \n",
       "41         0.209091       0.090909  \n",
       "42         0.209091       0.854545  \n",
       "43         0.209091       0.090909  \n",
       "44         0.209091       0.418182  \n",
       "45         0.209091       0.445455  \n",
       "46         0.209091       0.445455  \n",
       "47         0.209091       0.236364  \n",
       "48         0.209091       1.000000  \n",
       "49         0.209091       0.200000  \n",
       "50         0.209091       0.690909  \n",
       "52         0.209091       0.963636  \n",
       "54         0.209091       0.336364  \n",
       "55         0.209091       0.600000  \n",
       "56         0.209091       0.300000  \n",
       "57         0.209091       0.836364  "
      ],
      "text/html": [
       "<div>\n",
       "<style scoped>\n",
       "    .dataframe tbody tr th:only-of-type {\n",
       "        vertical-align: middle;\n",
       "    }\n",
       "\n",
       "    .dataframe tbody tr th {\n",
       "        vertical-align: top;\n",
       "    }\n",
       "\n",
       "    .dataframe thead th {\n",
       "        text-align: right;\n",
       "    }\n",
       "</style>\n",
       "<table border=\"1\" class=\"dataframe\">\n",
       "  <thead>\n",
       "    <tr style=\"text-align: right;\">\n",
       "      <th></th>\n",
       "      <th>Issue Name</th>\n",
       "      <th>Clicks_gsc</th>\n",
       "      <th>Impressions_gsc</th>\n",
       "      <th>CTR_gsc</th>\n",
       "      <th>Position_gsc</th>\n",
       "      <th>Issue Type</th>\n",
       "      <th>Issue Priority</th>\n",
       "      <th>% of Total</th>\n",
       "      <th>issue</th>\n",
       "      <th>Address</th>\n",
       "      <th>pct_rank_clicks</th>\n",
       "      <th>pct_rank_urls</th>\n",
       "    </tr>\n",
       "  </thead>\n",
       "  <tbody>\n",
       "    <tr>\n",
       "      <th>0</th>\n",
       "      <td>H2: Multiple</td>\n",
       "      <td>296729.0</td>\n",
       "      <td>3451188.0</td>\n",
       "      <td>0.100333</td>\n",
       "      <td>16.790580</td>\n",
       "      <td>Warning</td>\n",
       "      <td>Low</td>\n",
       "      <td>40.16</td>\n",
       "      <td>h2_multiple</td>\n",
       "      <td>204</td>\n",
       "      <td>1.000000</td>\n",
       "      <td>0.927273</td>\n",
       "    </tr>\n",
       "    <tr>\n",
       "      <th>1</th>\n",
       "      <td>Structured Data: Missing</td>\n",
       "      <td>294432.0</td>\n",
       "      <td>2674064.0</td>\n",
       "      <td>0.114176</td>\n",
       "      <td>14.156351</td>\n",
       "      <td>Opportunity</td>\n",
       "      <td>Low</td>\n",
       "      <td>54.13</td>\n",
       "      <td>structured_data_missing</td>\n",
       "      <td>275</td>\n",
       "      <td>0.981818</td>\n",
       "      <td>0.981818</td>\n",
       "    </tr>\n",
       "    <tr>\n",
       "      <th>2</th>\n",
       "      <td>H2: Non-Sequential</td>\n",
       "      <td>266718.0</td>\n",
       "      <td>1065560.0</td>\n",
       "      <td>0.145529</td>\n",
       "      <td>16.250588</td>\n",
       "      <td>Warning</td>\n",
       "      <td>Low</td>\n",
       "      <td>6.89</td>\n",
       "      <td>h2_nonsequential</td>\n",
       "      <td>35</td>\n",
       "      <td>0.963636</td>\n",
       "      <td>0.518182</td>\n",
       "    </tr>\n",
       "    <tr>\n",
       "      <th>3</th>\n",
       "      <td>Page Titles: Duplicate</td>\n",
       "      <td>262377.0</td>\n",
       "      <td>1013287.0</td>\n",
       "      <td>0.119600</td>\n",
       "      <td>16.334000</td>\n",
       "      <td>Opportunity</td>\n",
       "      <td>Medium</td>\n",
       "      <td>7.87</td>\n",
       "      <td>page_titles_duplicate</td>\n",
       "      <td>40</td>\n",
       "      <td>0.945455</td>\n",
       "      <td>0.572727</td>\n",
       "    </tr>\n",
       "    <tr>\n",
       "      <th>4</th>\n",
       "      <td>Page Titles: Below 30 Characters</td>\n",
       "      <td>31447.0</td>\n",
       "      <td>2201118.0</td>\n",
       "      <td>0.075148</td>\n",
       "      <td>9.181481</td>\n",
       "      <td>Opportunity</td>\n",
       "      <td>Medium</td>\n",
       "      <td>7.87</td>\n",
       "      <td>page_titles_below_30_characters</td>\n",
       "      <td>40</td>\n",
       "      <td>0.927273</td>\n",
       "      <td>0.572727</td>\n",
       "    </tr>\n",
       "    <tr>\n",
       "      <th>5</th>\n",
       "      <td>Page Titles: Below 200 Pixels</td>\n",
       "      <td>28226.0</td>\n",
       "      <td>2122594.0</td>\n",
       "      <td>0.085250</td>\n",
       "      <td>6.721875</td>\n",
       "      <td>Opportunity</td>\n",
       "      <td>Medium</td>\n",
       "      <td>3.54</td>\n",
       "      <td>page_titles_below_200_pixels</td>\n",
       "      <td>18</td>\n",
       "      <td>0.909091</td>\n",
       "      <td>0.363636</td>\n",
       "    </tr>\n",
       "    <tr>\n",
       "      <th>6</th>\n",
       "      <td>Content: Low Content Pages</td>\n",
       "      <td>15417.0</td>\n",
       "      <td>785966.0</td>\n",
       "      <td>0.108250</td>\n",
       "      <td>17.142917</td>\n",
       "      <td>Opportunity</td>\n",
       "      <td>Medium</td>\n",
       "      <td>31.10</td>\n",
       "      <td>content_low_content_pages</td>\n",
       "      <td>167</td>\n",
       "      <td>0.890909</td>\n",
       "      <td>0.909091</td>\n",
       "    </tr>\n",
       "    <tr>\n",
       "      <th>7</th>\n",
       "      <td>H2: Missing</td>\n",
       "      <td>12315.0</td>\n",
       "      <td>739040.0</td>\n",
       "      <td>0.109400</td>\n",
       "      <td>11.488000</td>\n",
       "      <td>Warning</td>\n",
       "      <td>Low</td>\n",
       "      <td>9.25</td>\n",
       "      <td>h2_missing</td>\n",
       "      <td>47</td>\n",
       "      <td>0.872727</td>\n",
       "      <td>0.627273</td>\n",
       "    </tr>\n",
       "    <tr>\n",
       "      <th>8</th>\n",
       "      <td>Content: Readability Very Difficult</td>\n",
       "      <td>10693.0</td>\n",
       "      <td>660372.0</td>\n",
       "      <td>0.034333</td>\n",
       "      <td>4.300000</td>\n",
       "      <td>Opportunity</td>\n",
       "      <td>Low</td>\n",
       "      <td>1.30</td>\n",
       "      <td>content_readability_very_difficult</td>\n",
       "      <td>7</td>\n",
       "      <td>0.854545</td>\n",
       "      <td>0.218182</td>\n",
       "    </tr>\n",
       "    <tr>\n",
       "      <th>9</th>\n",
       "      <td>H1: Missing</td>\n",
       "      <td>10079.0</td>\n",
       "      <td>705907.0</td>\n",
       "      <td>0.063833</td>\n",
       "      <td>34.293333</td>\n",
       "      <td>Issue</td>\n",
       "      <td>Medium</td>\n",
       "      <td>17.32</td>\n",
       "      <td>h1_missing</td>\n",
       "      <td>88</td>\n",
       "      <td>0.836364</td>\n",
       "      <td>0.818182</td>\n",
       "    </tr>\n",
       "    <tr>\n",
       "      <th>10</th>\n",
       "      <td>Meta Description: Over 155 Characters</td>\n",
       "      <td>9633.0</td>\n",
       "      <td>747320.0</td>\n",
       "      <td>0.202647</td>\n",
       "      <td>11.691176</td>\n",
       "      <td>Opportunity</td>\n",
       "      <td>Low</td>\n",
       "      <td>10.63</td>\n",
       "      <td>meta_description_over_155_characters</td>\n",
       "      <td>54</td>\n",
       "      <td>0.818182</td>\n",
       "      <td>0.672727</td>\n",
       "    </tr>\n",
       "    <tr>\n",
       "      <th>11</th>\n",
       "      <td>Content: Readability Difficult</td>\n",
       "      <td>9158.0</td>\n",
       "      <td>861015.0</td>\n",
       "      <td>0.076667</td>\n",
       "      <td>21.248333</td>\n",
       "      <td>Opportunity</td>\n",
       "      <td>Low</td>\n",
       "      <td>14.71</td>\n",
       "      <td>content_readability_difficult</td>\n",
       "      <td>79</td>\n",
       "      <td>0.800000</td>\n",
       "      <td>0.727273</td>\n",
       "    </tr>\n",
       "    <tr>\n",
       "      <th>12</th>\n",
       "      <td>H2: Duplicate</td>\n",
       "      <td>7458.0</td>\n",
       "      <td>743258.0</td>\n",
       "      <td>0.077421</td>\n",
       "      <td>19.758947</td>\n",
       "      <td>Opportunity</td>\n",
       "      <td>Low</td>\n",
       "      <td>40.75</td>\n",
       "      <td>h2_duplicate</td>\n",
       "      <td>207</td>\n",
       "      <td>0.781818</td>\n",
       "      <td>0.945455</td>\n",
       "    </tr>\n",
       "    <tr>\n",
       "      <th>13</th>\n",
       "      <td>Meta Description: Below 400 Pixels</td>\n",
       "      <td>5313.0</td>\n",
       "      <td>130164.0</td>\n",
       "      <td>0.098571</td>\n",
       "      <td>8.422857</td>\n",
       "      <td>Opportunity</td>\n",
       "      <td>Low</td>\n",
       "      <td>1.97</td>\n",
       "      <td>meta_description_below_400_pixels</td>\n",
       "      <td>10</td>\n",
       "      <td>0.754545</td>\n",
       "      <td>0.263636</td>\n",
       "    </tr>\n",
       "    <tr>\n",
       "      <th>14</th>\n",
       "      <td>Meta Description: Below 70 Characters</td>\n",
       "      <td>5313.0</td>\n",
       "      <td>130164.0</td>\n",
       "      <td>0.098571</td>\n",
       "      <td>8.422857</td>\n",
       "      <td>Opportunity</td>\n",
       "      <td>Low</td>\n",
       "      <td>1.97</td>\n",
       "      <td>meta_description_below_70_characters</td>\n",
       "      <td>10</td>\n",
       "      <td>0.754545</td>\n",
       "      <td>0.263636</td>\n",
       "    </tr>\n",
       "    <tr>\n",
       "      <th>15</th>\n",
       "      <td>H1: Duplicate</td>\n",
       "      <td>4925.0</td>\n",
       "      <td>714064.0</td>\n",
       "      <td>0.086667</td>\n",
       "      <td>6.703333</td>\n",
       "      <td>Opportunity</td>\n",
       "      <td>Low</td>\n",
       "      <td>0.98</td>\n",
       "      <td>h1_duplicate</td>\n",
       "      <td>5</td>\n",
       "      <td>0.727273</td>\n",
       "      <td>0.172727</td>\n",
       "    </tr>\n",
       "    <tr>\n",
       "      <th>16</th>\n",
       "      <td>Search Console: Non-Indexable with Search Anal...</td>\n",
       "      <td>1709.0</td>\n",
       "      <td>127955.0</td>\n",
       "      <td>0.058750</td>\n",
       "      <td>11.465000</td>\n",
       "      <td>Warning</td>\n",
       "      <td>Low</td>\n",
       "      <td>0.50</td>\n",
       "      <td>search_console_nonindexable_with_search_analyt...</td>\n",
       "      <td>4</td>\n",
       "      <td>0.709091</td>\n",
       "      <td>0.145455</td>\n",
       "    </tr>\n",
       "    <tr>\n",
       "      <th>18</th>\n",
       "      <td>Meta Description: Over 985 Pixels</td>\n",
       "      <td>1427.0</td>\n",
       "      <td>16620.0</td>\n",
       "      <td>0.233000</td>\n",
       "      <td>11.373750</td>\n",
       "      <td>Opportunity</td>\n",
       "      <td>Low</td>\n",
       "      <td>7.68</td>\n",
       "      <td>meta_description_over_985_pixels</td>\n",
       "      <td>39</td>\n",
       "      <td>0.690909</td>\n",
       "      <td>0.545455</td>\n",
       "    </tr>\n",
       "    <tr>\n",
       "      <th>19</th>\n",
       "      <td>Meta Description: Duplicate</td>\n",
       "      <td>1309.0</td>\n",
       "      <td>23839.0</td>\n",
       "      <td>0.103143</td>\n",
       "      <td>30.321429</td>\n",
       "      <td>Opportunity</td>\n",
       "      <td>Low</td>\n",
       "      <td>17.13</td>\n",
       "      <td>meta_description_duplicate</td>\n",
       "      <td>87</td>\n",
       "      <td>0.672727</td>\n",
       "      <td>0.800000</td>\n",
       "    </tr>\n",
       "    <tr>\n",
       "      <th>20</th>\n",
       "      <td>H2: Over 70 Characters</td>\n",
       "      <td>1084.0</td>\n",
       "      <td>41782.0</td>\n",
       "      <td>0.204333</td>\n",
       "      <td>23.581667</td>\n",
       "      <td>Opportunity</td>\n",
       "      <td>Low</td>\n",
       "      <td>2.36</td>\n",
       "      <td>h2_over_70_characters</td>\n",
       "      <td>12</td>\n",
       "      <td>0.654545</td>\n",
       "      <td>0.300000</td>\n",
       "    </tr>\n",
       "    <tr>\n",
       "      <th>21</th>\n",
       "      <td>Page Titles: Over 561 Pixels</td>\n",
       "      <td>647.0</td>\n",
       "      <td>17507.0</td>\n",
       "      <td>0.085571</td>\n",
       "      <td>23.218571</td>\n",
       "      <td>Opportunity</td>\n",
       "      <td>Medium</td>\n",
       "      <td>9.25</td>\n",
       "      <td>page_titles_over_561_pixels</td>\n",
       "      <td>47</td>\n",
       "      <td>0.636364</td>\n",
       "      <td>0.627273</td>\n",
       "    </tr>\n",
       "    <tr>\n",
       "      <th>22</th>\n",
       "      <td>Meta Description: Missing</td>\n",
       "      <td>565.0</td>\n",
       "      <td>12676.0</td>\n",
       "      <td>0.067417</td>\n",
       "      <td>10.001667</td>\n",
       "      <td>Opportunity</td>\n",
       "      <td>Low</td>\n",
       "      <td>9.45</td>\n",
       "      <td>meta_description_missing</td>\n",
       "      <td>48</td>\n",
       "      <td>0.618182</td>\n",
       "      <td>0.654545</td>\n",
       "    </tr>\n",
       "    <tr>\n",
       "      <th>23</th>\n",
       "      <td>Page Titles: Same as H1</td>\n",
       "      <td>473.0</td>\n",
       "      <td>14031.0</td>\n",
       "      <td>0.149000</td>\n",
       "      <td>11.325000</td>\n",
       "      <td>Opportunity</td>\n",
       "      <td>Low</td>\n",
       "      <td>5.51</td>\n",
       "      <td>page_titles_same_as_h1</td>\n",
       "      <td>28</td>\n",
       "      <td>0.600000</td>\n",
       "      <td>0.472727</td>\n",
       "    </tr>\n",
       "    <tr>\n",
       "      <th>24</th>\n",
       "      <td>Links: Pages With High Crawl Depth</td>\n",
       "      <td>115.0</td>\n",
       "      <td>2187.0</td>\n",
       "      <td>0.170800</td>\n",
       "      <td>13.490000</td>\n",
       "      <td>Opportunity</td>\n",
       "      <td>Medium</td>\n",
       "      <td>15.94</td>\n",
       "      <td>links_pages_with_high_crawl_depth</td>\n",
       "      <td>81</td>\n",
       "      <td>0.581818</td>\n",
       "      <td>0.745455</td>\n",
       "    </tr>\n",
       "    <tr>\n",
       "      <th>25</th>\n",
       "      <td>Page Titles: Over 60 Characters</td>\n",
       "      <td>79.0</td>\n",
       "      <td>1959.0</td>\n",
       "      <td>0.107200</td>\n",
       "      <td>12.592000</td>\n",
       "      <td>Opportunity</td>\n",
       "      <td>Medium</td>\n",
       "      <td>6.89</td>\n",
       "      <td>page_titles_over_60_characters</td>\n",
       "      <td>35</td>\n",
       "      <td>0.563636</td>\n",
       "      <td>0.518182</td>\n",
       "    </tr>\n",
       "    <tr>\n",
       "      <th>26</th>\n",
       "      <td>H1: Non-Sequential</td>\n",
       "      <td>78.0</td>\n",
       "      <td>1601.0</td>\n",
       "      <td>0.049000</td>\n",
       "      <td>11.310000</td>\n",
       "      <td>Warning</td>\n",
       "      <td>Low</td>\n",
       "      <td>4.13</td>\n",
       "      <td>h1_nonsequential</td>\n",
       "      <td>21</td>\n",
       "      <td>0.545455</td>\n",
       "      <td>0.400000</td>\n",
       "    </tr>\n",
       "    <tr>\n",
       "      <th>27</th>\n",
       "      <td>Structured Data: Rich Result Validation Errors</td>\n",
       "      <td>58.0</td>\n",
       "      <td>1212.0</td>\n",
       "      <td>0.065500</td>\n",
       "      <td>49.042500</td>\n",
       "      <td>Issue</td>\n",
       "      <td>High</td>\n",
       "      <td>16.54</td>\n",
       "      <td>structured_data_rich_result_validation_errors</td>\n",
       "      <td>84</td>\n",
       "      <td>0.527273</td>\n",
       "      <td>0.781818</td>\n",
       "    </tr>\n",
       "    <tr>\n",
       "      <th>28</th>\n",
       "      <td>Structured Data: Rich Result Validation Warnings</td>\n",
       "      <td>38.0</td>\n",
       "      <td>434.0</td>\n",
       "      <td>0.078667</td>\n",
       "      <td>51.616667</td>\n",
       "      <td>Opportunity</td>\n",
       "      <td>Low</td>\n",
       "      <td>16.34</td>\n",
       "      <td>structured_data_rich_result_validation_warnings</td>\n",
       "      <td>83</td>\n",
       "      <td>0.509091</td>\n",
       "      <td>0.763636</td>\n",
       "    </tr>\n",
       "    <tr>\n",
       "      <th>29</th>\n",
       "      <td>URL: Uppercase</td>\n",
       "      <td>28.0</td>\n",
       "      <td>1558.0</td>\n",
       "      <td>0.018000</td>\n",
       "      <td>7.200000</td>\n",
       "      <td>Warning</td>\n",
       "      <td>Low</td>\n",
       "      <td>6.34</td>\n",
       "      <td>url_uppercase</td>\n",
       "      <td>75</td>\n",
       "      <td>0.490909</td>\n",
       "      <td>0.709091</td>\n",
       "    </tr>\n",
       "    <tr>\n",
       "      <th>30</th>\n",
       "      <td>JavaScript: Contains JavaScript Content</td>\n",
       "      <td>10.0</td>\n",
       "      <td>178.0</td>\n",
       "      <td>0.056000</td>\n",
       "      <td>15.495000</td>\n",
       "      <td>Warning</td>\n",
       "      <td>Medium</td>\n",
       "      <td>2.95</td>\n",
       "      <td>javascript_contains_javascript_content</td>\n",
       "      <td>15</td>\n",
       "      <td>0.472727</td>\n",
       "      <td>0.336364</td>\n",
       "    </tr>\n",
       "    <tr>\n",
       "      <th>31</th>\n",
       "      <td>Canonicals: Missing</td>\n",
       "      <td>8.0</td>\n",
       "      <td>17.0</td>\n",
       "      <td>0.471000</td>\n",
       "      <td>15.940000</td>\n",
       "      <td>Warning</td>\n",
       "      <td>Medium</td>\n",
       "      <td>5.40</td>\n",
       "      <td>canonicals_missing</td>\n",
       "      <td>29</td>\n",
       "      <td>0.454545</td>\n",
       "      <td>0.490909</td>\n",
       "    </tr>\n",
       "    <tr>\n",
       "      <th>32</th>\n",
       "      <td>JavaScript: H1 Updated by JavaScript</td>\n",
       "      <td>6.0</td>\n",
       "      <td>104.0</td>\n",
       "      <td>0.058000</td>\n",
       "      <td>9.810000</td>\n",
       "      <td>Warning</td>\n",
       "      <td>Medium</td>\n",
       "      <td>0.20</td>\n",
       "      <td>javascript_h1_updated_by_javascript</td>\n",
       "      <td>1</td>\n",
       "      <td>0.436364</td>\n",
       "      <td>0.036364</td>\n",
       "    </tr>\n",
       "    <tr>\n",
       "      <th>33</th>\n",
       "      <td>Validation: High Carbon Rating</td>\n",
       "      <td>4.0</td>\n",
       "      <td>74.0</td>\n",
       "      <td>0.054000</td>\n",
       "      <td>21.180000</td>\n",
       "      <td>Opportunity</td>\n",
       "      <td>Low</td>\n",
       "      <td>0.17</td>\n",
       "      <td>validation_high_carbon_rating</td>\n",
       "      <td>2</td>\n",
       "      <td>0.418182</td>\n",
       "      <td>0.090909</td>\n",
       "    </tr>\n",
       "    <tr>\n",
       "      <th>34</th>\n",
       "      <td>JavaScript: Page Title Updated by JavaScript</td>\n",
       "      <td>0.0</td>\n",
       "      <td>0.0</td>\n",
       "      <td>NaN</td>\n",
       "      <td>NaN</td>\n",
       "      <td>Warning</td>\n",
       "      <td>Medium</td>\n",
       "      <td>0.20</td>\n",
       "      <td>javascript_page_title_updated_by_javascript</td>\n",
       "      <td>1</td>\n",
       "      <td>0.209091</td>\n",
       "      <td>0.036364</td>\n",
       "    </tr>\n",
       "    <tr>\n",
       "      <th>35</th>\n",
       "      <td>JavaScript: Meta Description Updated by JavaSc...</td>\n",
       "      <td>0.0</td>\n",
       "      <td>0.0</td>\n",
       "      <td>NaN</td>\n",
       "      <td>NaN</td>\n",
       "      <td>Warning</td>\n",
       "      <td>Medium</td>\n",
       "      <td>0.20</td>\n",
       "      <td>javascript_meta_description_updated_by_javascript</td>\n",
       "      <td>1</td>\n",
       "      <td>0.209091</td>\n",
       "      <td>0.036364</td>\n",
       "    </tr>\n",
       "    <tr>\n",
       "      <th>36</th>\n",
       "      <td>Canonicals: Non-Indexable Canonical</td>\n",
       "      <td>0.0</td>\n",
       "      <td>0.0</td>\n",
       "      <td>NaN</td>\n",
       "      <td>NaN</td>\n",
       "      <td>Issue</td>\n",
       "      <td>High</td>\n",
       "      <td>0.93</td>\n",
       "      <td>canonicals_nonindexable_canonical</td>\n",
       "      <td>5</td>\n",
       "      <td>0.209091</td>\n",
       "      <td>0.172727</td>\n",
       "    </tr>\n",
       "    <tr>\n",
       "      <th>37</th>\n",
       "      <td>URL: Underscores</td>\n",
       "      <td>0.0</td>\n",
       "      <td>0.0</td>\n",
       "      <td>NaN</td>\n",
       "      <td>NaN</td>\n",
       "      <td>Opportunity</td>\n",
       "      <td>Low</td>\n",
       "      <td>10.48</td>\n",
       "      <td>url_underscores</td>\n",
       "      <td>124</td>\n",
       "      <td>0.209091</td>\n",
       "      <td>0.872727</td>\n",
       "    </tr>\n",
       "    <tr>\n",
       "      <th>38</th>\n",
       "      <td>URL: Repetitive Path</td>\n",
       "      <td>0.0</td>\n",
       "      <td>0.0</td>\n",
       "      <td>NaN</td>\n",
       "      <td>NaN</td>\n",
       "      <td>Warning</td>\n",
       "      <td>Low</td>\n",
       "      <td>0.25</td>\n",
       "      <td>url_repetitive_path</td>\n",
       "      <td>3</td>\n",
       "      <td>0.209091</td>\n",
       "      <td>0.127273</td>\n",
       "    </tr>\n",
       "    <tr>\n",
       "      <th>39</th>\n",
       "      <td>URL: Parameters</td>\n",
       "      <td>0.0</td>\n",
       "      <td>0.0</td>\n",
       "      <td>NaN</td>\n",
       "      <td>NaN</td>\n",
       "      <td>Warning</td>\n",
       "      <td>Low</td>\n",
       "      <td>11.50</td>\n",
       "      <td>url_parameters</td>\n",
       "      <td>136</td>\n",
       "      <td>0.209091</td>\n",
       "      <td>0.890909</td>\n",
       "    </tr>\n",
       "    <tr>\n",
       "      <th>40</th>\n",
       "      <td>URL: Over 115 Characters</td>\n",
       "      <td>0.0</td>\n",
       "      <td>0.0</td>\n",
       "      <td>NaN</td>\n",
       "      <td>NaN</td>\n",
       "      <td>Opportunity</td>\n",
       "      <td>Low</td>\n",
       "      <td>1.61</td>\n",
       "      <td>url_over_115_characters</td>\n",
       "      <td>19</td>\n",
       "      <td>0.209091</td>\n",
       "      <td>0.381818</td>\n",
       "    </tr>\n",
       "    <tr>\n",
       "      <th>41</th>\n",
       "      <td>URL: Multiple Slashes</td>\n",
       "      <td>0.0</td>\n",
       "      <td>0.0</td>\n",
       "      <td>NaN</td>\n",
       "      <td>NaN</td>\n",
       "      <td>Issue</td>\n",
       "      <td>Low</td>\n",
       "      <td>0.17</td>\n",
       "      <td>url_multiple_slashes</td>\n",
       "      <td>2</td>\n",
       "      <td>0.209091</td>\n",
       "      <td>0.090909</td>\n",
       "    </tr>\n",
       "    <tr>\n",
       "      <th>42</th>\n",
       "      <td>URL: GA Tracking Parameters</td>\n",
       "      <td>0.0</td>\n",
       "      <td>0.0</td>\n",
       "      <td>NaN</td>\n",
       "      <td>NaN</td>\n",
       "      <td>Warning</td>\n",
       "      <td>Low</td>\n",
       "      <td>9.89</td>\n",
       "      <td>url_ga_tracking_parameters</td>\n",
       "      <td>117</td>\n",
       "      <td>0.209091</td>\n",
       "      <td>0.854545</td>\n",
       "    </tr>\n",
       "    <tr>\n",
       "      <th>43</th>\n",
       "      <td>URL: Contains Space</td>\n",
       "      <td>0.0</td>\n",
       "      <td>0.0</td>\n",
       "      <td>NaN</td>\n",
       "      <td>NaN</td>\n",
       "      <td>Issue</td>\n",
       "      <td>Low</td>\n",
       "      <td>0.17</td>\n",
       "      <td>url_contains_space</td>\n",
       "      <td>2</td>\n",
       "      <td>0.209091</td>\n",
       "      <td>0.090909</td>\n",
       "    </tr>\n",
       "    <tr>\n",
       "      <th>44</th>\n",
       "      <td>Directives: Nofollow</td>\n",
       "      <td>0.0</td>\n",
       "      <td>0.0</td>\n",
       "      <td>NaN</td>\n",
       "      <td>NaN</td>\n",
       "      <td>Warning</td>\n",
       "      <td>High</td>\n",
       "      <td>3.18</td>\n",
       "      <td>directives_nofollow</td>\n",
       "      <td>22</td>\n",
       "      <td>0.209091</td>\n",
       "      <td>0.418182</td>\n",
       "    </tr>\n",
       "    <tr>\n",
       "      <th>45</th>\n",
       "      <td>Directives: Noindex</td>\n",
       "      <td>0.0</td>\n",
       "      <td>0.0</td>\n",
       "      <td>NaN</td>\n",
       "      <td>NaN</td>\n",
       "      <td>Warning</td>\n",
       "      <td>High</td>\n",
       "      <td>3.61</td>\n",
       "      <td>directives_noindex</td>\n",
       "      <td>25</td>\n",
       "      <td>0.209091</td>\n",
       "      <td>0.445455</td>\n",
       "    </tr>\n",
       "    <tr>\n",
       "      <th>46</th>\n",
       "      <td>H1: Over 70 Characters</td>\n",
       "      <td>0.0</td>\n",
       "      <td>0.0</td>\n",
       "      <td>NaN</td>\n",
       "      <td>NaN</td>\n",
       "      <td>Opportunity</td>\n",
       "      <td>Low</td>\n",
       "      <td>4.92</td>\n",
       "      <td>h1_over_70_characters</td>\n",
       "      <td>25</td>\n",
       "      <td>0.209091</td>\n",
       "      <td>0.445455</td>\n",
       "    </tr>\n",
       "    <tr>\n",
       "      <th>47</th>\n",
       "      <td>Images: Alt Text Over 100 Characters</td>\n",
       "      <td>0.0</td>\n",
       "      <td>0.0</td>\n",
       "      <td>NaN</td>\n",
       "      <td>NaN</td>\n",
       "      <td>Opportunity</td>\n",
       "      <td>Low</td>\n",
       "      <td>6.82</td>\n",
       "      <td>images_alt_text_over_100_characters</td>\n",
       "      <td>9</td>\n",
       "      <td>0.209091</td>\n",
       "      <td>0.236364</td>\n",
       "    </tr>\n",
       "    <tr>\n",
       "      <th>48</th>\n",
       "      <td>Search Console: No Search Analytics Data</td>\n",
       "      <td>0.0</td>\n",
       "      <td>0.0</td>\n",
       "      <td>NaN</td>\n",
       "      <td>NaN</td>\n",
       "      <td>Warning</td>\n",
       "      <td>Low</td>\n",
       "      <td>39.17</td>\n",
       "      <td>search_console_no_search_analytics_data</td>\n",
       "      <td>311</td>\n",
       "      <td>0.209091</td>\n",
       "      <td>1.000000</td>\n",
       "    </tr>\n",
       "    <tr>\n",
       "      <th>49</th>\n",
       "      <td>Images: Background Images</td>\n",
       "      <td>0.0</td>\n",
       "      <td>0.0</td>\n",
       "      <td>NaN</td>\n",
       "      <td>NaN</td>\n",
       "      <td>Warning</td>\n",
       "      <td>Low</td>\n",
       "      <td>4.55</td>\n",
       "      <td>images_background_images</td>\n",
       "      <td>6</td>\n",
       "      <td>0.209091</td>\n",
       "      <td>0.200000</td>\n",
       "    </tr>\n",
       "    <tr>\n",
       "      <th>50</th>\n",
       "      <td>Response Codes: Internal Redirect Chain</td>\n",
       "      <td>0.0</td>\n",
       "      <td>0.0</td>\n",
       "      <td>NaN</td>\n",
       "      <td>NaN</td>\n",
       "      <td>Warning</td>\n",
       "      <td>Medium</td>\n",
       "      <td>4.65</td>\n",
       "      <td>response_codes_internal_redirect_chain</td>\n",
       "      <td>55</td>\n",
       "      <td>0.209091</td>\n",
       "      <td>0.690909</td>\n",
       "    </tr>\n",
       "    <tr>\n",
       "      <th>52</th>\n",
       "      <td>Response Codes: Internal Blocked Resource</td>\n",
       "      <td>0.0</td>\n",
       "      <td>0.0</td>\n",
       "      <td>NaN</td>\n",
       "      <td>NaN</td>\n",
       "      <td>Warning</td>\n",
       "      <td>High</td>\n",
       "      <td>21.47</td>\n",
       "      <td>response_codes_internal_blocked_resource</td>\n",
       "      <td>254</td>\n",
       "      <td>0.209091</td>\n",
       "      <td>0.963636</td>\n",
       "    </tr>\n",
       "    <tr>\n",
       "      <th>54</th>\n",
       "      <td>Images: Missing Alt Attribute</td>\n",
       "      <td>0.0</td>\n",
       "      <td>0.0</td>\n",
       "      <td>NaN</td>\n",
       "      <td>NaN</td>\n",
       "      <td>Issue</td>\n",
       "      <td>Low</td>\n",
       "      <td>11.36</td>\n",
       "      <td>images_missing_alt_attribute</td>\n",
       "      <td>15</td>\n",
       "      <td>0.209091</td>\n",
       "      <td>0.336364</td>\n",
       "    </tr>\n",
       "    <tr>\n",
       "      <th>55</th>\n",
       "      <td>Images: Missing Alt Text</td>\n",
       "      <td>0.0</td>\n",
       "      <td>0.0</td>\n",
       "      <td>NaN</td>\n",
       "      <td>NaN</td>\n",
       "      <td>Issue</td>\n",
       "      <td>Low</td>\n",
       "      <td>33.33</td>\n",
       "      <td>images_missing_alt_text</td>\n",
       "      <td>44</td>\n",
       "      <td>0.209091</td>\n",
       "      <td>0.600000</td>\n",
       "    </tr>\n",
       "    <tr>\n",
       "      <th>56</th>\n",
       "      <td>Images: Over 100 KB</td>\n",
       "      <td>0.0</td>\n",
       "      <td>0.0</td>\n",
       "      <td>NaN</td>\n",
       "      <td>NaN</td>\n",
       "      <td>Opportunity</td>\n",
       "      <td>Medium</td>\n",
       "      <td>9.09</td>\n",
       "      <td>images_over_100_kb</td>\n",
       "      <td>12</td>\n",
       "      <td>0.209091</td>\n",
       "      <td>0.300000</td>\n",
       "    </tr>\n",
       "    <tr>\n",
       "      <th>57</th>\n",
       "      <td>Canonicals: Canonicalised</td>\n",
       "      <td>0.0</td>\n",
       "      <td>0.0</td>\n",
       "      <td>NaN</td>\n",
       "      <td>NaN</td>\n",
       "      <td>Warning</td>\n",
       "      <td>High</td>\n",
       "      <td>21.42</td>\n",
       "      <td>canonicals_canonicalised</td>\n",
       "      <td>115</td>\n",
       "      <td>0.209091</td>\n",
       "      <td>0.836364</td>\n",
       "    </tr>\n",
       "  </tbody>\n",
       "</table>\n",
       "</div>"
      ]
     },
     "execution_count": 14,
     "metadata": {},
     "output_type": "execute_result"
    }
   ],
   "execution_count": 14
  },
  {
   "metadata": {},
   "cell_type": "markdown",
   "source": "## Label Data",
   "id": "7797ad4b2a5c506e"
  },
  {
   "metadata": {
    "ExecuteTime": {
     "end_time": "2025-01-17T22:40:59.517445Z",
     "start_time": "2025-01-17T22:40:59.495778Z"
    }
   },
   "cell_type": "code",
   "source": [
    "from src.data import label_data\n",
    "issues_group = label_data(issues_group)\n",
    "issues_group # sorted by impact score"
   ],
   "id": "4b03ddc68b8d5144",
   "outputs": [
    {
     "data": {
      "text/plain": [
       "                                           Issue Name  Clicks_gsc  \\\n",
       "9                                         H1: Missing     10079.0   \n",
       "1                            Structured Data: Missing    294432.0   \n",
       "3                              Page Titles: Duplicate    262377.0   \n",
       "6                          Content: Low Content Pages     15417.0   \n",
       "27     Structured Data: Rich Result Validation Errors        58.0   \n",
       "4                    Page Titles: Below 30 Characters     31447.0   \n",
       "0                                        H2: Multiple    296729.0   \n",
       "5                       Page Titles: Below 200 Pixels     28226.0   \n",
       "12                                      H2: Duplicate      7458.0   \n",
       "11                     Content: Readability Difficult      9158.0   \n",
       "10              Meta Description: Over 155 Characters      9633.0   \n",
       "21                       Page Titles: Over 561 Pixels       647.0   \n",
       "2                                  H2: Non-Sequential    266718.0   \n",
       "24                 Links: Pages With High Crawl Depth       115.0   \n",
       "19                        Meta Description: Duplicate      1309.0   \n",
       "36                Canonicals: Non-Indexable Canonical         0.0   \n",
       "7                                         H2: Missing     12315.0   \n",
       "25                    Page Titles: Over 60 Characters        79.0   \n",
       "8                 Content: Readability Very Difficult     10693.0   \n",
       "18                  Meta Description: Over 985 Pixels      1427.0   \n",
       "14              Meta Description: Below 70 Characters      5313.0   \n",
       "13                 Meta Description: Below 400 Pixels      5313.0   \n",
       "22                          Meta Description: Missing       565.0   \n",
       "15                                      H1: Duplicate      4925.0   \n",
       "23                            Page Titles: Same as H1       473.0   \n",
       "20                             H2: Over 70 Characters      1084.0   \n",
       "28   Structured Data: Rich Result Validation Warnings        38.0   \n",
       "52          Response Codes: Internal Blocked Resource         0.0   \n",
       "57                          Canonicals: Canonicalised         0.0   \n",
       "45                                Directives: Noindex         0.0   \n",
       "44                               Directives: Nofollow         0.0   \n",
       "31                                Canonicals: Missing         8.0   \n",
       "16  Search Console: Non-Indexable with Search Anal...      1709.0   \n",
       "30            JavaScript: Contains JavaScript Content        10.0   \n",
       "56                                Images: Over 100 KB         0.0   \n",
       "55                           Images: Missing Alt Text         0.0   \n",
       "54                      Images: Missing Alt Attribute         0.0   \n",
       "29                                     URL: Uppercase        28.0   \n",
       "41                              URL: Multiple Slashes         0.0   \n",
       "43                                URL: Contains Space         0.0   \n",
       "26                                 H1: Non-Sequential        78.0   \n",
       "32               JavaScript: H1 Updated by JavaScript         6.0   \n",
       "50            Response Codes: Internal Redirect Chain         0.0   \n",
       "33                     Validation: High Carbon Rating         4.0   \n",
       "37                                   URL: Underscores         0.0   \n",
       "46                             H1: Over 70 Characters         0.0   \n",
       "35  JavaScript: Meta Description Updated by JavaSc...         0.0   \n",
       "34       JavaScript: Page Title Updated by JavaScript         0.0   \n",
       "40                           URL: Over 115 Characters         0.0   \n",
       "47               Images: Alt Text Over 100 Characters         0.0   \n",
       "48           Search Console: No Search Analytics Data         0.0   \n",
       "39                                    URL: Parameters         0.0   \n",
       "42                        URL: GA Tracking Parameters         0.0   \n",
       "49                          Images: Background Images         0.0   \n",
       "38                               URL: Repetitive Path         0.0   \n",
       "\n",
       "    Impressions_gsc   CTR_gsc  Position_gsc   Issue Type Issue Priority  \\\n",
       "9          705907.0  0.063833     34.293333        Issue         Medium   \n",
       "1         2674064.0  0.114176     14.156351  Opportunity            Low   \n",
       "3         1013287.0  0.119600     16.334000  Opportunity         Medium   \n",
       "6          785966.0  0.108250     17.142917  Opportunity         Medium   \n",
       "27           1212.0  0.065500     49.042500        Issue           High   \n",
       "4         2201118.0  0.075148      9.181481  Opportunity         Medium   \n",
       "0         3451188.0  0.100333     16.790580      Warning            Low   \n",
       "5         2122594.0  0.085250      6.721875  Opportunity         Medium   \n",
       "12         743258.0  0.077421     19.758947  Opportunity            Low   \n",
       "11         861015.0  0.076667     21.248333  Opportunity            Low   \n",
       "10         747320.0  0.202647     11.691176  Opportunity            Low   \n",
       "21          17507.0  0.085571     23.218571  Opportunity         Medium   \n",
       "2         1065560.0  0.145529     16.250588      Warning            Low   \n",
       "24           2187.0  0.170800     13.490000  Opportunity         Medium   \n",
       "19          23839.0  0.103143     30.321429  Opportunity            Low   \n",
       "36              0.0       NaN           NaN        Issue           High   \n",
       "7          739040.0  0.109400     11.488000      Warning            Low   \n",
       "25           1959.0  0.107200     12.592000  Opportunity         Medium   \n",
       "8          660372.0  0.034333      4.300000  Opportunity            Low   \n",
       "18          16620.0  0.233000     11.373750  Opportunity            Low   \n",
       "14         130164.0  0.098571      8.422857  Opportunity            Low   \n",
       "13         130164.0  0.098571      8.422857  Opportunity            Low   \n",
       "22          12676.0  0.067417     10.001667  Opportunity            Low   \n",
       "15         714064.0  0.086667      6.703333  Opportunity            Low   \n",
       "23          14031.0  0.149000     11.325000  Opportunity            Low   \n",
       "20          41782.0  0.204333     23.581667  Opportunity            Low   \n",
       "28            434.0  0.078667     51.616667  Opportunity            Low   \n",
       "52              0.0       NaN           NaN      Warning           High   \n",
       "57              0.0       NaN           NaN      Warning           High   \n",
       "45              0.0       NaN           NaN      Warning           High   \n",
       "44              0.0       NaN           NaN      Warning           High   \n",
       "31             17.0  0.471000     15.940000      Warning         Medium   \n",
       "16         127955.0  0.058750     11.465000      Warning            Low   \n",
       "30            178.0  0.056000     15.495000      Warning         Medium   \n",
       "56              0.0       NaN           NaN  Opportunity         Medium   \n",
       "55              0.0       NaN           NaN        Issue            Low   \n",
       "54              0.0       NaN           NaN        Issue            Low   \n",
       "29           1558.0  0.018000      7.200000      Warning            Low   \n",
       "41              0.0       NaN           NaN        Issue            Low   \n",
       "43              0.0       NaN           NaN        Issue            Low   \n",
       "26           1601.0  0.049000     11.310000      Warning            Low   \n",
       "32            104.0  0.058000      9.810000      Warning         Medium   \n",
       "50              0.0       NaN           NaN      Warning         Medium   \n",
       "33             74.0  0.054000     21.180000  Opportunity            Low   \n",
       "37              0.0       NaN           NaN  Opportunity            Low   \n",
       "46              0.0       NaN           NaN  Opportunity            Low   \n",
       "35              0.0       NaN           NaN      Warning         Medium   \n",
       "34              0.0       NaN           NaN      Warning         Medium   \n",
       "40              0.0       NaN           NaN  Opportunity            Low   \n",
       "47              0.0       NaN           NaN  Opportunity            Low   \n",
       "48              0.0       NaN           NaN      Warning            Low   \n",
       "39              0.0       NaN           NaN      Warning            Low   \n",
       "42              0.0       NaN           NaN      Warning            Low   \n",
       "49              0.0       NaN           NaN      Warning            Low   \n",
       "38              0.0       NaN           NaN      Warning            Low   \n",
       "\n",
       "    % of Total                                              issue  Address  \\\n",
       "9        17.32                                         h1_missing       88   \n",
       "1        54.13                            structured_data_missing      275   \n",
       "3         7.87                              page_titles_duplicate       40   \n",
       "6        31.10                          content_low_content_pages      167   \n",
       "27       16.54      structured_data_rich_result_validation_errors       84   \n",
       "4         7.87                    page_titles_below_30_characters       40   \n",
       "0        40.16                                        h2_multiple      204   \n",
       "5         3.54                       page_titles_below_200_pixels       18   \n",
       "12       40.75                                       h2_duplicate      207   \n",
       "11       14.71                      content_readability_difficult       79   \n",
       "10       10.63               meta_description_over_155_characters       54   \n",
       "21        9.25                        page_titles_over_561_pixels       47   \n",
       "2         6.89                                   h2_nonsequential       35   \n",
       "24       15.94                  links_pages_with_high_crawl_depth       81   \n",
       "19       17.13                         meta_description_duplicate       87   \n",
       "36        0.93                  canonicals_nonindexable_canonical        5   \n",
       "7         9.25                                         h2_missing       47   \n",
       "25        6.89                     page_titles_over_60_characters       35   \n",
       "8         1.30                 content_readability_very_difficult        7   \n",
       "18        7.68                   meta_description_over_985_pixels       39   \n",
       "14        1.97               meta_description_below_70_characters       10   \n",
       "13        1.97                  meta_description_below_400_pixels       10   \n",
       "22        9.45                           meta_description_missing       48   \n",
       "15        0.98                                       h1_duplicate        5   \n",
       "23        5.51                             page_titles_same_as_h1       28   \n",
       "20        2.36                              h2_over_70_characters       12   \n",
       "28       16.34    structured_data_rich_result_validation_warnings       83   \n",
       "52       21.47           response_codes_internal_blocked_resource      254   \n",
       "57       21.42                           canonicals_canonicalised      115   \n",
       "45        3.61                                 directives_noindex       25   \n",
       "44        3.18                                directives_nofollow       22   \n",
       "31        5.40                                 canonicals_missing       29   \n",
       "16        0.50  search_console_nonindexable_with_search_analyt...        4   \n",
       "30        2.95             javascript_contains_javascript_content       15   \n",
       "56        9.09                                 images_over_100_kb       12   \n",
       "55       33.33                            images_missing_alt_text       44   \n",
       "54       11.36                       images_missing_alt_attribute       15   \n",
       "29        6.34                                      url_uppercase       75   \n",
       "41        0.17                               url_multiple_slashes        2   \n",
       "43        0.17                                 url_contains_space        2   \n",
       "26        4.13                                   h1_nonsequential       21   \n",
       "32        0.20                javascript_h1_updated_by_javascript        1   \n",
       "50        4.65             response_codes_internal_redirect_chain       55   \n",
       "33        0.17                      validation_high_carbon_rating        2   \n",
       "37       10.48                                    url_underscores      124   \n",
       "46        4.92                              h1_over_70_characters       25   \n",
       "35        0.20  javascript_meta_description_updated_by_javascript        1   \n",
       "34        0.20        javascript_page_title_updated_by_javascript        1   \n",
       "40        1.61                            url_over_115_characters       19   \n",
       "47        6.82                images_alt_text_over_100_characters        9   \n",
       "48       39.17            search_console_no_search_analytics_data      311   \n",
       "39       11.50                                     url_parameters      136   \n",
       "42        9.89                         url_ga_tracking_parameters      117   \n",
       "49        4.55                           images_background_images        6   \n",
       "38        0.25                                url_repetitive_path        3   \n",
       "\n",
       "    pct_rank_clicks  pct_rank_urls  Priority_Score  Type_Score  Impact_Score  \\\n",
       "9          0.836364       0.818182               3           5     74.054785   \n",
       "1          0.981818       0.981818               1           3     71.080672   \n",
       "3          0.945455       0.572727               3           3     70.244260   \n",
       "6          0.890909       0.909091               3           3     70.207097   \n",
       "27         0.527273       0.781818               5           5     65.013762   \n",
       "4          0.927273       0.572727               3           3     64.933087   \n",
       "0          1.000000       0.927273               1           1     62.181818   \n",
       "5          0.909091       0.363636               3           3     59.663425   \n",
       "12         0.781818       0.945455               1           3     56.709738   \n",
       "11         0.800000       0.727273               1           3     53.264678   \n",
       "10         0.818182       0.672727               1           3     52.599933   \n",
       "21         0.636364       0.627273               3           3     52.392657   \n",
       "2          0.963636       0.518182               1           1     51.229609   \n",
       "24         0.581818       0.745455               3           3     49.160528   \n",
       "19         0.672727       0.800000               1           3     47.543720   \n",
       "36         0.209091       0.172727               5           5     45.902893   \n",
       "7          0.872727       0.627273               1           1     45.110290   \n",
       "25         0.563636       0.518182               3           3     44.734571   \n",
       "8          0.854545       0.218182               1           3     43.749282   \n",
       "18         0.690909       0.545455               1           3     43.716004   \n",
       "14         0.754545       0.263636               1           3     42.396252   \n",
       "13         0.754545       0.263636               1           3     42.396252   \n",
       "22         0.618182       0.654545               1           3     42.206901   \n",
       "15         0.727273       0.172727               1           3     40.383097   \n",
       "23         0.600000       0.472727               1           3     38.759778   \n",
       "20         0.654545       0.300000               1           3     38.549602   \n",
       "28         0.509091       0.763636               1           3     35.441374   \n",
       "52         0.209091       0.963636               5           1     34.037190   \n",
       "57         0.209091       0.836364               5           1     33.371901   \n",
       "45         0.209091       0.445455               5           1     31.328512   \n",
       "44         0.209091       0.418182               5           1     31.185950   \n",
       "31         0.454545       0.490909               3           1     29.809760   \n",
       "16         0.709091       0.145455               1           1     29.302101   \n",
       "30         0.472727       0.336364               3           1     28.684219   \n",
       "56         0.209091       0.300000               3           3     28.568182   \n",
       "55         0.209091       0.600000               1           5     28.136364   \n",
       "54         0.209091       0.336364               1           5     26.758264   \n",
       "29         0.490909       0.709091               1           1     25.719483   \n",
       "41         0.209091       0.090909               1           5     25.475207   \n",
       "43         0.209091       0.090909               1           5     25.475207   \n",
       "26         0.545455       0.400000               1           1     24.857516   \n",
       "32         0.436364       0.036364               3           1     24.029601   \n",
       "50         0.209091       0.690909               3           1     22.611570   \n",
       "33         0.418182       0.090909               1           3     21.782233   \n",
       "37         0.209091       0.872727               1           3     21.561983   \n",
       "46         0.209091       0.445455               1           3     19.328512   \n",
       "35         0.209091       0.036364               3           1     19.190083   \n",
       "34         0.209091       0.036364               3           1     19.190083   \n",
       "40         0.209091       0.381818               1           3     18.995868   \n",
       "47         0.209091       0.236364               1           3     18.235537   \n",
       "48         0.209091       1.000000               1           1     14.227273   \n",
       "39         0.209091       0.890909               1           1     13.657025   \n",
       "42         0.209091       0.854545               1           1     13.466942   \n",
       "49         0.209091       0.200000               1           1     10.045455   \n",
       "38         0.209091       0.127273               1           1      9.665289   \n",
       "\n",
       "    pct_rank_impact Impact_Score_Quadrant  \n",
       "9          1.000000                  High  \n",
       "1          0.981818                  High  \n",
       "3          0.963636                  High  \n",
       "6          0.945455                  High  \n",
       "27         0.927273                  High  \n",
       "4          0.909091                  High  \n",
       "0          0.890909                  High  \n",
       "5          0.872727                  High  \n",
       "12         0.854545                  High  \n",
       "11         0.836364                  High  \n",
       "10         0.818182                  High  \n",
       "21         0.800000                  High  \n",
       "2          0.781818                  High  \n",
       "24         0.763636                  High  \n",
       "19         0.745455                Medium  \n",
       "36         0.727273                Medium  \n",
       "7          0.709091                Medium  \n",
       "25         0.690909                Medium  \n",
       "8          0.672727                Medium  \n",
       "18         0.654545                Medium  \n",
       "14         0.627273                Medium  \n",
       "13         0.627273                Medium  \n",
       "22         0.600000                Medium  \n",
       "15         0.581818                Medium  \n",
       "23         0.563636                Medium  \n",
       "20         0.545455                Medium  \n",
       "28         0.527273                Medium  \n",
       "52         0.509091                   Low  \n",
       "57         0.490909                   Low  \n",
       "45         0.472727                   Low  \n",
       "44         0.454545                   Low  \n",
       "31         0.436364                   Low  \n",
       "16         0.418182                   Low  \n",
       "30         0.400000                   Low  \n",
       "56         0.381818                   Low  \n",
       "55         0.363636                   Low  \n",
       "54         0.345455                   Low  \n",
       "29         0.327273                   Low  \n",
       "41         0.300000                   Low  \n",
       "43         0.300000                   Low  \n",
       "26         0.272727                   Low  \n",
       "32         0.254545               Backlog  \n",
       "50         0.236364               Backlog  \n",
       "33         0.218182               Backlog  \n",
       "37         0.200000               Backlog  \n",
       "46         0.181818               Backlog  \n",
       "35         0.154545               Backlog  \n",
       "34         0.154545               Backlog  \n",
       "40         0.127273               Backlog  \n",
       "47         0.109091               Backlog  \n",
       "48         0.090909               Backlog  \n",
       "39         0.072727               Backlog  \n",
       "42         0.054545               Backlog  \n",
       "49         0.036364               Backlog  \n",
       "38         0.018182               Backlog  "
      ],
      "text/html": [
       "<div>\n",
       "<style scoped>\n",
       "    .dataframe tbody tr th:only-of-type {\n",
       "        vertical-align: middle;\n",
       "    }\n",
       "\n",
       "    .dataframe tbody tr th {\n",
       "        vertical-align: top;\n",
       "    }\n",
       "\n",
       "    .dataframe thead th {\n",
       "        text-align: right;\n",
       "    }\n",
       "</style>\n",
       "<table border=\"1\" class=\"dataframe\">\n",
       "  <thead>\n",
       "    <tr style=\"text-align: right;\">\n",
       "      <th></th>\n",
       "      <th>Issue Name</th>\n",
       "      <th>Clicks_gsc</th>\n",
       "      <th>Impressions_gsc</th>\n",
       "      <th>CTR_gsc</th>\n",
       "      <th>Position_gsc</th>\n",
       "      <th>Issue Type</th>\n",
       "      <th>Issue Priority</th>\n",
       "      <th>% of Total</th>\n",
       "      <th>issue</th>\n",
       "      <th>Address</th>\n",
       "      <th>pct_rank_clicks</th>\n",
       "      <th>pct_rank_urls</th>\n",
       "      <th>Priority_Score</th>\n",
       "      <th>Type_Score</th>\n",
       "      <th>Impact_Score</th>\n",
       "      <th>pct_rank_impact</th>\n",
       "      <th>Impact_Score_Quadrant</th>\n",
       "    </tr>\n",
       "  </thead>\n",
       "  <tbody>\n",
       "    <tr>\n",
       "      <th>9</th>\n",
       "      <td>H1: Missing</td>\n",
       "      <td>10079.0</td>\n",
       "      <td>705907.0</td>\n",
       "      <td>0.063833</td>\n",
       "      <td>34.293333</td>\n",
       "      <td>Issue</td>\n",
       "      <td>Medium</td>\n",
       "      <td>17.32</td>\n",
       "      <td>h1_missing</td>\n",
       "      <td>88</td>\n",
       "      <td>0.836364</td>\n",
       "      <td>0.818182</td>\n",
       "      <td>3</td>\n",
       "      <td>5</td>\n",
       "      <td>74.054785</td>\n",
       "      <td>1.000000</td>\n",
       "      <td>High</td>\n",
       "    </tr>\n",
       "    <tr>\n",
       "      <th>1</th>\n",
       "      <td>Structured Data: Missing</td>\n",
       "      <td>294432.0</td>\n",
       "      <td>2674064.0</td>\n",
       "      <td>0.114176</td>\n",
       "      <td>14.156351</td>\n",
       "      <td>Opportunity</td>\n",
       "      <td>Low</td>\n",
       "      <td>54.13</td>\n",
       "      <td>structured_data_missing</td>\n",
       "      <td>275</td>\n",
       "      <td>0.981818</td>\n",
       "      <td>0.981818</td>\n",
       "      <td>1</td>\n",
       "      <td>3</td>\n",
       "      <td>71.080672</td>\n",
       "      <td>0.981818</td>\n",
       "      <td>High</td>\n",
       "    </tr>\n",
       "    <tr>\n",
       "      <th>3</th>\n",
       "      <td>Page Titles: Duplicate</td>\n",
       "      <td>262377.0</td>\n",
       "      <td>1013287.0</td>\n",
       "      <td>0.119600</td>\n",
       "      <td>16.334000</td>\n",
       "      <td>Opportunity</td>\n",
       "      <td>Medium</td>\n",
       "      <td>7.87</td>\n",
       "      <td>page_titles_duplicate</td>\n",
       "      <td>40</td>\n",
       "      <td>0.945455</td>\n",
       "      <td>0.572727</td>\n",
       "      <td>3</td>\n",
       "      <td>3</td>\n",
       "      <td>70.244260</td>\n",
       "      <td>0.963636</td>\n",
       "      <td>High</td>\n",
       "    </tr>\n",
       "    <tr>\n",
       "      <th>6</th>\n",
       "      <td>Content: Low Content Pages</td>\n",
       "      <td>15417.0</td>\n",
       "      <td>785966.0</td>\n",
       "      <td>0.108250</td>\n",
       "      <td>17.142917</td>\n",
       "      <td>Opportunity</td>\n",
       "      <td>Medium</td>\n",
       "      <td>31.10</td>\n",
       "      <td>content_low_content_pages</td>\n",
       "      <td>167</td>\n",
       "      <td>0.890909</td>\n",
       "      <td>0.909091</td>\n",
       "      <td>3</td>\n",
       "      <td>3</td>\n",
       "      <td>70.207097</td>\n",
       "      <td>0.945455</td>\n",
       "      <td>High</td>\n",
       "    </tr>\n",
       "    <tr>\n",
       "      <th>27</th>\n",
       "      <td>Structured Data: Rich Result Validation Errors</td>\n",
       "      <td>58.0</td>\n",
       "      <td>1212.0</td>\n",
       "      <td>0.065500</td>\n",
       "      <td>49.042500</td>\n",
       "      <td>Issue</td>\n",
       "      <td>High</td>\n",
       "      <td>16.54</td>\n",
       "      <td>structured_data_rich_result_validation_errors</td>\n",
       "      <td>84</td>\n",
       "      <td>0.527273</td>\n",
       "      <td>0.781818</td>\n",
       "      <td>5</td>\n",
       "      <td>5</td>\n",
       "      <td>65.013762</td>\n",
       "      <td>0.927273</td>\n",
       "      <td>High</td>\n",
       "    </tr>\n",
       "    <tr>\n",
       "      <th>4</th>\n",
       "      <td>Page Titles: Below 30 Characters</td>\n",
       "      <td>31447.0</td>\n",
       "      <td>2201118.0</td>\n",
       "      <td>0.075148</td>\n",
       "      <td>9.181481</td>\n",
       "      <td>Opportunity</td>\n",
       "      <td>Medium</td>\n",
       "      <td>7.87</td>\n",
       "      <td>page_titles_below_30_characters</td>\n",
       "      <td>40</td>\n",
       "      <td>0.927273</td>\n",
       "      <td>0.572727</td>\n",
       "      <td>3</td>\n",
       "      <td>3</td>\n",
       "      <td>64.933087</td>\n",
       "      <td>0.909091</td>\n",
       "      <td>High</td>\n",
       "    </tr>\n",
       "    <tr>\n",
       "      <th>0</th>\n",
       "      <td>H2: Multiple</td>\n",
       "      <td>296729.0</td>\n",
       "      <td>3451188.0</td>\n",
       "      <td>0.100333</td>\n",
       "      <td>16.790580</td>\n",
       "      <td>Warning</td>\n",
       "      <td>Low</td>\n",
       "      <td>40.16</td>\n",
       "      <td>h2_multiple</td>\n",
       "      <td>204</td>\n",
       "      <td>1.000000</td>\n",
       "      <td>0.927273</td>\n",
       "      <td>1</td>\n",
       "      <td>1</td>\n",
       "      <td>62.181818</td>\n",
       "      <td>0.890909</td>\n",
       "      <td>High</td>\n",
       "    </tr>\n",
       "    <tr>\n",
       "      <th>5</th>\n",
       "      <td>Page Titles: Below 200 Pixels</td>\n",
       "      <td>28226.0</td>\n",
       "      <td>2122594.0</td>\n",
       "      <td>0.085250</td>\n",
       "      <td>6.721875</td>\n",
       "      <td>Opportunity</td>\n",
       "      <td>Medium</td>\n",
       "      <td>3.54</td>\n",
       "      <td>page_titles_below_200_pixels</td>\n",
       "      <td>18</td>\n",
       "      <td>0.909091</td>\n",
       "      <td>0.363636</td>\n",
       "      <td>3</td>\n",
       "      <td>3</td>\n",
       "      <td>59.663425</td>\n",
       "      <td>0.872727</td>\n",
       "      <td>High</td>\n",
       "    </tr>\n",
       "    <tr>\n",
       "      <th>12</th>\n",
       "      <td>H2: Duplicate</td>\n",
       "      <td>7458.0</td>\n",
       "      <td>743258.0</td>\n",
       "      <td>0.077421</td>\n",
       "      <td>19.758947</td>\n",
       "      <td>Opportunity</td>\n",
       "      <td>Low</td>\n",
       "      <td>40.75</td>\n",
       "      <td>h2_duplicate</td>\n",
       "      <td>207</td>\n",
       "      <td>0.781818</td>\n",
       "      <td>0.945455</td>\n",
       "      <td>1</td>\n",
       "      <td>3</td>\n",
       "      <td>56.709738</td>\n",
       "      <td>0.854545</td>\n",
       "      <td>High</td>\n",
       "    </tr>\n",
       "    <tr>\n",
       "      <th>11</th>\n",
       "      <td>Content: Readability Difficult</td>\n",
       "      <td>9158.0</td>\n",
       "      <td>861015.0</td>\n",
       "      <td>0.076667</td>\n",
       "      <td>21.248333</td>\n",
       "      <td>Opportunity</td>\n",
       "      <td>Low</td>\n",
       "      <td>14.71</td>\n",
       "      <td>content_readability_difficult</td>\n",
       "      <td>79</td>\n",
       "      <td>0.800000</td>\n",
       "      <td>0.727273</td>\n",
       "      <td>1</td>\n",
       "      <td>3</td>\n",
       "      <td>53.264678</td>\n",
       "      <td>0.836364</td>\n",
       "      <td>High</td>\n",
       "    </tr>\n",
       "    <tr>\n",
       "      <th>10</th>\n",
       "      <td>Meta Description: Over 155 Characters</td>\n",
       "      <td>9633.0</td>\n",
       "      <td>747320.0</td>\n",
       "      <td>0.202647</td>\n",
       "      <td>11.691176</td>\n",
       "      <td>Opportunity</td>\n",
       "      <td>Low</td>\n",
       "      <td>10.63</td>\n",
       "      <td>meta_description_over_155_characters</td>\n",
       "      <td>54</td>\n",
       "      <td>0.818182</td>\n",
       "      <td>0.672727</td>\n",
       "      <td>1</td>\n",
       "      <td>3</td>\n",
       "      <td>52.599933</td>\n",
       "      <td>0.818182</td>\n",
       "      <td>High</td>\n",
       "    </tr>\n",
       "    <tr>\n",
       "      <th>21</th>\n",
       "      <td>Page Titles: Over 561 Pixels</td>\n",
       "      <td>647.0</td>\n",
       "      <td>17507.0</td>\n",
       "      <td>0.085571</td>\n",
       "      <td>23.218571</td>\n",
       "      <td>Opportunity</td>\n",
       "      <td>Medium</td>\n",
       "      <td>9.25</td>\n",
       "      <td>page_titles_over_561_pixels</td>\n",
       "      <td>47</td>\n",
       "      <td>0.636364</td>\n",
       "      <td>0.627273</td>\n",
       "      <td>3</td>\n",
       "      <td>3</td>\n",
       "      <td>52.392657</td>\n",
       "      <td>0.800000</td>\n",
       "      <td>High</td>\n",
       "    </tr>\n",
       "    <tr>\n",
       "      <th>2</th>\n",
       "      <td>H2: Non-Sequential</td>\n",
       "      <td>266718.0</td>\n",
       "      <td>1065560.0</td>\n",
       "      <td>0.145529</td>\n",
       "      <td>16.250588</td>\n",
       "      <td>Warning</td>\n",
       "      <td>Low</td>\n",
       "      <td>6.89</td>\n",
       "      <td>h2_nonsequential</td>\n",
       "      <td>35</td>\n",
       "      <td>0.963636</td>\n",
       "      <td>0.518182</td>\n",
       "      <td>1</td>\n",
       "      <td>1</td>\n",
       "      <td>51.229609</td>\n",
       "      <td>0.781818</td>\n",
       "      <td>High</td>\n",
       "    </tr>\n",
       "    <tr>\n",
       "      <th>24</th>\n",
       "      <td>Links: Pages With High Crawl Depth</td>\n",
       "      <td>115.0</td>\n",
       "      <td>2187.0</td>\n",
       "      <td>0.170800</td>\n",
       "      <td>13.490000</td>\n",
       "      <td>Opportunity</td>\n",
       "      <td>Medium</td>\n",
       "      <td>15.94</td>\n",
       "      <td>links_pages_with_high_crawl_depth</td>\n",
       "      <td>81</td>\n",
       "      <td>0.581818</td>\n",
       "      <td>0.745455</td>\n",
       "      <td>3</td>\n",
       "      <td>3</td>\n",
       "      <td>49.160528</td>\n",
       "      <td>0.763636</td>\n",
       "      <td>High</td>\n",
       "    </tr>\n",
       "    <tr>\n",
       "      <th>19</th>\n",
       "      <td>Meta Description: Duplicate</td>\n",
       "      <td>1309.0</td>\n",
       "      <td>23839.0</td>\n",
       "      <td>0.103143</td>\n",
       "      <td>30.321429</td>\n",
       "      <td>Opportunity</td>\n",
       "      <td>Low</td>\n",
       "      <td>17.13</td>\n",
       "      <td>meta_description_duplicate</td>\n",
       "      <td>87</td>\n",
       "      <td>0.672727</td>\n",
       "      <td>0.800000</td>\n",
       "      <td>1</td>\n",
       "      <td>3</td>\n",
       "      <td>47.543720</td>\n",
       "      <td>0.745455</td>\n",
       "      <td>Medium</td>\n",
       "    </tr>\n",
       "    <tr>\n",
       "      <th>36</th>\n",
       "      <td>Canonicals: Non-Indexable Canonical</td>\n",
       "      <td>0.0</td>\n",
       "      <td>0.0</td>\n",
       "      <td>NaN</td>\n",
       "      <td>NaN</td>\n",
       "      <td>Issue</td>\n",
       "      <td>High</td>\n",
       "      <td>0.93</td>\n",
       "      <td>canonicals_nonindexable_canonical</td>\n",
       "      <td>5</td>\n",
       "      <td>0.209091</td>\n",
       "      <td>0.172727</td>\n",
       "      <td>5</td>\n",
       "      <td>5</td>\n",
       "      <td>45.902893</td>\n",
       "      <td>0.727273</td>\n",
       "      <td>Medium</td>\n",
       "    </tr>\n",
       "    <tr>\n",
       "      <th>7</th>\n",
       "      <td>H2: Missing</td>\n",
       "      <td>12315.0</td>\n",
       "      <td>739040.0</td>\n",
       "      <td>0.109400</td>\n",
       "      <td>11.488000</td>\n",
       "      <td>Warning</td>\n",
       "      <td>Low</td>\n",
       "      <td>9.25</td>\n",
       "      <td>h2_missing</td>\n",
       "      <td>47</td>\n",
       "      <td>0.872727</td>\n",
       "      <td>0.627273</td>\n",
       "      <td>1</td>\n",
       "      <td>1</td>\n",
       "      <td>45.110290</td>\n",
       "      <td>0.709091</td>\n",
       "      <td>Medium</td>\n",
       "    </tr>\n",
       "    <tr>\n",
       "      <th>25</th>\n",
       "      <td>Page Titles: Over 60 Characters</td>\n",
       "      <td>79.0</td>\n",
       "      <td>1959.0</td>\n",
       "      <td>0.107200</td>\n",
       "      <td>12.592000</td>\n",
       "      <td>Opportunity</td>\n",
       "      <td>Medium</td>\n",
       "      <td>6.89</td>\n",
       "      <td>page_titles_over_60_characters</td>\n",
       "      <td>35</td>\n",
       "      <td>0.563636</td>\n",
       "      <td>0.518182</td>\n",
       "      <td>3</td>\n",
       "      <td>3</td>\n",
       "      <td>44.734571</td>\n",
       "      <td>0.690909</td>\n",
       "      <td>Medium</td>\n",
       "    </tr>\n",
       "    <tr>\n",
       "      <th>8</th>\n",
       "      <td>Content: Readability Very Difficult</td>\n",
       "      <td>10693.0</td>\n",
       "      <td>660372.0</td>\n",
       "      <td>0.034333</td>\n",
       "      <td>4.300000</td>\n",
       "      <td>Opportunity</td>\n",
       "      <td>Low</td>\n",
       "      <td>1.30</td>\n",
       "      <td>content_readability_very_difficult</td>\n",
       "      <td>7</td>\n",
       "      <td>0.854545</td>\n",
       "      <td>0.218182</td>\n",
       "      <td>1</td>\n",
       "      <td>3</td>\n",
       "      <td>43.749282</td>\n",
       "      <td>0.672727</td>\n",
       "      <td>Medium</td>\n",
       "    </tr>\n",
       "    <tr>\n",
       "      <th>18</th>\n",
       "      <td>Meta Description: Over 985 Pixels</td>\n",
       "      <td>1427.0</td>\n",
       "      <td>16620.0</td>\n",
       "      <td>0.233000</td>\n",
       "      <td>11.373750</td>\n",
       "      <td>Opportunity</td>\n",
       "      <td>Low</td>\n",
       "      <td>7.68</td>\n",
       "      <td>meta_description_over_985_pixels</td>\n",
       "      <td>39</td>\n",
       "      <td>0.690909</td>\n",
       "      <td>0.545455</td>\n",
       "      <td>1</td>\n",
       "      <td>3</td>\n",
       "      <td>43.716004</td>\n",
       "      <td>0.654545</td>\n",
       "      <td>Medium</td>\n",
       "    </tr>\n",
       "    <tr>\n",
       "      <th>14</th>\n",
       "      <td>Meta Description: Below 70 Characters</td>\n",
       "      <td>5313.0</td>\n",
       "      <td>130164.0</td>\n",
       "      <td>0.098571</td>\n",
       "      <td>8.422857</td>\n",
       "      <td>Opportunity</td>\n",
       "      <td>Low</td>\n",
       "      <td>1.97</td>\n",
       "      <td>meta_description_below_70_characters</td>\n",
       "      <td>10</td>\n",
       "      <td>0.754545</td>\n",
       "      <td>0.263636</td>\n",
       "      <td>1</td>\n",
       "      <td>3</td>\n",
       "      <td>42.396252</td>\n",
       "      <td>0.627273</td>\n",
       "      <td>Medium</td>\n",
       "    </tr>\n",
       "    <tr>\n",
       "      <th>13</th>\n",
       "      <td>Meta Description: Below 400 Pixels</td>\n",
       "      <td>5313.0</td>\n",
       "      <td>130164.0</td>\n",
       "      <td>0.098571</td>\n",
       "      <td>8.422857</td>\n",
       "      <td>Opportunity</td>\n",
       "      <td>Low</td>\n",
       "      <td>1.97</td>\n",
       "      <td>meta_description_below_400_pixels</td>\n",
       "      <td>10</td>\n",
       "      <td>0.754545</td>\n",
       "      <td>0.263636</td>\n",
       "      <td>1</td>\n",
       "      <td>3</td>\n",
       "      <td>42.396252</td>\n",
       "      <td>0.627273</td>\n",
       "      <td>Medium</td>\n",
       "    </tr>\n",
       "    <tr>\n",
       "      <th>22</th>\n",
       "      <td>Meta Description: Missing</td>\n",
       "      <td>565.0</td>\n",
       "      <td>12676.0</td>\n",
       "      <td>0.067417</td>\n",
       "      <td>10.001667</td>\n",
       "      <td>Opportunity</td>\n",
       "      <td>Low</td>\n",
       "      <td>9.45</td>\n",
       "      <td>meta_description_missing</td>\n",
       "      <td>48</td>\n",
       "      <td>0.618182</td>\n",
       "      <td>0.654545</td>\n",
       "      <td>1</td>\n",
       "      <td>3</td>\n",
       "      <td>42.206901</td>\n",
       "      <td>0.600000</td>\n",
       "      <td>Medium</td>\n",
       "    </tr>\n",
       "    <tr>\n",
       "      <th>15</th>\n",
       "      <td>H1: Duplicate</td>\n",
       "      <td>4925.0</td>\n",
       "      <td>714064.0</td>\n",
       "      <td>0.086667</td>\n",
       "      <td>6.703333</td>\n",
       "      <td>Opportunity</td>\n",
       "      <td>Low</td>\n",
       "      <td>0.98</td>\n",
       "      <td>h1_duplicate</td>\n",
       "      <td>5</td>\n",
       "      <td>0.727273</td>\n",
       "      <td>0.172727</td>\n",
       "      <td>1</td>\n",
       "      <td>3</td>\n",
       "      <td>40.383097</td>\n",
       "      <td>0.581818</td>\n",
       "      <td>Medium</td>\n",
       "    </tr>\n",
       "    <tr>\n",
       "      <th>23</th>\n",
       "      <td>Page Titles: Same as H1</td>\n",
       "      <td>473.0</td>\n",
       "      <td>14031.0</td>\n",
       "      <td>0.149000</td>\n",
       "      <td>11.325000</td>\n",
       "      <td>Opportunity</td>\n",
       "      <td>Low</td>\n",
       "      <td>5.51</td>\n",
       "      <td>page_titles_same_as_h1</td>\n",
       "      <td>28</td>\n",
       "      <td>0.600000</td>\n",
       "      <td>0.472727</td>\n",
       "      <td>1</td>\n",
       "      <td>3</td>\n",
       "      <td>38.759778</td>\n",
       "      <td>0.563636</td>\n",
       "      <td>Medium</td>\n",
       "    </tr>\n",
       "    <tr>\n",
       "      <th>20</th>\n",
       "      <td>H2: Over 70 Characters</td>\n",
       "      <td>1084.0</td>\n",
       "      <td>41782.0</td>\n",
       "      <td>0.204333</td>\n",
       "      <td>23.581667</td>\n",
       "      <td>Opportunity</td>\n",
       "      <td>Low</td>\n",
       "      <td>2.36</td>\n",
       "      <td>h2_over_70_characters</td>\n",
       "      <td>12</td>\n",
       "      <td>0.654545</td>\n",
       "      <td>0.300000</td>\n",
       "      <td>1</td>\n",
       "      <td>3</td>\n",
       "      <td>38.549602</td>\n",
       "      <td>0.545455</td>\n",
       "      <td>Medium</td>\n",
       "    </tr>\n",
       "    <tr>\n",
       "      <th>28</th>\n",
       "      <td>Structured Data: Rich Result Validation Warnings</td>\n",
       "      <td>38.0</td>\n",
       "      <td>434.0</td>\n",
       "      <td>0.078667</td>\n",
       "      <td>51.616667</td>\n",
       "      <td>Opportunity</td>\n",
       "      <td>Low</td>\n",
       "      <td>16.34</td>\n",
       "      <td>structured_data_rich_result_validation_warnings</td>\n",
       "      <td>83</td>\n",
       "      <td>0.509091</td>\n",
       "      <td>0.763636</td>\n",
       "      <td>1</td>\n",
       "      <td>3</td>\n",
       "      <td>35.441374</td>\n",
       "      <td>0.527273</td>\n",
       "      <td>Medium</td>\n",
       "    </tr>\n",
       "    <tr>\n",
       "      <th>52</th>\n",
       "      <td>Response Codes: Internal Blocked Resource</td>\n",
       "      <td>0.0</td>\n",
       "      <td>0.0</td>\n",
       "      <td>NaN</td>\n",
       "      <td>NaN</td>\n",
       "      <td>Warning</td>\n",
       "      <td>High</td>\n",
       "      <td>21.47</td>\n",
       "      <td>response_codes_internal_blocked_resource</td>\n",
       "      <td>254</td>\n",
       "      <td>0.209091</td>\n",
       "      <td>0.963636</td>\n",
       "      <td>5</td>\n",
       "      <td>1</td>\n",
       "      <td>34.037190</td>\n",
       "      <td>0.509091</td>\n",
       "      <td>Low</td>\n",
       "    </tr>\n",
       "    <tr>\n",
       "      <th>57</th>\n",
       "      <td>Canonicals: Canonicalised</td>\n",
       "      <td>0.0</td>\n",
       "      <td>0.0</td>\n",
       "      <td>NaN</td>\n",
       "      <td>NaN</td>\n",
       "      <td>Warning</td>\n",
       "      <td>High</td>\n",
       "      <td>21.42</td>\n",
       "      <td>canonicals_canonicalised</td>\n",
       "      <td>115</td>\n",
       "      <td>0.209091</td>\n",
       "      <td>0.836364</td>\n",
       "      <td>5</td>\n",
       "      <td>1</td>\n",
       "      <td>33.371901</td>\n",
       "      <td>0.490909</td>\n",
       "      <td>Low</td>\n",
       "    </tr>\n",
       "    <tr>\n",
       "      <th>45</th>\n",
       "      <td>Directives: Noindex</td>\n",
       "      <td>0.0</td>\n",
       "      <td>0.0</td>\n",
       "      <td>NaN</td>\n",
       "      <td>NaN</td>\n",
       "      <td>Warning</td>\n",
       "      <td>High</td>\n",
       "      <td>3.61</td>\n",
       "      <td>directives_noindex</td>\n",
       "      <td>25</td>\n",
       "      <td>0.209091</td>\n",
       "      <td>0.445455</td>\n",
       "      <td>5</td>\n",
       "      <td>1</td>\n",
       "      <td>31.328512</td>\n",
       "      <td>0.472727</td>\n",
       "      <td>Low</td>\n",
       "    </tr>\n",
       "    <tr>\n",
       "      <th>44</th>\n",
       "      <td>Directives: Nofollow</td>\n",
       "      <td>0.0</td>\n",
       "      <td>0.0</td>\n",
       "      <td>NaN</td>\n",
       "      <td>NaN</td>\n",
       "      <td>Warning</td>\n",
       "      <td>High</td>\n",
       "      <td>3.18</td>\n",
       "      <td>directives_nofollow</td>\n",
       "      <td>22</td>\n",
       "      <td>0.209091</td>\n",
       "      <td>0.418182</td>\n",
       "      <td>5</td>\n",
       "      <td>1</td>\n",
       "      <td>31.185950</td>\n",
       "      <td>0.454545</td>\n",
       "      <td>Low</td>\n",
       "    </tr>\n",
       "    <tr>\n",
       "      <th>31</th>\n",
       "      <td>Canonicals: Missing</td>\n",
       "      <td>8.0</td>\n",
       "      <td>17.0</td>\n",
       "      <td>0.471000</td>\n",
       "      <td>15.940000</td>\n",
       "      <td>Warning</td>\n",
       "      <td>Medium</td>\n",
       "      <td>5.40</td>\n",
       "      <td>canonicals_missing</td>\n",
       "      <td>29</td>\n",
       "      <td>0.454545</td>\n",
       "      <td>0.490909</td>\n",
       "      <td>3</td>\n",
       "      <td>1</td>\n",
       "      <td>29.809760</td>\n",
       "      <td>0.436364</td>\n",
       "      <td>Low</td>\n",
       "    </tr>\n",
       "    <tr>\n",
       "      <th>16</th>\n",
       "      <td>Search Console: Non-Indexable with Search Anal...</td>\n",
       "      <td>1709.0</td>\n",
       "      <td>127955.0</td>\n",
       "      <td>0.058750</td>\n",
       "      <td>11.465000</td>\n",
       "      <td>Warning</td>\n",
       "      <td>Low</td>\n",
       "      <td>0.50</td>\n",
       "      <td>search_console_nonindexable_with_search_analyt...</td>\n",
       "      <td>4</td>\n",
       "      <td>0.709091</td>\n",
       "      <td>0.145455</td>\n",
       "      <td>1</td>\n",
       "      <td>1</td>\n",
       "      <td>29.302101</td>\n",
       "      <td>0.418182</td>\n",
       "      <td>Low</td>\n",
       "    </tr>\n",
       "    <tr>\n",
       "      <th>30</th>\n",
       "      <td>JavaScript: Contains JavaScript Content</td>\n",
       "      <td>10.0</td>\n",
       "      <td>178.0</td>\n",
       "      <td>0.056000</td>\n",
       "      <td>15.495000</td>\n",
       "      <td>Warning</td>\n",
       "      <td>Medium</td>\n",
       "      <td>2.95</td>\n",
       "      <td>javascript_contains_javascript_content</td>\n",
       "      <td>15</td>\n",
       "      <td>0.472727</td>\n",
       "      <td>0.336364</td>\n",
       "      <td>3</td>\n",
       "      <td>1</td>\n",
       "      <td>28.684219</td>\n",
       "      <td>0.400000</td>\n",
       "      <td>Low</td>\n",
       "    </tr>\n",
       "    <tr>\n",
       "      <th>56</th>\n",
       "      <td>Images: Over 100 KB</td>\n",
       "      <td>0.0</td>\n",
       "      <td>0.0</td>\n",
       "      <td>NaN</td>\n",
       "      <td>NaN</td>\n",
       "      <td>Opportunity</td>\n",
       "      <td>Medium</td>\n",
       "      <td>9.09</td>\n",
       "      <td>images_over_100_kb</td>\n",
       "      <td>12</td>\n",
       "      <td>0.209091</td>\n",
       "      <td>0.300000</td>\n",
       "      <td>3</td>\n",
       "      <td>3</td>\n",
       "      <td>28.568182</td>\n",
       "      <td>0.381818</td>\n",
       "      <td>Low</td>\n",
       "    </tr>\n",
       "    <tr>\n",
       "      <th>55</th>\n",
       "      <td>Images: Missing Alt Text</td>\n",
       "      <td>0.0</td>\n",
       "      <td>0.0</td>\n",
       "      <td>NaN</td>\n",
       "      <td>NaN</td>\n",
       "      <td>Issue</td>\n",
       "      <td>Low</td>\n",
       "      <td>33.33</td>\n",
       "      <td>images_missing_alt_text</td>\n",
       "      <td>44</td>\n",
       "      <td>0.209091</td>\n",
       "      <td>0.600000</td>\n",
       "      <td>1</td>\n",
       "      <td>5</td>\n",
       "      <td>28.136364</td>\n",
       "      <td>0.363636</td>\n",
       "      <td>Low</td>\n",
       "    </tr>\n",
       "    <tr>\n",
       "      <th>54</th>\n",
       "      <td>Images: Missing Alt Attribute</td>\n",
       "      <td>0.0</td>\n",
       "      <td>0.0</td>\n",
       "      <td>NaN</td>\n",
       "      <td>NaN</td>\n",
       "      <td>Issue</td>\n",
       "      <td>Low</td>\n",
       "      <td>11.36</td>\n",
       "      <td>images_missing_alt_attribute</td>\n",
       "      <td>15</td>\n",
       "      <td>0.209091</td>\n",
       "      <td>0.336364</td>\n",
       "      <td>1</td>\n",
       "      <td>5</td>\n",
       "      <td>26.758264</td>\n",
       "      <td>0.345455</td>\n",
       "      <td>Low</td>\n",
       "    </tr>\n",
       "    <tr>\n",
       "      <th>29</th>\n",
       "      <td>URL: Uppercase</td>\n",
       "      <td>28.0</td>\n",
       "      <td>1558.0</td>\n",
       "      <td>0.018000</td>\n",
       "      <td>7.200000</td>\n",
       "      <td>Warning</td>\n",
       "      <td>Low</td>\n",
       "      <td>6.34</td>\n",
       "      <td>url_uppercase</td>\n",
       "      <td>75</td>\n",
       "      <td>0.490909</td>\n",
       "      <td>0.709091</td>\n",
       "      <td>1</td>\n",
       "      <td>1</td>\n",
       "      <td>25.719483</td>\n",
       "      <td>0.327273</td>\n",
       "      <td>Low</td>\n",
       "    </tr>\n",
       "    <tr>\n",
       "      <th>41</th>\n",
       "      <td>URL: Multiple Slashes</td>\n",
       "      <td>0.0</td>\n",
       "      <td>0.0</td>\n",
       "      <td>NaN</td>\n",
       "      <td>NaN</td>\n",
       "      <td>Issue</td>\n",
       "      <td>Low</td>\n",
       "      <td>0.17</td>\n",
       "      <td>url_multiple_slashes</td>\n",
       "      <td>2</td>\n",
       "      <td>0.209091</td>\n",
       "      <td>0.090909</td>\n",
       "      <td>1</td>\n",
       "      <td>5</td>\n",
       "      <td>25.475207</td>\n",
       "      <td>0.300000</td>\n",
       "      <td>Low</td>\n",
       "    </tr>\n",
       "    <tr>\n",
       "      <th>43</th>\n",
       "      <td>URL: Contains Space</td>\n",
       "      <td>0.0</td>\n",
       "      <td>0.0</td>\n",
       "      <td>NaN</td>\n",
       "      <td>NaN</td>\n",
       "      <td>Issue</td>\n",
       "      <td>Low</td>\n",
       "      <td>0.17</td>\n",
       "      <td>url_contains_space</td>\n",
       "      <td>2</td>\n",
       "      <td>0.209091</td>\n",
       "      <td>0.090909</td>\n",
       "      <td>1</td>\n",
       "      <td>5</td>\n",
       "      <td>25.475207</td>\n",
       "      <td>0.300000</td>\n",
       "      <td>Low</td>\n",
       "    </tr>\n",
       "    <tr>\n",
       "      <th>26</th>\n",
       "      <td>H1: Non-Sequential</td>\n",
       "      <td>78.0</td>\n",
       "      <td>1601.0</td>\n",
       "      <td>0.049000</td>\n",
       "      <td>11.310000</td>\n",
       "      <td>Warning</td>\n",
       "      <td>Low</td>\n",
       "      <td>4.13</td>\n",
       "      <td>h1_nonsequential</td>\n",
       "      <td>21</td>\n",
       "      <td>0.545455</td>\n",
       "      <td>0.400000</td>\n",
       "      <td>1</td>\n",
       "      <td>1</td>\n",
       "      <td>24.857516</td>\n",
       "      <td>0.272727</td>\n",
       "      <td>Low</td>\n",
       "    </tr>\n",
       "    <tr>\n",
       "      <th>32</th>\n",
       "      <td>JavaScript: H1 Updated by JavaScript</td>\n",
       "      <td>6.0</td>\n",
       "      <td>104.0</td>\n",
       "      <td>0.058000</td>\n",
       "      <td>9.810000</td>\n",
       "      <td>Warning</td>\n",
       "      <td>Medium</td>\n",
       "      <td>0.20</td>\n",
       "      <td>javascript_h1_updated_by_javascript</td>\n",
       "      <td>1</td>\n",
       "      <td>0.436364</td>\n",
       "      <td>0.036364</td>\n",
       "      <td>3</td>\n",
       "      <td>1</td>\n",
       "      <td>24.029601</td>\n",
       "      <td>0.254545</td>\n",
       "      <td>Backlog</td>\n",
       "    </tr>\n",
       "    <tr>\n",
       "      <th>50</th>\n",
       "      <td>Response Codes: Internal Redirect Chain</td>\n",
       "      <td>0.0</td>\n",
       "      <td>0.0</td>\n",
       "      <td>NaN</td>\n",
       "      <td>NaN</td>\n",
       "      <td>Warning</td>\n",
       "      <td>Medium</td>\n",
       "      <td>4.65</td>\n",
       "      <td>response_codes_internal_redirect_chain</td>\n",
       "      <td>55</td>\n",
       "      <td>0.209091</td>\n",
       "      <td>0.690909</td>\n",
       "      <td>3</td>\n",
       "      <td>1</td>\n",
       "      <td>22.611570</td>\n",
       "      <td>0.236364</td>\n",
       "      <td>Backlog</td>\n",
       "    </tr>\n",
       "    <tr>\n",
       "      <th>33</th>\n",
       "      <td>Validation: High Carbon Rating</td>\n",
       "      <td>4.0</td>\n",
       "      <td>74.0</td>\n",
       "      <td>0.054000</td>\n",
       "      <td>21.180000</td>\n",
       "      <td>Opportunity</td>\n",
       "      <td>Low</td>\n",
       "      <td>0.17</td>\n",
       "      <td>validation_high_carbon_rating</td>\n",
       "      <td>2</td>\n",
       "      <td>0.418182</td>\n",
       "      <td>0.090909</td>\n",
       "      <td>1</td>\n",
       "      <td>3</td>\n",
       "      <td>21.782233</td>\n",
       "      <td>0.218182</td>\n",
       "      <td>Backlog</td>\n",
       "    </tr>\n",
       "    <tr>\n",
       "      <th>37</th>\n",
       "      <td>URL: Underscores</td>\n",
       "      <td>0.0</td>\n",
       "      <td>0.0</td>\n",
       "      <td>NaN</td>\n",
       "      <td>NaN</td>\n",
       "      <td>Opportunity</td>\n",
       "      <td>Low</td>\n",
       "      <td>10.48</td>\n",
       "      <td>url_underscores</td>\n",
       "      <td>124</td>\n",
       "      <td>0.209091</td>\n",
       "      <td>0.872727</td>\n",
       "      <td>1</td>\n",
       "      <td>3</td>\n",
       "      <td>21.561983</td>\n",
       "      <td>0.200000</td>\n",
       "      <td>Backlog</td>\n",
       "    </tr>\n",
       "    <tr>\n",
       "      <th>46</th>\n",
       "      <td>H1: Over 70 Characters</td>\n",
       "      <td>0.0</td>\n",
       "      <td>0.0</td>\n",
       "      <td>NaN</td>\n",
       "      <td>NaN</td>\n",
       "      <td>Opportunity</td>\n",
       "      <td>Low</td>\n",
       "      <td>4.92</td>\n",
       "      <td>h1_over_70_characters</td>\n",
       "      <td>25</td>\n",
       "      <td>0.209091</td>\n",
       "      <td>0.445455</td>\n",
       "      <td>1</td>\n",
       "      <td>3</td>\n",
       "      <td>19.328512</td>\n",
       "      <td>0.181818</td>\n",
       "      <td>Backlog</td>\n",
       "    </tr>\n",
       "    <tr>\n",
       "      <th>35</th>\n",
       "      <td>JavaScript: Meta Description Updated by JavaSc...</td>\n",
       "      <td>0.0</td>\n",
       "      <td>0.0</td>\n",
       "      <td>NaN</td>\n",
       "      <td>NaN</td>\n",
       "      <td>Warning</td>\n",
       "      <td>Medium</td>\n",
       "      <td>0.20</td>\n",
       "      <td>javascript_meta_description_updated_by_javascript</td>\n",
       "      <td>1</td>\n",
       "      <td>0.209091</td>\n",
       "      <td>0.036364</td>\n",
       "      <td>3</td>\n",
       "      <td>1</td>\n",
       "      <td>19.190083</td>\n",
       "      <td>0.154545</td>\n",
       "      <td>Backlog</td>\n",
       "    </tr>\n",
       "    <tr>\n",
       "      <th>34</th>\n",
       "      <td>JavaScript: Page Title Updated by JavaScript</td>\n",
       "      <td>0.0</td>\n",
       "      <td>0.0</td>\n",
       "      <td>NaN</td>\n",
       "      <td>NaN</td>\n",
       "      <td>Warning</td>\n",
       "      <td>Medium</td>\n",
       "      <td>0.20</td>\n",
       "      <td>javascript_page_title_updated_by_javascript</td>\n",
       "      <td>1</td>\n",
       "      <td>0.209091</td>\n",
       "      <td>0.036364</td>\n",
       "      <td>3</td>\n",
       "      <td>1</td>\n",
       "      <td>19.190083</td>\n",
       "      <td>0.154545</td>\n",
       "      <td>Backlog</td>\n",
       "    </tr>\n",
       "    <tr>\n",
       "      <th>40</th>\n",
       "      <td>URL: Over 115 Characters</td>\n",
       "      <td>0.0</td>\n",
       "      <td>0.0</td>\n",
       "      <td>NaN</td>\n",
       "      <td>NaN</td>\n",
       "      <td>Opportunity</td>\n",
       "      <td>Low</td>\n",
       "      <td>1.61</td>\n",
       "      <td>url_over_115_characters</td>\n",
       "      <td>19</td>\n",
       "      <td>0.209091</td>\n",
       "      <td>0.381818</td>\n",
       "      <td>1</td>\n",
       "      <td>3</td>\n",
       "      <td>18.995868</td>\n",
       "      <td>0.127273</td>\n",
       "      <td>Backlog</td>\n",
       "    </tr>\n",
       "    <tr>\n",
       "      <th>47</th>\n",
       "      <td>Images: Alt Text Over 100 Characters</td>\n",
       "      <td>0.0</td>\n",
       "      <td>0.0</td>\n",
       "      <td>NaN</td>\n",
       "      <td>NaN</td>\n",
       "      <td>Opportunity</td>\n",
       "      <td>Low</td>\n",
       "      <td>6.82</td>\n",
       "      <td>images_alt_text_over_100_characters</td>\n",
       "      <td>9</td>\n",
       "      <td>0.209091</td>\n",
       "      <td>0.236364</td>\n",
       "      <td>1</td>\n",
       "      <td>3</td>\n",
       "      <td>18.235537</td>\n",
       "      <td>0.109091</td>\n",
       "      <td>Backlog</td>\n",
       "    </tr>\n",
       "    <tr>\n",
       "      <th>48</th>\n",
       "      <td>Search Console: No Search Analytics Data</td>\n",
       "      <td>0.0</td>\n",
       "      <td>0.0</td>\n",
       "      <td>NaN</td>\n",
       "      <td>NaN</td>\n",
       "      <td>Warning</td>\n",
       "      <td>Low</td>\n",
       "      <td>39.17</td>\n",
       "      <td>search_console_no_search_analytics_data</td>\n",
       "      <td>311</td>\n",
       "      <td>0.209091</td>\n",
       "      <td>1.000000</td>\n",
       "      <td>1</td>\n",
       "      <td>1</td>\n",
       "      <td>14.227273</td>\n",
       "      <td>0.090909</td>\n",
       "      <td>Backlog</td>\n",
       "    </tr>\n",
       "    <tr>\n",
       "      <th>39</th>\n",
       "      <td>URL: Parameters</td>\n",
       "      <td>0.0</td>\n",
       "      <td>0.0</td>\n",
       "      <td>NaN</td>\n",
       "      <td>NaN</td>\n",
       "      <td>Warning</td>\n",
       "      <td>Low</td>\n",
       "      <td>11.50</td>\n",
       "      <td>url_parameters</td>\n",
       "      <td>136</td>\n",
       "      <td>0.209091</td>\n",
       "      <td>0.890909</td>\n",
       "      <td>1</td>\n",
       "      <td>1</td>\n",
       "      <td>13.657025</td>\n",
       "      <td>0.072727</td>\n",
       "      <td>Backlog</td>\n",
       "    </tr>\n",
       "    <tr>\n",
       "      <th>42</th>\n",
       "      <td>URL: GA Tracking Parameters</td>\n",
       "      <td>0.0</td>\n",
       "      <td>0.0</td>\n",
       "      <td>NaN</td>\n",
       "      <td>NaN</td>\n",
       "      <td>Warning</td>\n",
       "      <td>Low</td>\n",
       "      <td>9.89</td>\n",
       "      <td>url_ga_tracking_parameters</td>\n",
       "      <td>117</td>\n",
       "      <td>0.209091</td>\n",
       "      <td>0.854545</td>\n",
       "      <td>1</td>\n",
       "      <td>1</td>\n",
       "      <td>13.466942</td>\n",
       "      <td>0.054545</td>\n",
       "      <td>Backlog</td>\n",
       "    </tr>\n",
       "    <tr>\n",
       "      <th>49</th>\n",
       "      <td>Images: Background Images</td>\n",
       "      <td>0.0</td>\n",
       "      <td>0.0</td>\n",
       "      <td>NaN</td>\n",
       "      <td>NaN</td>\n",
       "      <td>Warning</td>\n",
       "      <td>Low</td>\n",
       "      <td>4.55</td>\n",
       "      <td>images_background_images</td>\n",
       "      <td>6</td>\n",
       "      <td>0.209091</td>\n",
       "      <td>0.200000</td>\n",
       "      <td>1</td>\n",
       "      <td>1</td>\n",
       "      <td>10.045455</td>\n",
       "      <td>0.036364</td>\n",
       "      <td>Backlog</td>\n",
       "    </tr>\n",
       "    <tr>\n",
       "      <th>38</th>\n",
       "      <td>URL: Repetitive Path</td>\n",
       "      <td>0.0</td>\n",
       "      <td>0.0</td>\n",
       "      <td>NaN</td>\n",
       "      <td>NaN</td>\n",
       "      <td>Warning</td>\n",
       "      <td>Low</td>\n",
       "      <td>0.25</td>\n",
       "      <td>url_repetitive_path</td>\n",
       "      <td>3</td>\n",
       "      <td>0.209091</td>\n",
       "      <td>0.127273</td>\n",
       "      <td>1</td>\n",
       "      <td>1</td>\n",
       "      <td>9.665289</td>\n",
       "      <td>0.018182</td>\n",
       "      <td>Backlog</td>\n",
       "    </tr>\n",
       "  </tbody>\n",
       "</table>\n",
       "</div>"
      ]
     },
     "execution_count": 15,
     "metadata": {},
     "output_type": "execute_result"
    }
   ],
   "execution_count": 15
  },
  {
   "metadata": {},
   "cell_type": "markdown",
   "source": "## Data Visualizations",
   "id": "c7e3bae8e6953151"
  },
  {
   "metadata": {
    "ExecuteTime": {
     "end_time": "2025-01-17T22:40:59.914092Z",
     "start_time": "2025-01-17T22:40:59.888893Z"
    }
   },
   "cell_type": "code",
   "source": [
    "# Distribution plot based on Impact Score\n",
    "fig = px.histogram(issues_group,\n",
    "                     x='Impact_Score',\n",
    "                   color='Impact_Score_Quadrant',\n",
    "                     title='Distribution of Impact Scores by Cluster')\n",
    "fig.update_layout(\n",
    "    xaxis_title='Impact Score',\n",
    "    yaxis_title='Count of Issues',\n",
    "    legend_title_text='Impact Score Level'\n",
    ")\n",
    "fig.show()"
   ],
   "id": "ee70bbbabe32f0b6",
   "outputs": [
    {
     "data": {
      "application/vnd.plotly.v1+json": {
       "data": [
        {
         "alignmentgroup": "True",
         "bingroup": "x",
         "hovertemplate": "Impact_Score_Quadrant=High<br>Impact_Score=%{x}<br>count=%{y}<extra></extra>",
         "legendgroup": "High",
         "marker": {
          "color": "#636efa",
          "pattern": {
           "shape": ""
          }
         },
         "name": "High",
         "offsetgroup": "High",
         "orientation": "v",
         "showlegend": true,
         "x": [
          74.0547850469078,
          71.08067163695982,
          70.24425965554722,
          70.20709735273476,
          65.01376234198528,
          64.93308734925418,
          62.18181818181818,
          59.663425260937274,
          56.70973802920025,
          53.264678086067605,
          52.599933135392796,
          52.39265736100913,
          51.22960899263911,
          49.160527997703255
         ],
         "xaxis": "x",
         "yaxis": "y",
         "type": "histogram"
        },
        {
         "alignmentgroup": "True",
         "bingroup": "x",
         "hovertemplate": "Impact_Score_Quadrant=Medium<br>Impact_Score=%{x}<br>count=%{y}<extra></extra>",
         "legendgroup": "Medium",
         "marker": {
          "color": "#EF553B",
          "pattern": {
           "shape": ""
          }
         },
         "name": "Medium",
         "offsetgroup": "Medium",
         "orientation": "v",
         "showlegend": true,
         "x": [
          47.5437197738302,
          45.90289256198347,
          45.11028977394411,
          44.73457112406584,
          43.749282297939416,
          43.71600423457909,
          42.39625168633803,
          42.39625168633803,
          42.206900966659276,
          40.38309736695248,
          38.759777528622585,
          38.54960211582062,
          35.4413740273055
         ],
         "xaxis": "x",
         "yaxis": "y",
         "type": "histogram"
        },
        {
         "alignmentgroup": "True",
         "bingroup": "x",
         "hovertemplate": "Impact_Score_Quadrant=Low<br>Impact_Score=%{x}<br>count=%{y}<extra></extra>",
         "legendgroup": "Low",
         "marker": {
          "color": "#00cc96",
          "pattern": {
           "shape": ""
          }
         },
         "name": "Low",
         "offsetgroup": "Low",
         "orientation": "v",
         "showlegend": true,
         "x": [
          34.03719008264463,
          33.37190082644628,
          31.32851239669422,
          31.18595041322314,
          29.80975954845997,
          29.302101030463923,
          28.684219220225206,
          28.568181818181813,
          28.136363636363637,
          26.758264462809922,
          25.7194826535997,
          25.47520661157025,
          25.47520661157025,
          24.8575155782086
         ],
         "xaxis": "x",
         "yaxis": "y",
         "type": "histogram"
        },
        {
         "alignmentgroup": "True",
         "bingroup": "x",
         "hovertemplate": "Impact_Score_Quadrant=Backlog<br>Impact_Score=%{x}<br>count=%{y}<extra></extra>",
         "legendgroup": "Backlog",
         "marker": {
          "color": "#ab63fa",
          "pattern": {
           "shape": ""
          }
         },
         "name": "Backlog",
         "offsetgroup": "Backlog",
         "orientation": "v",
         "showlegend": true,
         "x": [
          24.02960112381782,
          22.611570247933884,
          21.782232501974445,
          21.56198347107438,
          19.328512396694215,
          19.1900826446281,
          19.1900826446281,
          18.995867768595044,
          18.235537190082646,
          14.227272727272727,
          13.65702479338843,
          13.46694214876033,
          10.045454545454547,
          9.665289256198347
         ],
         "xaxis": "x",
         "yaxis": "y",
         "type": "histogram"
        }
       ],
       "layout": {
        "template": {
         "data": {
          "histogram2dcontour": [
           {
            "type": "histogram2dcontour",
            "colorbar": {
             "outlinewidth": 0,
             "ticks": ""
            },
            "colorscale": [
             [
              0.0,
              "#0d0887"
             ],
             [
              0.1111111111111111,
              "#46039f"
             ],
             [
              0.2222222222222222,
              "#7201a8"
             ],
             [
              0.3333333333333333,
              "#9c179e"
             ],
             [
              0.4444444444444444,
              "#bd3786"
             ],
             [
              0.5555555555555556,
              "#d8576b"
             ],
             [
              0.6666666666666666,
              "#ed7953"
             ],
             [
              0.7777777777777778,
              "#fb9f3a"
             ],
             [
              0.8888888888888888,
              "#fdca26"
             ],
             [
              1.0,
              "#f0f921"
             ]
            ]
           }
          ],
          "choropleth": [
           {
            "type": "choropleth",
            "colorbar": {
             "outlinewidth": 0,
             "ticks": ""
            }
           }
          ],
          "histogram2d": [
           {
            "type": "histogram2d",
            "colorbar": {
             "outlinewidth": 0,
             "ticks": ""
            },
            "colorscale": [
             [
              0.0,
              "#0d0887"
             ],
             [
              0.1111111111111111,
              "#46039f"
             ],
             [
              0.2222222222222222,
              "#7201a8"
             ],
             [
              0.3333333333333333,
              "#9c179e"
             ],
             [
              0.4444444444444444,
              "#bd3786"
             ],
             [
              0.5555555555555556,
              "#d8576b"
             ],
             [
              0.6666666666666666,
              "#ed7953"
             ],
             [
              0.7777777777777778,
              "#fb9f3a"
             ],
             [
              0.8888888888888888,
              "#fdca26"
             ],
             [
              1.0,
              "#f0f921"
             ]
            ]
           }
          ],
          "heatmap": [
           {
            "type": "heatmap",
            "colorbar": {
             "outlinewidth": 0,
             "ticks": ""
            },
            "colorscale": [
             [
              0.0,
              "#0d0887"
             ],
             [
              0.1111111111111111,
              "#46039f"
             ],
             [
              0.2222222222222222,
              "#7201a8"
             ],
             [
              0.3333333333333333,
              "#9c179e"
             ],
             [
              0.4444444444444444,
              "#bd3786"
             ],
             [
              0.5555555555555556,
              "#d8576b"
             ],
             [
              0.6666666666666666,
              "#ed7953"
             ],
             [
              0.7777777777777778,
              "#fb9f3a"
             ],
             [
              0.8888888888888888,
              "#fdca26"
             ],
             [
              1.0,
              "#f0f921"
             ]
            ]
           }
          ],
          "heatmapgl": [
           {
            "type": "heatmapgl",
            "colorbar": {
             "outlinewidth": 0,
             "ticks": ""
            },
            "colorscale": [
             [
              0.0,
              "#0d0887"
             ],
             [
              0.1111111111111111,
              "#46039f"
             ],
             [
              0.2222222222222222,
              "#7201a8"
             ],
             [
              0.3333333333333333,
              "#9c179e"
             ],
             [
              0.4444444444444444,
              "#bd3786"
             ],
             [
              0.5555555555555556,
              "#d8576b"
             ],
             [
              0.6666666666666666,
              "#ed7953"
             ],
             [
              0.7777777777777778,
              "#fb9f3a"
             ],
             [
              0.8888888888888888,
              "#fdca26"
             ],
             [
              1.0,
              "#f0f921"
             ]
            ]
           }
          ],
          "contourcarpet": [
           {
            "type": "contourcarpet",
            "colorbar": {
             "outlinewidth": 0,
             "ticks": ""
            }
           }
          ],
          "contour": [
           {
            "type": "contour",
            "colorbar": {
             "outlinewidth": 0,
             "ticks": ""
            },
            "colorscale": [
             [
              0.0,
              "#0d0887"
             ],
             [
              0.1111111111111111,
              "#46039f"
             ],
             [
              0.2222222222222222,
              "#7201a8"
             ],
             [
              0.3333333333333333,
              "#9c179e"
             ],
             [
              0.4444444444444444,
              "#bd3786"
             ],
             [
              0.5555555555555556,
              "#d8576b"
             ],
             [
              0.6666666666666666,
              "#ed7953"
             ],
             [
              0.7777777777777778,
              "#fb9f3a"
             ],
             [
              0.8888888888888888,
              "#fdca26"
             ],
             [
              1.0,
              "#f0f921"
             ]
            ]
           }
          ],
          "surface": [
           {
            "type": "surface",
            "colorbar": {
             "outlinewidth": 0,
             "ticks": ""
            },
            "colorscale": [
             [
              0.0,
              "#0d0887"
             ],
             [
              0.1111111111111111,
              "#46039f"
             ],
             [
              0.2222222222222222,
              "#7201a8"
             ],
             [
              0.3333333333333333,
              "#9c179e"
             ],
             [
              0.4444444444444444,
              "#bd3786"
             ],
             [
              0.5555555555555556,
              "#d8576b"
             ],
             [
              0.6666666666666666,
              "#ed7953"
             ],
             [
              0.7777777777777778,
              "#fb9f3a"
             ],
             [
              0.8888888888888888,
              "#fdca26"
             ],
             [
              1.0,
              "#f0f921"
             ]
            ]
           }
          ],
          "mesh3d": [
           {
            "type": "mesh3d",
            "colorbar": {
             "outlinewidth": 0,
             "ticks": ""
            }
           }
          ],
          "scatter": [
           {
            "marker": {
             "line": {
              "color": "#283442"
             }
            },
            "type": "scatter"
           }
          ],
          "parcoords": [
           {
            "type": "parcoords",
            "line": {
             "colorbar": {
              "outlinewidth": 0,
              "ticks": ""
             }
            }
           }
          ],
          "scatterpolargl": [
           {
            "type": "scatterpolargl",
            "marker": {
             "colorbar": {
              "outlinewidth": 0,
              "ticks": ""
             }
            }
           }
          ],
          "bar": [
           {
            "error_x": {
             "color": "#f2f5fa"
            },
            "error_y": {
             "color": "#f2f5fa"
            },
            "marker": {
             "line": {
              "color": "rgb(17,17,17)",
              "width": 0.5
             },
             "pattern": {
              "fillmode": "overlay",
              "size": 10,
              "solidity": 0.2
             }
            },
            "type": "bar"
           }
          ],
          "scattergeo": [
           {
            "type": "scattergeo",
            "marker": {
             "colorbar": {
              "outlinewidth": 0,
              "ticks": ""
             }
            }
           }
          ],
          "scatterpolar": [
           {
            "type": "scatterpolar",
            "marker": {
             "colorbar": {
              "outlinewidth": 0,
              "ticks": ""
             }
            }
           }
          ],
          "histogram": [
           {
            "marker": {
             "pattern": {
              "fillmode": "overlay",
              "size": 10,
              "solidity": 0.2
             }
            },
            "type": "histogram"
           }
          ],
          "scattergl": [
           {
            "marker": {
             "line": {
              "color": "#283442"
             }
            },
            "type": "scattergl"
           }
          ],
          "scatter3d": [
           {
            "type": "scatter3d",
            "line": {
             "colorbar": {
              "outlinewidth": 0,
              "ticks": ""
             }
            },
            "marker": {
             "colorbar": {
              "outlinewidth": 0,
              "ticks": ""
             }
            }
           }
          ],
          "scattermapbox": [
           {
            "type": "scattermapbox",
            "marker": {
             "colorbar": {
              "outlinewidth": 0,
              "ticks": ""
             }
            }
           }
          ],
          "scatterternary": [
           {
            "type": "scatterternary",
            "marker": {
             "colorbar": {
              "outlinewidth": 0,
              "ticks": ""
             }
            }
           }
          ],
          "scattercarpet": [
           {
            "type": "scattercarpet",
            "marker": {
             "colorbar": {
              "outlinewidth": 0,
              "ticks": ""
             }
            }
           }
          ],
          "carpet": [
           {
            "aaxis": {
             "endlinecolor": "#A2B1C6",
             "gridcolor": "#506784",
             "linecolor": "#506784",
             "minorgridcolor": "#506784",
             "startlinecolor": "#A2B1C6"
            },
            "baxis": {
             "endlinecolor": "#A2B1C6",
             "gridcolor": "#506784",
             "linecolor": "#506784",
             "minorgridcolor": "#506784",
             "startlinecolor": "#A2B1C6"
            },
            "type": "carpet"
           }
          ],
          "table": [
           {
            "cells": {
             "fill": {
              "color": "#506784"
             },
             "line": {
              "color": "rgb(17,17,17)"
             }
            },
            "header": {
             "fill": {
              "color": "#2a3f5f"
             },
             "line": {
              "color": "rgb(17,17,17)"
             }
            },
            "type": "table"
           }
          ],
          "barpolar": [
           {
            "marker": {
             "line": {
              "color": "rgb(17,17,17)",
              "width": 0.5
             },
             "pattern": {
              "fillmode": "overlay",
              "size": 10,
              "solidity": 0.2
             }
            },
            "type": "barpolar"
           }
          ],
          "pie": [
           {
            "automargin": true,
            "type": "pie"
           }
          ]
         },
         "layout": {
          "autotypenumbers": "strict",
          "colorway": [
           "#636efa",
           "#EF553B",
           "#00cc96",
           "#ab63fa",
           "#FFA15A",
           "#19d3f3",
           "#FF6692",
           "#B6E880",
           "#FF97FF",
           "#FECB52"
          ],
          "font": {
           "color": "#f2f5fa"
          },
          "hovermode": "closest",
          "hoverlabel": {
           "align": "left"
          },
          "paper_bgcolor": "rgb(17,17,17)",
          "plot_bgcolor": "rgb(17,17,17)",
          "polar": {
           "bgcolor": "rgb(17,17,17)",
           "angularaxis": {
            "gridcolor": "#506784",
            "linecolor": "#506784",
            "ticks": ""
           },
           "radialaxis": {
            "gridcolor": "#506784",
            "linecolor": "#506784",
            "ticks": ""
           }
          },
          "ternary": {
           "bgcolor": "rgb(17,17,17)",
           "aaxis": {
            "gridcolor": "#506784",
            "linecolor": "#506784",
            "ticks": ""
           },
           "baxis": {
            "gridcolor": "#506784",
            "linecolor": "#506784",
            "ticks": ""
           },
           "caxis": {
            "gridcolor": "#506784",
            "linecolor": "#506784",
            "ticks": ""
           }
          },
          "coloraxis": {
           "colorbar": {
            "outlinewidth": 0,
            "ticks": ""
           }
          },
          "colorscale": {
           "sequential": [
            [
             0.0,
             "#0d0887"
            ],
            [
             0.1111111111111111,
             "#46039f"
            ],
            [
             0.2222222222222222,
             "#7201a8"
            ],
            [
             0.3333333333333333,
             "#9c179e"
            ],
            [
             0.4444444444444444,
             "#bd3786"
            ],
            [
             0.5555555555555556,
             "#d8576b"
            ],
            [
             0.6666666666666666,
             "#ed7953"
            ],
            [
             0.7777777777777778,
             "#fb9f3a"
            ],
            [
             0.8888888888888888,
             "#fdca26"
            ],
            [
             1.0,
             "#f0f921"
            ]
           ],
           "sequentialminus": [
            [
             0.0,
             "#0d0887"
            ],
            [
             0.1111111111111111,
             "#46039f"
            ],
            [
             0.2222222222222222,
             "#7201a8"
            ],
            [
             0.3333333333333333,
             "#9c179e"
            ],
            [
             0.4444444444444444,
             "#bd3786"
            ],
            [
             0.5555555555555556,
             "#d8576b"
            ],
            [
             0.6666666666666666,
             "#ed7953"
            ],
            [
             0.7777777777777778,
             "#fb9f3a"
            ],
            [
             0.8888888888888888,
             "#fdca26"
            ],
            [
             1.0,
             "#f0f921"
            ]
           ],
           "diverging": [
            [
             0,
             "#8e0152"
            ],
            [
             0.1,
             "#c51b7d"
            ],
            [
             0.2,
             "#de77ae"
            ],
            [
             0.3,
             "#f1b6da"
            ],
            [
             0.4,
             "#fde0ef"
            ],
            [
             0.5,
             "#f7f7f7"
            ],
            [
             0.6,
             "#e6f5d0"
            ],
            [
             0.7,
             "#b8e186"
            ],
            [
             0.8,
             "#7fbc41"
            ],
            [
             0.9,
             "#4d9221"
            ],
            [
             1,
             "#276419"
            ]
           ]
          },
          "xaxis": {
           "gridcolor": "#283442",
           "linecolor": "#506784",
           "ticks": "",
           "title": {
            "standoff": 15
           },
           "zerolinecolor": "#283442",
           "automargin": true,
           "zerolinewidth": 2
          },
          "yaxis": {
           "gridcolor": "#283442",
           "linecolor": "#506784",
           "ticks": "",
           "title": {
            "standoff": 15
           },
           "zerolinecolor": "#283442",
           "automargin": true,
           "zerolinewidth": 2
          },
          "scene": {
           "xaxis": {
            "backgroundcolor": "rgb(17,17,17)",
            "gridcolor": "#506784",
            "linecolor": "#506784",
            "showbackground": true,
            "ticks": "",
            "zerolinecolor": "#C8D4E3",
            "gridwidth": 2
           },
           "yaxis": {
            "backgroundcolor": "rgb(17,17,17)",
            "gridcolor": "#506784",
            "linecolor": "#506784",
            "showbackground": true,
            "ticks": "",
            "zerolinecolor": "#C8D4E3",
            "gridwidth": 2
           },
           "zaxis": {
            "backgroundcolor": "rgb(17,17,17)",
            "gridcolor": "#506784",
            "linecolor": "#506784",
            "showbackground": true,
            "ticks": "",
            "zerolinecolor": "#C8D4E3",
            "gridwidth": 2
           }
          },
          "shapedefaults": {
           "line": {
            "color": "#f2f5fa"
           }
          },
          "annotationdefaults": {
           "arrowcolor": "#f2f5fa",
           "arrowhead": 0,
           "arrowwidth": 1
          },
          "geo": {
           "bgcolor": "rgb(17,17,17)",
           "landcolor": "rgb(17,17,17)",
           "subunitcolor": "#506784",
           "showland": true,
           "showlakes": true,
           "lakecolor": "rgb(17,17,17)"
          },
          "title": {
           "x": 0.05
          },
          "updatemenudefaults": {
           "bgcolor": "#506784",
           "borderwidth": 0
          },
          "sliderdefaults": {
           "bgcolor": "#C8D4E3",
           "borderwidth": 1,
           "bordercolor": "rgb(17,17,17)",
           "tickwidth": 0
          },
          "mapbox": {
           "style": "dark"
          }
         }
        },
        "xaxis": {
         "anchor": "y",
         "domain": [
          0.0,
          1.0
         ],
         "title": {
          "text": "Impact Score"
         }
        },
        "yaxis": {
         "anchor": "x",
         "domain": [
          0.0,
          1.0
         ],
         "title": {
          "text": "Count of Issues"
         }
        },
        "legend": {
         "title": {
          "text": "Impact Score Level"
         },
         "tracegroupgap": 0
        },
        "title": {
         "text": "Distribution of Impact Scores by Cluster"
        },
        "barmode": "relative"
       },
       "config": {
        "plotlyServerURL": "https://plot.ly"
       }
      },
      "text/html": [
       "<div>                            <div id=\"1a4ede21-8e2e-46c2-ae52-24456fe72039\" class=\"plotly-graph-div\" style=\"height:525px; width:100%;\"></div>            <script type=\"text/javascript\">                require([\"plotly\"], function(Plotly) {                    window.PLOTLYENV=window.PLOTLYENV || {};                                    if (document.getElementById(\"1a4ede21-8e2e-46c2-ae52-24456fe72039\")) {                    Plotly.newPlot(                        \"1a4ede21-8e2e-46c2-ae52-24456fe72039\",                        [{\"alignmentgroup\":\"True\",\"bingroup\":\"x\",\"hovertemplate\":\"Impact_Score_Quadrant=High\\u003cbr\\u003eImpact_Score=%{x}\\u003cbr\\u003ecount=%{y}\\u003cextra\\u003e\\u003c\\u002fextra\\u003e\",\"legendgroup\":\"High\",\"marker\":{\"color\":\"#636efa\",\"pattern\":{\"shape\":\"\"}},\"name\":\"High\",\"offsetgroup\":\"High\",\"orientation\":\"v\",\"showlegend\":true,\"x\":[74.0547850469078,71.08067163695982,70.24425965554722,70.20709735273476,65.01376234198528,64.93308734925418,62.18181818181818,59.663425260937274,56.70973802920025,53.264678086067605,52.599933135392796,52.39265736100913,51.22960899263911,49.160527997703255],\"xaxis\":\"x\",\"yaxis\":\"y\",\"type\":\"histogram\"},{\"alignmentgroup\":\"True\",\"bingroup\":\"x\",\"hovertemplate\":\"Impact_Score_Quadrant=Medium\\u003cbr\\u003eImpact_Score=%{x}\\u003cbr\\u003ecount=%{y}\\u003cextra\\u003e\\u003c\\u002fextra\\u003e\",\"legendgroup\":\"Medium\",\"marker\":{\"color\":\"#EF553B\",\"pattern\":{\"shape\":\"\"}},\"name\":\"Medium\",\"offsetgroup\":\"Medium\",\"orientation\":\"v\",\"showlegend\":true,\"x\":[47.5437197738302,45.90289256198347,45.11028977394411,44.73457112406584,43.749282297939416,43.71600423457909,42.39625168633803,42.39625168633803,42.206900966659276,40.38309736695248,38.759777528622585,38.54960211582062,35.4413740273055],\"xaxis\":\"x\",\"yaxis\":\"y\",\"type\":\"histogram\"},{\"alignmentgroup\":\"True\",\"bingroup\":\"x\",\"hovertemplate\":\"Impact_Score_Quadrant=Low\\u003cbr\\u003eImpact_Score=%{x}\\u003cbr\\u003ecount=%{y}\\u003cextra\\u003e\\u003c\\u002fextra\\u003e\",\"legendgroup\":\"Low\",\"marker\":{\"color\":\"#00cc96\",\"pattern\":{\"shape\":\"\"}},\"name\":\"Low\",\"offsetgroup\":\"Low\",\"orientation\":\"v\",\"showlegend\":true,\"x\":[34.03719008264463,33.37190082644628,31.32851239669422,31.18595041322314,29.80975954845997,29.302101030463923,28.684219220225206,28.568181818181813,28.136363636363637,26.758264462809922,25.7194826535997,25.47520661157025,25.47520661157025,24.8575155782086],\"xaxis\":\"x\",\"yaxis\":\"y\",\"type\":\"histogram\"},{\"alignmentgroup\":\"True\",\"bingroup\":\"x\",\"hovertemplate\":\"Impact_Score_Quadrant=Backlog\\u003cbr\\u003eImpact_Score=%{x}\\u003cbr\\u003ecount=%{y}\\u003cextra\\u003e\\u003c\\u002fextra\\u003e\",\"legendgroup\":\"Backlog\",\"marker\":{\"color\":\"#ab63fa\",\"pattern\":{\"shape\":\"\"}},\"name\":\"Backlog\",\"offsetgroup\":\"Backlog\",\"orientation\":\"v\",\"showlegend\":true,\"x\":[24.02960112381782,22.611570247933884,21.782232501974445,21.56198347107438,19.328512396694215,19.1900826446281,19.1900826446281,18.995867768595044,18.235537190082646,14.227272727272727,13.65702479338843,13.46694214876033,10.045454545454547,9.665289256198347],\"xaxis\":\"x\",\"yaxis\":\"y\",\"type\":\"histogram\"}],                        {\"template\":{\"data\":{\"histogram2dcontour\":[{\"type\":\"histogram2dcontour\",\"colorbar\":{\"outlinewidth\":0,\"ticks\":\"\"},\"colorscale\":[[0.0,\"#0d0887\"],[0.1111111111111111,\"#46039f\"],[0.2222222222222222,\"#7201a8\"],[0.3333333333333333,\"#9c179e\"],[0.4444444444444444,\"#bd3786\"],[0.5555555555555556,\"#d8576b\"],[0.6666666666666666,\"#ed7953\"],[0.7777777777777778,\"#fb9f3a\"],[0.8888888888888888,\"#fdca26\"],[1.0,\"#f0f921\"]]}],\"choropleth\":[{\"type\":\"choropleth\",\"colorbar\":{\"outlinewidth\":0,\"ticks\":\"\"}}],\"histogram2d\":[{\"type\":\"histogram2d\",\"colorbar\":{\"outlinewidth\":0,\"ticks\":\"\"},\"colorscale\":[[0.0,\"#0d0887\"],[0.1111111111111111,\"#46039f\"],[0.2222222222222222,\"#7201a8\"],[0.3333333333333333,\"#9c179e\"],[0.4444444444444444,\"#bd3786\"],[0.5555555555555556,\"#d8576b\"],[0.6666666666666666,\"#ed7953\"],[0.7777777777777778,\"#fb9f3a\"],[0.8888888888888888,\"#fdca26\"],[1.0,\"#f0f921\"]]}],\"heatmap\":[{\"type\":\"heatmap\",\"colorbar\":{\"outlinewidth\":0,\"ticks\":\"\"},\"colorscale\":[[0.0,\"#0d0887\"],[0.1111111111111111,\"#46039f\"],[0.2222222222222222,\"#7201a8\"],[0.3333333333333333,\"#9c179e\"],[0.4444444444444444,\"#bd3786\"],[0.5555555555555556,\"#d8576b\"],[0.6666666666666666,\"#ed7953\"],[0.7777777777777778,\"#fb9f3a\"],[0.8888888888888888,\"#fdca26\"],[1.0,\"#f0f921\"]]}],\"heatmapgl\":[{\"type\":\"heatmapgl\",\"colorbar\":{\"outlinewidth\":0,\"ticks\":\"\"},\"colorscale\":[[0.0,\"#0d0887\"],[0.1111111111111111,\"#46039f\"],[0.2222222222222222,\"#7201a8\"],[0.3333333333333333,\"#9c179e\"],[0.4444444444444444,\"#bd3786\"],[0.5555555555555556,\"#d8576b\"],[0.6666666666666666,\"#ed7953\"],[0.7777777777777778,\"#fb9f3a\"],[0.8888888888888888,\"#fdca26\"],[1.0,\"#f0f921\"]]}],\"contourcarpet\":[{\"type\":\"contourcarpet\",\"colorbar\":{\"outlinewidth\":0,\"ticks\":\"\"}}],\"contour\":[{\"type\":\"contour\",\"colorbar\":{\"outlinewidth\":0,\"ticks\":\"\"},\"colorscale\":[[0.0,\"#0d0887\"],[0.1111111111111111,\"#46039f\"],[0.2222222222222222,\"#7201a8\"],[0.3333333333333333,\"#9c179e\"],[0.4444444444444444,\"#bd3786\"],[0.5555555555555556,\"#d8576b\"],[0.6666666666666666,\"#ed7953\"],[0.7777777777777778,\"#fb9f3a\"],[0.8888888888888888,\"#fdca26\"],[1.0,\"#f0f921\"]]}],\"surface\":[{\"type\":\"surface\",\"colorbar\":{\"outlinewidth\":0,\"ticks\":\"\"},\"colorscale\":[[0.0,\"#0d0887\"],[0.1111111111111111,\"#46039f\"],[0.2222222222222222,\"#7201a8\"],[0.3333333333333333,\"#9c179e\"],[0.4444444444444444,\"#bd3786\"],[0.5555555555555556,\"#d8576b\"],[0.6666666666666666,\"#ed7953\"],[0.7777777777777778,\"#fb9f3a\"],[0.8888888888888888,\"#fdca26\"],[1.0,\"#f0f921\"]]}],\"mesh3d\":[{\"type\":\"mesh3d\",\"colorbar\":{\"outlinewidth\":0,\"ticks\":\"\"}}],\"scatter\":[{\"marker\":{\"line\":{\"color\":\"#283442\"}},\"type\":\"scatter\"}],\"parcoords\":[{\"type\":\"parcoords\",\"line\":{\"colorbar\":{\"outlinewidth\":0,\"ticks\":\"\"}}}],\"scatterpolargl\":[{\"type\":\"scatterpolargl\",\"marker\":{\"colorbar\":{\"outlinewidth\":0,\"ticks\":\"\"}}}],\"bar\":[{\"error_x\":{\"color\":\"#f2f5fa\"},\"error_y\":{\"color\":\"#f2f5fa\"},\"marker\":{\"line\":{\"color\":\"rgb(17,17,17)\",\"width\":0.5},\"pattern\":{\"fillmode\":\"overlay\",\"size\":10,\"solidity\":0.2}},\"type\":\"bar\"}],\"scattergeo\":[{\"type\":\"scattergeo\",\"marker\":{\"colorbar\":{\"outlinewidth\":0,\"ticks\":\"\"}}}],\"scatterpolar\":[{\"type\":\"scatterpolar\",\"marker\":{\"colorbar\":{\"outlinewidth\":0,\"ticks\":\"\"}}}],\"histogram\":[{\"marker\":{\"pattern\":{\"fillmode\":\"overlay\",\"size\":10,\"solidity\":0.2}},\"type\":\"histogram\"}],\"scattergl\":[{\"marker\":{\"line\":{\"color\":\"#283442\"}},\"type\":\"scattergl\"}],\"scatter3d\":[{\"type\":\"scatter3d\",\"line\":{\"colorbar\":{\"outlinewidth\":0,\"ticks\":\"\"}},\"marker\":{\"colorbar\":{\"outlinewidth\":0,\"ticks\":\"\"}}}],\"scattermapbox\":[{\"type\":\"scattermapbox\",\"marker\":{\"colorbar\":{\"outlinewidth\":0,\"ticks\":\"\"}}}],\"scatterternary\":[{\"type\":\"scatterternary\",\"marker\":{\"colorbar\":{\"outlinewidth\":0,\"ticks\":\"\"}}}],\"scattercarpet\":[{\"type\":\"scattercarpet\",\"marker\":{\"colorbar\":{\"outlinewidth\":0,\"ticks\":\"\"}}}],\"carpet\":[{\"aaxis\":{\"endlinecolor\":\"#A2B1C6\",\"gridcolor\":\"#506784\",\"linecolor\":\"#506784\",\"minorgridcolor\":\"#506784\",\"startlinecolor\":\"#A2B1C6\"},\"baxis\":{\"endlinecolor\":\"#A2B1C6\",\"gridcolor\":\"#506784\",\"linecolor\":\"#506784\",\"minorgridcolor\":\"#506784\",\"startlinecolor\":\"#A2B1C6\"},\"type\":\"carpet\"}],\"table\":[{\"cells\":{\"fill\":{\"color\":\"#506784\"},\"line\":{\"color\":\"rgb(17,17,17)\"}},\"header\":{\"fill\":{\"color\":\"#2a3f5f\"},\"line\":{\"color\":\"rgb(17,17,17)\"}},\"type\":\"table\"}],\"barpolar\":[{\"marker\":{\"line\":{\"color\":\"rgb(17,17,17)\",\"width\":0.5},\"pattern\":{\"fillmode\":\"overlay\",\"size\":10,\"solidity\":0.2}},\"type\":\"barpolar\"}],\"pie\":[{\"automargin\":true,\"type\":\"pie\"}]},\"layout\":{\"autotypenumbers\":\"strict\",\"colorway\":[\"#636efa\",\"#EF553B\",\"#00cc96\",\"#ab63fa\",\"#FFA15A\",\"#19d3f3\",\"#FF6692\",\"#B6E880\",\"#FF97FF\",\"#FECB52\"],\"font\":{\"color\":\"#f2f5fa\"},\"hovermode\":\"closest\",\"hoverlabel\":{\"align\":\"left\"},\"paper_bgcolor\":\"rgb(17,17,17)\",\"plot_bgcolor\":\"rgb(17,17,17)\",\"polar\":{\"bgcolor\":\"rgb(17,17,17)\",\"angularaxis\":{\"gridcolor\":\"#506784\",\"linecolor\":\"#506784\",\"ticks\":\"\"},\"radialaxis\":{\"gridcolor\":\"#506784\",\"linecolor\":\"#506784\",\"ticks\":\"\"}},\"ternary\":{\"bgcolor\":\"rgb(17,17,17)\",\"aaxis\":{\"gridcolor\":\"#506784\",\"linecolor\":\"#506784\",\"ticks\":\"\"},\"baxis\":{\"gridcolor\":\"#506784\",\"linecolor\":\"#506784\",\"ticks\":\"\"},\"caxis\":{\"gridcolor\":\"#506784\",\"linecolor\":\"#506784\",\"ticks\":\"\"}},\"coloraxis\":{\"colorbar\":{\"outlinewidth\":0,\"ticks\":\"\"}},\"colorscale\":{\"sequential\":[[0.0,\"#0d0887\"],[0.1111111111111111,\"#46039f\"],[0.2222222222222222,\"#7201a8\"],[0.3333333333333333,\"#9c179e\"],[0.4444444444444444,\"#bd3786\"],[0.5555555555555556,\"#d8576b\"],[0.6666666666666666,\"#ed7953\"],[0.7777777777777778,\"#fb9f3a\"],[0.8888888888888888,\"#fdca26\"],[1.0,\"#f0f921\"]],\"sequentialminus\":[[0.0,\"#0d0887\"],[0.1111111111111111,\"#46039f\"],[0.2222222222222222,\"#7201a8\"],[0.3333333333333333,\"#9c179e\"],[0.4444444444444444,\"#bd3786\"],[0.5555555555555556,\"#d8576b\"],[0.6666666666666666,\"#ed7953\"],[0.7777777777777778,\"#fb9f3a\"],[0.8888888888888888,\"#fdca26\"],[1.0,\"#f0f921\"]],\"diverging\":[[0,\"#8e0152\"],[0.1,\"#c51b7d\"],[0.2,\"#de77ae\"],[0.3,\"#f1b6da\"],[0.4,\"#fde0ef\"],[0.5,\"#f7f7f7\"],[0.6,\"#e6f5d0\"],[0.7,\"#b8e186\"],[0.8,\"#7fbc41\"],[0.9,\"#4d9221\"],[1,\"#276419\"]]},\"xaxis\":{\"gridcolor\":\"#283442\",\"linecolor\":\"#506784\",\"ticks\":\"\",\"title\":{\"standoff\":15},\"zerolinecolor\":\"#283442\",\"automargin\":true,\"zerolinewidth\":2},\"yaxis\":{\"gridcolor\":\"#283442\",\"linecolor\":\"#506784\",\"ticks\":\"\",\"title\":{\"standoff\":15},\"zerolinecolor\":\"#283442\",\"automargin\":true,\"zerolinewidth\":2},\"scene\":{\"xaxis\":{\"backgroundcolor\":\"rgb(17,17,17)\",\"gridcolor\":\"#506784\",\"linecolor\":\"#506784\",\"showbackground\":true,\"ticks\":\"\",\"zerolinecolor\":\"#C8D4E3\",\"gridwidth\":2},\"yaxis\":{\"backgroundcolor\":\"rgb(17,17,17)\",\"gridcolor\":\"#506784\",\"linecolor\":\"#506784\",\"showbackground\":true,\"ticks\":\"\",\"zerolinecolor\":\"#C8D4E3\",\"gridwidth\":2},\"zaxis\":{\"backgroundcolor\":\"rgb(17,17,17)\",\"gridcolor\":\"#506784\",\"linecolor\":\"#506784\",\"showbackground\":true,\"ticks\":\"\",\"zerolinecolor\":\"#C8D4E3\",\"gridwidth\":2}},\"shapedefaults\":{\"line\":{\"color\":\"#f2f5fa\"}},\"annotationdefaults\":{\"arrowcolor\":\"#f2f5fa\",\"arrowhead\":0,\"arrowwidth\":1},\"geo\":{\"bgcolor\":\"rgb(17,17,17)\",\"landcolor\":\"rgb(17,17,17)\",\"subunitcolor\":\"#506784\",\"showland\":true,\"showlakes\":true,\"lakecolor\":\"rgb(17,17,17)\"},\"title\":{\"x\":0.05},\"updatemenudefaults\":{\"bgcolor\":\"#506784\",\"borderwidth\":0},\"sliderdefaults\":{\"bgcolor\":\"#C8D4E3\",\"borderwidth\":1,\"bordercolor\":\"rgb(17,17,17)\",\"tickwidth\":0},\"mapbox\":{\"style\":\"dark\"}}},\"xaxis\":{\"anchor\":\"y\",\"domain\":[0.0,1.0],\"title\":{\"text\":\"Impact Score\"}},\"yaxis\":{\"anchor\":\"x\",\"domain\":[0.0,1.0],\"title\":{\"text\":\"Count of Issues\"}},\"legend\":{\"title\":{\"text\":\"Impact Score Level\"},\"tracegroupgap\":0},\"title\":{\"text\":\"Distribution of Impact Scores by Cluster\"},\"barmode\":\"relative\"},                        {\"responsive\": true}                    ).then(function(){\n",
       "                            \n",
       "var gd = document.getElementById('1a4ede21-8e2e-46c2-ae52-24456fe72039');\n",
       "var x = new MutationObserver(function (mutations, observer) {{\n",
       "        var display = window.getComputedStyle(gd).display;\n",
       "        if (!display || display === 'none') {{\n",
       "            console.log([gd, 'removed!']);\n",
       "            Plotly.purge(gd);\n",
       "            observer.disconnect();\n",
       "        }}\n",
       "}});\n",
       "\n",
       "// Listen for the removal of the full notebook cells\n",
       "var notebookContainer = gd.closest('#notebook-container');\n",
       "if (notebookContainer) {{\n",
       "    x.observe(notebookContainer, {childList: true});\n",
       "}}\n",
       "\n",
       "// Listen for the clearing of the current output cell\n",
       "var outputEl = gd.closest('.output');\n",
       "if (outputEl) {{\n",
       "    x.observe(outputEl, {childList: true});\n",
       "}}\n",
       "\n",
       "                        })                };                });            </script>        </div>"
      ]
     },
     "metadata": {},
     "output_type": "display_data"
    }
   ],
   "execution_count": 16
  },
  {
   "metadata": {
    "ExecuteTime": {
     "end_time": "2025-01-17T22:40:59.986128Z",
     "start_time": "2025-01-17T22:40:59.938905Z"
    }
   },
   "cell_type": "code",
   "source": [
    "from src.visualization import plot_top_percentiles\n",
    "perc_n = 0.75 # adjust as needed\n",
    "\n",
    "plot_top_percentiles(issues_group, perc_n)"
   ],
   "id": "454d3f6af4a11092",
   "outputs": [
    {
     "data": {
      "application/vnd.plotly.v1+json": {
       "data": [
        {
         "alignmentgroup": "True",
         "hovertemplate": "Impact_Score_Quadrant=High<br>Issue Name=%{x}<br>Clicks_gsc=%{y}<extra></extra>",
         "legendgroup": "High",
         "marker": {
          "color": "#636efa",
          "pattern": {
           "shape": ""
          }
         },
         "name": "High",
         "offsetgroup": "High",
         "orientation": "v",
         "showlegend": true,
         "textposition": "auto",
         "x": [
          "H2: Multiple",
          "Structured Data: Missing",
          "H2: Non-Sequential",
          "Page Titles: Duplicate",
          "Page Titles: Below 30 Characters",
          "Page Titles: Below 200 Pixels",
          "Content: Low Content Pages",
          "H1: Missing",
          "Meta Description: Over 155 Characters",
          "Content: Readability Difficult",
          "H2: Duplicate"
         ],
         "xaxis": "x",
         "y": [
          296729.0,
          294432.0,
          266718.0,
          262377.0,
          31447.0,
          28226.0,
          15417.0,
          10079.0,
          9633.0,
          9158.0,
          7458.0
         ],
         "yaxis": "y",
         "type": "bar"
        },
        {
         "alignmentgroup": "True",
         "hovertemplate": "Impact_Score_Quadrant=Medium<br>Issue Name=%{x}<br>Clicks_gsc=%{y}<extra></extra>",
         "legendgroup": "Medium",
         "marker": {
          "color": "#EF553B",
          "pattern": {
           "shape": ""
          }
         },
         "name": "Medium",
         "offsetgroup": "Medium",
         "orientation": "v",
         "showlegend": true,
         "textposition": "auto",
         "x": [
          "H2: Missing",
          "Content: Readability Very Difficult",
          "Meta Description: Below 70 Characters",
          "Meta Description: Below 400 Pixels"
         ],
         "xaxis": "x",
         "y": [
          12315.0,
          10693.0,
          5313.0,
          5313.0
         ],
         "yaxis": "y",
         "type": "bar"
        }
       ],
       "layout": {
        "template": {
         "data": {
          "histogram2dcontour": [
           {
            "type": "histogram2dcontour",
            "colorbar": {
             "outlinewidth": 0,
             "ticks": ""
            },
            "colorscale": [
             [
              0.0,
              "#0d0887"
             ],
             [
              0.1111111111111111,
              "#46039f"
             ],
             [
              0.2222222222222222,
              "#7201a8"
             ],
             [
              0.3333333333333333,
              "#9c179e"
             ],
             [
              0.4444444444444444,
              "#bd3786"
             ],
             [
              0.5555555555555556,
              "#d8576b"
             ],
             [
              0.6666666666666666,
              "#ed7953"
             ],
             [
              0.7777777777777778,
              "#fb9f3a"
             ],
             [
              0.8888888888888888,
              "#fdca26"
             ],
             [
              1.0,
              "#f0f921"
             ]
            ]
           }
          ],
          "choropleth": [
           {
            "type": "choropleth",
            "colorbar": {
             "outlinewidth": 0,
             "ticks": ""
            }
           }
          ],
          "histogram2d": [
           {
            "type": "histogram2d",
            "colorbar": {
             "outlinewidth": 0,
             "ticks": ""
            },
            "colorscale": [
             [
              0.0,
              "#0d0887"
             ],
             [
              0.1111111111111111,
              "#46039f"
             ],
             [
              0.2222222222222222,
              "#7201a8"
             ],
             [
              0.3333333333333333,
              "#9c179e"
             ],
             [
              0.4444444444444444,
              "#bd3786"
             ],
             [
              0.5555555555555556,
              "#d8576b"
             ],
             [
              0.6666666666666666,
              "#ed7953"
             ],
             [
              0.7777777777777778,
              "#fb9f3a"
             ],
             [
              0.8888888888888888,
              "#fdca26"
             ],
             [
              1.0,
              "#f0f921"
             ]
            ]
           }
          ],
          "heatmap": [
           {
            "type": "heatmap",
            "colorbar": {
             "outlinewidth": 0,
             "ticks": ""
            },
            "colorscale": [
             [
              0.0,
              "#0d0887"
             ],
             [
              0.1111111111111111,
              "#46039f"
             ],
             [
              0.2222222222222222,
              "#7201a8"
             ],
             [
              0.3333333333333333,
              "#9c179e"
             ],
             [
              0.4444444444444444,
              "#bd3786"
             ],
             [
              0.5555555555555556,
              "#d8576b"
             ],
             [
              0.6666666666666666,
              "#ed7953"
             ],
             [
              0.7777777777777778,
              "#fb9f3a"
             ],
             [
              0.8888888888888888,
              "#fdca26"
             ],
             [
              1.0,
              "#f0f921"
             ]
            ]
           }
          ],
          "heatmapgl": [
           {
            "type": "heatmapgl",
            "colorbar": {
             "outlinewidth": 0,
             "ticks": ""
            },
            "colorscale": [
             [
              0.0,
              "#0d0887"
             ],
             [
              0.1111111111111111,
              "#46039f"
             ],
             [
              0.2222222222222222,
              "#7201a8"
             ],
             [
              0.3333333333333333,
              "#9c179e"
             ],
             [
              0.4444444444444444,
              "#bd3786"
             ],
             [
              0.5555555555555556,
              "#d8576b"
             ],
             [
              0.6666666666666666,
              "#ed7953"
             ],
             [
              0.7777777777777778,
              "#fb9f3a"
             ],
             [
              0.8888888888888888,
              "#fdca26"
             ],
             [
              1.0,
              "#f0f921"
             ]
            ]
           }
          ],
          "contourcarpet": [
           {
            "type": "contourcarpet",
            "colorbar": {
             "outlinewidth": 0,
             "ticks": ""
            }
           }
          ],
          "contour": [
           {
            "type": "contour",
            "colorbar": {
             "outlinewidth": 0,
             "ticks": ""
            },
            "colorscale": [
             [
              0.0,
              "#0d0887"
             ],
             [
              0.1111111111111111,
              "#46039f"
             ],
             [
              0.2222222222222222,
              "#7201a8"
             ],
             [
              0.3333333333333333,
              "#9c179e"
             ],
             [
              0.4444444444444444,
              "#bd3786"
             ],
             [
              0.5555555555555556,
              "#d8576b"
             ],
             [
              0.6666666666666666,
              "#ed7953"
             ],
             [
              0.7777777777777778,
              "#fb9f3a"
             ],
             [
              0.8888888888888888,
              "#fdca26"
             ],
             [
              1.0,
              "#f0f921"
             ]
            ]
           }
          ],
          "surface": [
           {
            "type": "surface",
            "colorbar": {
             "outlinewidth": 0,
             "ticks": ""
            },
            "colorscale": [
             [
              0.0,
              "#0d0887"
             ],
             [
              0.1111111111111111,
              "#46039f"
             ],
             [
              0.2222222222222222,
              "#7201a8"
             ],
             [
              0.3333333333333333,
              "#9c179e"
             ],
             [
              0.4444444444444444,
              "#bd3786"
             ],
             [
              0.5555555555555556,
              "#d8576b"
             ],
             [
              0.6666666666666666,
              "#ed7953"
             ],
             [
              0.7777777777777778,
              "#fb9f3a"
             ],
             [
              0.8888888888888888,
              "#fdca26"
             ],
             [
              1.0,
              "#f0f921"
             ]
            ]
           }
          ],
          "mesh3d": [
           {
            "type": "mesh3d",
            "colorbar": {
             "outlinewidth": 0,
             "ticks": ""
            }
           }
          ],
          "scatter": [
           {
            "marker": {
             "line": {
              "color": "#283442"
             }
            },
            "type": "scatter"
           }
          ],
          "parcoords": [
           {
            "type": "parcoords",
            "line": {
             "colorbar": {
              "outlinewidth": 0,
              "ticks": ""
             }
            }
           }
          ],
          "scatterpolargl": [
           {
            "type": "scatterpolargl",
            "marker": {
             "colorbar": {
              "outlinewidth": 0,
              "ticks": ""
             }
            }
           }
          ],
          "bar": [
           {
            "error_x": {
             "color": "#f2f5fa"
            },
            "error_y": {
             "color": "#f2f5fa"
            },
            "marker": {
             "line": {
              "color": "rgb(17,17,17)",
              "width": 0.5
             },
             "pattern": {
              "fillmode": "overlay",
              "size": 10,
              "solidity": 0.2
             }
            },
            "type": "bar"
           }
          ],
          "scattergeo": [
           {
            "type": "scattergeo",
            "marker": {
             "colorbar": {
              "outlinewidth": 0,
              "ticks": ""
             }
            }
           }
          ],
          "scatterpolar": [
           {
            "type": "scatterpolar",
            "marker": {
             "colorbar": {
              "outlinewidth": 0,
              "ticks": ""
             }
            }
           }
          ],
          "histogram": [
           {
            "marker": {
             "pattern": {
              "fillmode": "overlay",
              "size": 10,
              "solidity": 0.2
             }
            },
            "type": "histogram"
           }
          ],
          "scattergl": [
           {
            "marker": {
             "line": {
              "color": "#283442"
             }
            },
            "type": "scattergl"
           }
          ],
          "scatter3d": [
           {
            "type": "scatter3d",
            "line": {
             "colorbar": {
              "outlinewidth": 0,
              "ticks": ""
             }
            },
            "marker": {
             "colorbar": {
              "outlinewidth": 0,
              "ticks": ""
             }
            }
           }
          ],
          "scattermapbox": [
           {
            "type": "scattermapbox",
            "marker": {
             "colorbar": {
              "outlinewidth": 0,
              "ticks": ""
             }
            }
           }
          ],
          "scatterternary": [
           {
            "type": "scatterternary",
            "marker": {
             "colorbar": {
              "outlinewidth": 0,
              "ticks": ""
             }
            }
           }
          ],
          "scattercarpet": [
           {
            "type": "scattercarpet",
            "marker": {
             "colorbar": {
              "outlinewidth": 0,
              "ticks": ""
             }
            }
           }
          ],
          "carpet": [
           {
            "aaxis": {
             "endlinecolor": "#A2B1C6",
             "gridcolor": "#506784",
             "linecolor": "#506784",
             "minorgridcolor": "#506784",
             "startlinecolor": "#A2B1C6"
            },
            "baxis": {
             "endlinecolor": "#A2B1C6",
             "gridcolor": "#506784",
             "linecolor": "#506784",
             "minorgridcolor": "#506784",
             "startlinecolor": "#A2B1C6"
            },
            "type": "carpet"
           }
          ],
          "table": [
           {
            "cells": {
             "fill": {
              "color": "#506784"
             },
             "line": {
              "color": "rgb(17,17,17)"
             }
            },
            "header": {
             "fill": {
              "color": "#2a3f5f"
             },
             "line": {
              "color": "rgb(17,17,17)"
             }
            },
            "type": "table"
           }
          ],
          "barpolar": [
           {
            "marker": {
             "line": {
              "color": "rgb(17,17,17)",
              "width": 0.5
             },
             "pattern": {
              "fillmode": "overlay",
              "size": 10,
              "solidity": 0.2
             }
            },
            "type": "barpolar"
           }
          ],
          "pie": [
           {
            "automargin": true,
            "type": "pie"
           }
          ]
         },
         "layout": {
          "autotypenumbers": "strict",
          "colorway": [
           "#636efa",
           "#EF553B",
           "#00cc96",
           "#ab63fa",
           "#FFA15A",
           "#19d3f3",
           "#FF6692",
           "#B6E880",
           "#FF97FF",
           "#FECB52"
          ],
          "font": {
           "color": "#f2f5fa"
          },
          "hovermode": "closest",
          "hoverlabel": {
           "align": "left"
          },
          "paper_bgcolor": "rgb(17,17,17)",
          "plot_bgcolor": "rgb(17,17,17)",
          "polar": {
           "bgcolor": "rgb(17,17,17)",
           "angularaxis": {
            "gridcolor": "#506784",
            "linecolor": "#506784",
            "ticks": ""
           },
           "radialaxis": {
            "gridcolor": "#506784",
            "linecolor": "#506784",
            "ticks": ""
           }
          },
          "ternary": {
           "bgcolor": "rgb(17,17,17)",
           "aaxis": {
            "gridcolor": "#506784",
            "linecolor": "#506784",
            "ticks": ""
           },
           "baxis": {
            "gridcolor": "#506784",
            "linecolor": "#506784",
            "ticks": ""
           },
           "caxis": {
            "gridcolor": "#506784",
            "linecolor": "#506784",
            "ticks": ""
           }
          },
          "coloraxis": {
           "colorbar": {
            "outlinewidth": 0,
            "ticks": ""
           }
          },
          "colorscale": {
           "sequential": [
            [
             0.0,
             "#0d0887"
            ],
            [
             0.1111111111111111,
             "#46039f"
            ],
            [
             0.2222222222222222,
             "#7201a8"
            ],
            [
             0.3333333333333333,
             "#9c179e"
            ],
            [
             0.4444444444444444,
             "#bd3786"
            ],
            [
             0.5555555555555556,
             "#d8576b"
            ],
            [
             0.6666666666666666,
             "#ed7953"
            ],
            [
             0.7777777777777778,
             "#fb9f3a"
            ],
            [
             0.8888888888888888,
             "#fdca26"
            ],
            [
             1.0,
             "#f0f921"
            ]
           ],
           "sequentialminus": [
            [
             0.0,
             "#0d0887"
            ],
            [
             0.1111111111111111,
             "#46039f"
            ],
            [
             0.2222222222222222,
             "#7201a8"
            ],
            [
             0.3333333333333333,
             "#9c179e"
            ],
            [
             0.4444444444444444,
             "#bd3786"
            ],
            [
             0.5555555555555556,
             "#d8576b"
            ],
            [
             0.6666666666666666,
             "#ed7953"
            ],
            [
             0.7777777777777778,
             "#fb9f3a"
            ],
            [
             0.8888888888888888,
             "#fdca26"
            ],
            [
             1.0,
             "#f0f921"
            ]
           ],
           "diverging": [
            [
             0,
             "#8e0152"
            ],
            [
             0.1,
             "#c51b7d"
            ],
            [
             0.2,
             "#de77ae"
            ],
            [
             0.3,
             "#f1b6da"
            ],
            [
             0.4,
             "#fde0ef"
            ],
            [
             0.5,
             "#f7f7f7"
            ],
            [
             0.6,
             "#e6f5d0"
            ],
            [
             0.7,
             "#b8e186"
            ],
            [
             0.8,
             "#7fbc41"
            ],
            [
             0.9,
             "#4d9221"
            ],
            [
             1,
             "#276419"
            ]
           ]
          },
          "xaxis": {
           "gridcolor": "#283442",
           "linecolor": "#506784",
           "ticks": "",
           "title": {
            "standoff": 15
           },
           "zerolinecolor": "#283442",
           "automargin": true,
           "zerolinewidth": 2
          },
          "yaxis": {
           "gridcolor": "#283442",
           "linecolor": "#506784",
           "ticks": "",
           "title": {
            "standoff": 15
           },
           "zerolinecolor": "#283442",
           "automargin": true,
           "zerolinewidth": 2
          },
          "scene": {
           "xaxis": {
            "backgroundcolor": "rgb(17,17,17)",
            "gridcolor": "#506784",
            "linecolor": "#506784",
            "showbackground": true,
            "ticks": "",
            "zerolinecolor": "#C8D4E3",
            "gridwidth": 2
           },
           "yaxis": {
            "backgroundcolor": "rgb(17,17,17)",
            "gridcolor": "#506784",
            "linecolor": "#506784",
            "showbackground": true,
            "ticks": "",
            "zerolinecolor": "#C8D4E3",
            "gridwidth": 2
           },
           "zaxis": {
            "backgroundcolor": "rgb(17,17,17)",
            "gridcolor": "#506784",
            "linecolor": "#506784",
            "showbackground": true,
            "ticks": "",
            "zerolinecolor": "#C8D4E3",
            "gridwidth": 2
           }
          },
          "shapedefaults": {
           "line": {
            "color": "#f2f5fa"
           }
          },
          "annotationdefaults": {
           "arrowcolor": "#f2f5fa",
           "arrowhead": 0,
           "arrowwidth": 1
          },
          "geo": {
           "bgcolor": "rgb(17,17,17)",
           "landcolor": "rgb(17,17,17)",
           "subunitcolor": "#506784",
           "showland": true,
           "showlakes": true,
           "lakecolor": "rgb(17,17,17)"
          },
          "title": {
           "x": 0.05
          },
          "updatemenudefaults": {
           "bgcolor": "#506784",
           "borderwidth": 0
          },
          "sliderdefaults": {
           "bgcolor": "#C8D4E3",
           "borderwidth": 1,
           "bordercolor": "rgb(17,17,17)",
           "tickwidth": 0
          },
          "mapbox": {
           "style": "dark"
          }
         }
        },
        "xaxis": {
         "anchor": "y",
         "domain": [
          0.0,
          1.0
         ],
         "title": {
          "text": "Issue Name"
         }
        },
        "yaxis": {
         "anchor": "x",
         "domain": [
          0.0,
          1.0
         ],
         "title": {
          "text": "Clicks"
         }
        },
        "legend": {
         "title": {
          "text": "Impact_Score_Quadrant"
         },
         "tracegroupgap": 0
        },
        "title": {
         "text": "Top Issues by 75.0th percentile of Clicks"
        },
        "barmode": "relative",
        "height": 600,
        "width": 1000
       },
       "config": {
        "plotlyServerURL": "https://plot.ly"
       }
      },
      "text/html": [
       "<div>                            <div id=\"a4c9e8ce-0b35-4e44-a932-40bddc2f05e2\" class=\"plotly-graph-div\" style=\"height:600px; width:1000px;\"></div>            <script type=\"text/javascript\">                require([\"plotly\"], function(Plotly) {                    window.PLOTLYENV=window.PLOTLYENV || {};                                    if (document.getElementById(\"a4c9e8ce-0b35-4e44-a932-40bddc2f05e2\")) {                    Plotly.newPlot(                        \"a4c9e8ce-0b35-4e44-a932-40bddc2f05e2\",                        [{\"alignmentgroup\":\"True\",\"hovertemplate\":\"Impact_Score_Quadrant=High\\u003cbr\\u003eIssue Name=%{x}\\u003cbr\\u003eClicks_gsc=%{y}\\u003cextra\\u003e\\u003c\\u002fextra\\u003e\",\"legendgroup\":\"High\",\"marker\":{\"color\":\"#636efa\",\"pattern\":{\"shape\":\"\"}},\"name\":\"High\",\"offsetgroup\":\"High\",\"orientation\":\"v\",\"showlegend\":true,\"textposition\":\"auto\",\"x\":[\"H2: Multiple\",\"Structured Data: Missing\",\"H2: Non-Sequential\",\"Page Titles: Duplicate\",\"Page Titles: Below 30 Characters\",\"Page Titles: Below 200 Pixels\",\"Content: Low Content Pages\",\"H1: Missing\",\"Meta Description: Over 155 Characters\",\"Content: Readability Difficult\",\"H2: Duplicate\"],\"xaxis\":\"x\",\"y\":[296729.0,294432.0,266718.0,262377.0,31447.0,28226.0,15417.0,10079.0,9633.0,9158.0,7458.0],\"yaxis\":\"y\",\"type\":\"bar\"},{\"alignmentgroup\":\"True\",\"hovertemplate\":\"Impact_Score_Quadrant=Medium\\u003cbr\\u003eIssue Name=%{x}\\u003cbr\\u003eClicks_gsc=%{y}\\u003cextra\\u003e\\u003c\\u002fextra\\u003e\",\"legendgroup\":\"Medium\",\"marker\":{\"color\":\"#EF553B\",\"pattern\":{\"shape\":\"\"}},\"name\":\"Medium\",\"offsetgroup\":\"Medium\",\"orientation\":\"v\",\"showlegend\":true,\"textposition\":\"auto\",\"x\":[\"H2: Missing\",\"Content: Readability Very Difficult\",\"Meta Description: Below 70 Characters\",\"Meta Description: Below 400 Pixels\"],\"xaxis\":\"x\",\"y\":[12315.0,10693.0,5313.0,5313.0],\"yaxis\":\"y\",\"type\":\"bar\"}],                        {\"template\":{\"data\":{\"histogram2dcontour\":[{\"type\":\"histogram2dcontour\",\"colorbar\":{\"outlinewidth\":0,\"ticks\":\"\"},\"colorscale\":[[0.0,\"#0d0887\"],[0.1111111111111111,\"#46039f\"],[0.2222222222222222,\"#7201a8\"],[0.3333333333333333,\"#9c179e\"],[0.4444444444444444,\"#bd3786\"],[0.5555555555555556,\"#d8576b\"],[0.6666666666666666,\"#ed7953\"],[0.7777777777777778,\"#fb9f3a\"],[0.8888888888888888,\"#fdca26\"],[1.0,\"#f0f921\"]]}],\"choropleth\":[{\"type\":\"choropleth\",\"colorbar\":{\"outlinewidth\":0,\"ticks\":\"\"}}],\"histogram2d\":[{\"type\":\"histogram2d\",\"colorbar\":{\"outlinewidth\":0,\"ticks\":\"\"},\"colorscale\":[[0.0,\"#0d0887\"],[0.1111111111111111,\"#46039f\"],[0.2222222222222222,\"#7201a8\"],[0.3333333333333333,\"#9c179e\"],[0.4444444444444444,\"#bd3786\"],[0.5555555555555556,\"#d8576b\"],[0.6666666666666666,\"#ed7953\"],[0.7777777777777778,\"#fb9f3a\"],[0.8888888888888888,\"#fdca26\"],[1.0,\"#f0f921\"]]}],\"heatmap\":[{\"type\":\"heatmap\",\"colorbar\":{\"outlinewidth\":0,\"ticks\":\"\"},\"colorscale\":[[0.0,\"#0d0887\"],[0.1111111111111111,\"#46039f\"],[0.2222222222222222,\"#7201a8\"],[0.3333333333333333,\"#9c179e\"],[0.4444444444444444,\"#bd3786\"],[0.5555555555555556,\"#d8576b\"],[0.6666666666666666,\"#ed7953\"],[0.7777777777777778,\"#fb9f3a\"],[0.8888888888888888,\"#fdca26\"],[1.0,\"#f0f921\"]]}],\"heatmapgl\":[{\"type\":\"heatmapgl\",\"colorbar\":{\"outlinewidth\":0,\"ticks\":\"\"},\"colorscale\":[[0.0,\"#0d0887\"],[0.1111111111111111,\"#46039f\"],[0.2222222222222222,\"#7201a8\"],[0.3333333333333333,\"#9c179e\"],[0.4444444444444444,\"#bd3786\"],[0.5555555555555556,\"#d8576b\"],[0.6666666666666666,\"#ed7953\"],[0.7777777777777778,\"#fb9f3a\"],[0.8888888888888888,\"#fdca26\"],[1.0,\"#f0f921\"]]}],\"contourcarpet\":[{\"type\":\"contourcarpet\",\"colorbar\":{\"outlinewidth\":0,\"ticks\":\"\"}}],\"contour\":[{\"type\":\"contour\",\"colorbar\":{\"outlinewidth\":0,\"ticks\":\"\"},\"colorscale\":[[0.0,\"#0d0887\"],[0.1111111111111111,\"#46039f\"],[0.2222222222222222,\"#7201a8\"],[0.3333333333333333,\"#9c179e\"],[0.4444444444444444,\"#bd3786\"],[0.5555555555555556,\"#d8576b\"],[0.6666666666666666,\"#ed7953\"],[0.7777777777777778,\"#fb9f3a\"],[0.8888888888888888,\"#fdca26\"],[1.0,\"#f0f921\"]]}],\"surface\":[{\"type\":\"surface\",\"colorbar\":{\"outlinewidth\":0,\"ticks\":\"\"},\"colorscale\":[[0.0,\"#0d0887\"],[0.1111111111111111,\"#46039f\"],[0.2222222222222222,\"#7201a8\"],[0.3333333333333333,\"#9c179e\"],[0.4444444444444444,\"#bd3786\"],[0.5555555555555556,\"#d8576b\"],[0.6666666666666666,\"#ed7953\"],[0.7777777777777778,\"#fb9f3a\"],[0.8888888888888888,\"#fdca26\"],[1.0,\"#f0f921\"]]}],\"mesh3d\":[{\"type\":\"mesh3d\",\"colorbar\":{\"outlinewidth\":0,\"ticks\":\"\"}}],\"scatter\":[{\"marker\":{\"line\":{\"color\":\"#283442\"}},\"type\":\"scatter\"}],\"parcoords\":[{\"type\":\"parcoords\",\"line\":{\"colorbar\":{\"outlinewidth\":0,\"ticks\":\"\"}}}],\"scatterpolargl\":[{\"type\":\"scatterpolargl\",\"marker\":{\"colorbar\":{\"outlinewidth\":0,\"ticks\":\"\"}}}],\"bar\":[{\"error_x\":{\"color\":\"#f2f5fa\"},\"error_y\":{\"color\":\"#f2f5fa\"},\"marker\":{\"line\":{\"color\":\"rgb(17,17,17)\",\"width\":0.5},\"pattern\":{\"fillmode\":\"overlay\",\"size\":10,\"solidity\":0.2}},\"type\":\"bar\"}],\"scattergeo\":[{\"type\":\"scattergeo\",\"marker\":{\"colorbar\":{\"outlinewidth\":0,\"ticks\":\"\"}}}],\"scatterpolar\":[{\"type\":\"scatterpolar\",\"marker\":{\"colorbar\":{\"outlinewidth\":0,\"ticks\":\"\"}}}],\"histogram\":[{\"marker\":{\"pattern\":{\"fillmode\":\"overlay\",\"size\":10,\"solidity\":0.2}},\"type\":\"histogram\"}],\"scattergl\":[{\"marker\":{\"line\":{\"color\":\"#283442\"}},\"type\":\"scattergl\"}],\"scatter3d\":[{\"type\":\"scatter3d\",\"line\":{\"colorbar\":{\"outlinewidth\":0,\"ticks\":\"\"}},\"marker\":{\"colorbar\":{\"outlinewidth\":0,\"ticks\":\"\"}}}],\"scattermapbox\":[{\"type\":\"scattermapbox\",\"marker\":{\"colorbar\":{\"outlinewidth\":0,\"ticks\":\"\"}}}],\"scatterternary\":[{\"type\":\"scatterternary\",\"marker\":{\"colorbar\":{\"outlinewidth\":0,\"ticks\":\"\"}}}],\"scattercarpet\":[{\"type\":\"scattercarpet\",\"marker\":{\"colorbar\":{\"outlinewidth\":0,\"ticks\":\"\"}}}],\"carpet\":[{\"aaxis\":{\"endlinecolor\":\"#A2B1C6\",\"gridcolor\":\"#506784\",\"linecolor\":\"#506784\",\"minorgridcolor\":\"#506784\",\"startlinecolor\":\"#A2B1C6\"},\"baxis\":{\"endlinecolor\":\"#A2B1C6\",\"gridcolor\":\"#506784\",\"linecolor\":\"#506784\",\"minorgridcolor\":\"#506784\",\"startlinecolor\":\"#A2B1C6\"},\"type\":\"carpet\"}],\"table\":[{\"cells\":{\"fill\":{\"color\":\"#506784\"},\"line\":{\"color\":\"rgb(17,17,17)\"}},\"header\":{\"fill\":{\"color\":\"#2a3f5f\"},\"line\":{\"color\":\"rgb(17,17,17)\"}},\"type\":\"table\"}],\"barpolar\":[{\"marker\":{\"line\":{\"color\":\"rgb(17,17,17)\",\"width\":0.5},\"pattern\":{\"fillmode\":\"overlay\",\"size\":10,\"solidity\":0.2}},\"type\":\"barpolar\"}],\"pie\":[{\"automargin\":true,\"type\":\"pie\"}]},\"layout\":{\"autotypenumbers\":\"strict\",\"colorway\":[\"#636efa\",\"#EF553B\",\"#00cc96\",\"#ab63fa\",\"#FFA15A\",\"#19d3f3\",\"#FF6692\",\"#B6E880\",\"#FF97FF\",\"#FECB52\"],\"font\":{\"color\":\"#f2f5fa\"},\"hovermode\":\"closest\",\"hoverlabel\":{\"align\":\"left\"},\"paper_bgcolor\":\"rgb(17,17,17)\",\"plot_bgcolor\":\"rgb(17,17,17)\",\"polar\":{\"bgcolor\":\"rgb(17,17,17)\",\"angularaxis\":{\"gridcolor\":\"#506784\",\"linecolor\":\"#506784\",\"ticks\":\"\"},\"radialaxis\":{\"gridcolor\":\"#506784\",\"linecolor\":\"#506784\",\"ticks\":\"\"}},\"ternary\":{\"bgcolor\":\"rgb(17,17,17)\",\"aaxis\":{\"gridcolor\":\"#506784\",\"linecolor\":\"#506784\",\"ticks\":\"\"},\"baxis\":{\"gridcolor\":\"#506784\",\"linecolor\":\"#506784\",\"ticks\":\"\"},\"caxis\":{\"gridcolor\":\"#506784\",\"linecolor\":\"#506784\",\"ticks\":\"\"}},\"coloraxis\":{\"colorbar\":{\"outlinewidth\":0,\"ticks\":\"\"}},\"colorscale\":{\"sequential\":[[0.0,\"#0d0887\"],[0.1111111111111111,\"#46039f\"],[0.2222222222222222,\"#7201a8\"],[0.3333333333333333,\"#9c179e\"],[0.4444444444444444,\"#bd3786\"],[0.5555555555555556,\"#d8576b\"],[0.6666666666666666,\"#ed7953\"],[0.7777777777777778,\"#fb9f3a\"],[0.8888888888888888,\"#fdca26\"],[1.0,\"#f0f921\"]],\"sequentialminus\":[[0.0,\"#0d0887\"],[0.1111111111111111,\"#46039f\"],[0.2222222222222222,\"#7201a8\"],[0.3333333333333333,\"#9c179e\"],[0.4444444444444444,\"#bd3786\"],[0.5555555555555556,\"#d8576b\"],[0.6666666666666666,\"#ed7953\"],[0.7777777777777778,\"#fb9f3a\"],[0.8888888888888888,\"#fdca26\"],[1.0,\"#f0f921\"]],\"diverging\":[[0,\"#8e0152\"],[0.1,\"#c51b7d\"],[0.2,\"#de77ae\"],[0.3,\"#f1b6da\"],[0.4,\"#fde0ef\"],[0.5,\"#f7f7f7\"],[0.6,\"#e6f5d0\"],[0.7,\"#b8e186\"],[0.8,\"#7fbc41\"],[0.9,\"#4d9221\"],[1,\"#276419\"]]},\"xaxis\":{\"gridcolor\":\"#283442\",\"linecolor\":\"#506784\",\"ticks\":\"\",\"title\":{\"standoff\":15},\"zerolinecolor\":\"#283442\",\"automargin\":true,\"zerolinewidth\":2},\"yaxis\":{\"gridcolor\":\"#283442\",\"linecolor\":\"#506784\",\"ticks\":\"\",\"title\":{\"standoff\":15},\"zerolinecolor\":\"#283442\",\"automargin\":true,\"zerolinewidth\":2},\"scene\":{\"xaxis\":{\"backgroundcolor\":\"rgb(17,17,17)\",\"gridcolor\":\"#506784\",\"linecolor\":\"#506784\",\"showbackground\":true,\"ticks\":\"\",\"zerolinecolor\":\"#C8D4E3\",\"gridwidth\":2},\"yaxis\":{\"backgroundcolor\":\"rgb(17,17,17)\",\"gridcolor\":\"#506784\",\"linecolor\":\"#506784\",\"showbackground\":true,\"ticks\":\"\",\"zerolinecolor\":\"#C8D4E3\",\"gridwidth\":2},\"zaxis\":{\"backgroundcolor\":\"rgb(17,17,17)\",\"gridcolor\":\"#506784\",\"linecolor\":\"#506784\",\"showbackground\":true,\"ticks\":\"\",\"zerolinecolor\":\"#C8D4E3\",\"gridwidth\":2}},\"shapedefaults\":{\"line\":{\"color\":\"#f2f5fa\"}},\"annotationdefaults\":{\"arrowcolor\":\"#f2f5fa\",\"arrowhead\":0,\"arrowwidth\":1},\"geo\":{\"bgcolor\":\"rgb(17,17,17)\",\"landcolor\":\"rgb(17,17,17)\",\"subunitcolor\":\"#506784\",\"showland\":true,\"showlakes\":true,\"lakecolor\":\"rgb(17,17,17)\"},\"title\":{\"x\":0.05},\"updatemenudefaults\":{\"bgcolor\":\"#506784\",\"borderwidth\":0},\"sliderdefaults\":{\"bgcolor\":\"#C8D4E3\",\"borderwidth\":1,\"bordercolor\":\"rgb(17,17,17)\",\"tickwidth\":0},\"mapbox\":{\"style\":\"dark\"}}},\"xaxis\":{\"anchor\":\"y\",\"domain\":[0.0,1.0],\"title\":{\"text\":\"Issue Name\"}},\"yaxis\":{\"anchor\":\"x\",\"domain\":[0.0,1.0],\"title\":{\"text\":\"Clicks\"}},\"legend\":{\"title\":{\"text\":\"Impact_Score_Quadrant\"},\"tracegroupgap\":0},\"title\":{\"text\":\"Top Issues by 75.0th percentile of Clicks\"},\"barmode\":\"relative\",\"height\":600,\"width\":1000},                        {\"responsive\": true}                    ).then(function(){\n",
       "                            \n",
       "var gd = document.getElementById('a4c9e8ce-0b35-4e44-a932-40bddc2f05e2');\n",
       "var x = new MutationObserver(function (mutations, observer) {{\n",
       "        var display = window.getComputedStyle(gd).display;\n",
       "        if (!display || display === 'none') {{\n",
       "            console.log([gd, 'removed!']);\n",
       "            Plotly.purge(gd);\n",
       "            observer.disconnect();\n",
       "        }}\n",
       "}});\n",
       "\n",
       "// Listen for the removal of the full notebook cells\n",
       "var notebookContainer = gd.closest('#notebook-container');\n",
       "if (notebookContainer) {{\n",
       "    x.observe(notebookContainer, {childList: true});\n",
       "}}\n",
       "\n",
       "// Listen for the clearing of the current output cell\n",
       "var outputEl = gd.closest('.output');\n",
       "if (outputEl) {{\n",
       "    x.observe(outputEl, {childList: true});\n",
       "}}\n",
       "\n",
       "                        })                };                });            </script>        </div>"
      ]
     },
     "metadata": {},
     "output_type": "display_data"
    },
    {
     "data": {
      "application/vnd.plotly.v1+json": {
       "data": [
        {
         "alignmentgroup": "True",
         "hovertemplate": "Impact_Score_Quadrant=High<br>Issue Name=%{x}<br>Address=%{y}<extra></extra>",
         "legendgroup": "High",
         "marker": {
          "color": "#636efa",
          "pattern": {
           "shape": ""
          }
         },
         "name": "High",
         "offsetgroup": "High",
         "orientation": "v",
         "showlegend": true,
         "textposition": "auto",
         "x": [
          "Structured Data: Missing",
          "H2: Duplicate",
          "H2: Multiple",
          "Content: Low Content Pages",
          "H1: Missing",
          "Structured Data: Rich Result Validation Errors"
         ],
         "xaxis": "x",
         "y": [
          275,
          207,
          204,
          167,
          88,
          84
         ],
         "yaxis": "y",
         "type": "bar"
        },
        {
         "alignmentgroup": "True",
         "hovertemplate": "Impact_Score_Quadrant=Medium<br>Issue Name=%{x}<br>Address=%{y}<extra></extra>",
         "legendgroup": "Medium",
         "marker": {
          "color": "#EF553B",
          "pattern": {
           "shape": ""
          }
         },
         "name": "Medium",
         "offsetgroup": "Medium",
         "orientation": "v",
         "showlegend": true,
         "textposition": "auto",
         "x": [
          "Meta Description: Duplicate",
          "Structured Data: Rich Result Validation Warnings"
         ],
         "xaxis": "x",
         "y": [
          87,
          83
         ],
         "yaxis": "y",
         "type": "bar"
        },
        {
         "alignmentgroup": "True",
         "hovertemplate": "Impact_Score_Quadrant=Low<br>Issue Name=%{x}<br>Address=%{y}<extra></extra>",
         "legendgroup": "Low",
         "marker": {
          "color": "#00cc96",
          "pattern": {
           "shape": ""
          }
         },
         "name": "Low",
         "offsetgroup": "Low",
         "orientation": "v",
         "showlegend": true,
         "textposition": "auto",
         "x": [
          "Response Codes: Internal Blocked Resource",
          "Canonicals: Canonicalised"
         ],
         "xaxis": "x",
         "y": [
          254,
          115
         ],
         "yaxis": "y",
         "type": "bar"
        },
        {
         "alignmentgroup": "True",
         "hovertemplate": "Impact_Score_Quadrant=Backlog<br>Issue Name=%{x}<br>Address=%{y}<extra></extra>",
         "legendgroup": "Backlog",
         "marker": {
          "color": "#ab63fa",
          "pattern": {
           "shape": ""
          }
         },
         "name": "Backlog",
         "offsetgroup": "Backlog",
         "orientation": "v",
         "showlegend": true,
         "textposition": "auto",
         "x": [
          "Search Console: No Search Analytics Data",
          "URL: Parameters",
          "URL: Underscores",
          "URL: GA Tracking Parameters"
         ],
         "xaxis": "x",
         "y": [
          311,
          136,
          124,
          117
         ],
         "yaxis": "y",
         "type": "bar"
        }
       ],
       "layout": {
        "template": {
         "data": {
          "histogram2dcontour": [
           {
            "type": "histogram2dcontour",
            "colorbar": {
             "outlinewidth": 0,
             "ticks": ""
            },
            "colorscale": [
             [
              0.0,
              "#0d0887"
             ],
             [
              0.1111111111111111,
              "#46039f"
             ],
             [
              0.2222222222222222,
              "#7201a8"
             ],
             [
              0.3333333333333333,
              "#9c179e"
             ],
             [
              0.4444444444444444,
              "#bd3786"
             ],
             [
              0.5555555555555556,
              "#d8576b"
             ],
             [
              0.6666666666666666,
              "#ed7953"
             ],
             [
              0.7777777777777778,
              "#fb9f3a"
             ],
             [
              0.8888888888888888,
              "#fdca26"
             ],
             [
              1.0,
              "#f0f921"
             ]
            ]
           }
          ],
          "choropleth": [
           {
            "type": "choropleth",
            "colorbar": {
             "outlinewidth": 0,
             "ticks": ""
            }
           }
          ],
          "histogram2d": [
           {
            "type": "histogram2d",
            "colorbar": {
             "outlinewidth": 0,
             "ticks": ""
            },
            "colorscale": [
             [
              0.0,
              "#0d0887"
             ],
             [
              0.1111111111111111,
              "#46039f"
             ],
             [
              0.2222222222222222,
              "#7201a8"
             ],
             [
              0.3333333333333333,
              "#9c179e"
             ],
             [
              0.4444444444444444,
              "#bd3786"
             ],
             [
              0.5555555555555556,
              "#d8576b"
             ],
             [
              0.6666666666666666,
              "#ed7953"
             ],
             [
              0.7777777777777778,
              "#fb9f3a"
             ],
             [
              0.8888888888888888,
              "#fdca26"
             ],
             [
              1.0,
              "#f0f921"
             ]
            ]
           }
          ],
          "heatmap": [
           {
            "type": "heatmap",
            "colorbar": {
             "outlinewidth": 0,
             "ticks": ""
            },
            "colorscale": [
             [
              0.0,
              "#0d0887"
             ],
             [
              0.1111111111111111,
              "#46039f"
             ],
             [
              0.2222222222222222,
              "#7201a8"
             ],
             [
              0.3333333333333333,
              "#9c179e"
             ],
             [
              0.4444444444444444,
              "#bd3786"
             ],
             [
              0.5555555555555556,
              "#d8576b"
             ],
             [
              0.6666666666666666,
              "#ed7953"
             ],
             [
              0.7777777777777778,
              "#fb9f3a"
             ],
             [
              0.8888888888888888,
              "#fdca26"
             ],
             [
              1.0,
              "#f0f921"
             ]
            ]
           }
          ],
          "heatmapgl": [
           {
            "type": "heatmapgl",
            "colorbar": {
             "outlinewidth": 0,
             "ticks": ""
            },
            "colorscale": [
             [
              0.0,
              "#0d0887"
             ],
             [
              0.1111111111111111,
              "#46039f"
             ],
             [
              0.2222222222222222,
              "#7201a8"
             ],
             [
              0.3333333333333333,
              "#9c179e"
             ],
             [
              0.4444444444444444,
              "#bd3786"
             ],
             [
              0.5555555555555556,
              "#d8576b"
             ],
             [
              0.6666666666666666,
              "#ed7953"
             ],
             [
              0.7777777777777778,
              "#fb9f3a"
             ],
             [
              0.8888888888888888,
              "#fdca26"
             ],
             [
              1.0,
              "#f0f921"
             ]
            ]
           }
          ],
          "contourcarpet": [
           {
            "type": "contourcarpet",
            "colorbar": {
             "outlinewidth": 0,
             "ticks": ""
            }
           }
          ],
          "contour": [
           {
            "type": "contour",
            "colorbar": {
             "outlinewidth": 0,
             "ticks": ""
            },
            "colorscale": [
             [
              0.0,
              "#0d0887"
             ],
             [
              0.1111111111111111,
              "#46039f"
             ],
             [
              0.2222222222222222,
              "#7201a8"
             ],
             [
              0.3333333333333333,
              "#9c179e"
             ],
             [
              0.4444444444444444,
              "#bd3786"
             ],
             [
              0.5555555555555556,
              "#d8576b"
             ],
             [
              0.6666666666666666,
              "#ed7953"
             ],
             [
              0.7777777777777778,
              "#fb9f3a"
             ],
             [
              0.8888888888888888,
              "#fdca26"
             ],
             [
              1.0,
              "#f0f921"
             ]
            ]
           }
          ],
          "surface": [
           {
            "type": "surface",
            "colorbar": {
             "outlinewidth": 0,
             "ticks": ""
            },
            "colorscale": [
             [
              0.0,
              "#0d0887"
             ],
             [
              0.1111111111111111,
              "#46039f"
             ],
             [
              0.2222222222222222,
              "#7201a8"
             ],
             [
              0.3333333333333333,
              "#9c179e"
             ],
             [
              0.4444444444444444,
              "#bd3786"
             ],
             [
              0.5555555555555556,
              "#d8576b"
             ],
             [
              0.6666666666666666,
              "#ed7953"
             ],
             [
              0.7777777777777778,
              "#fb9f3a"
             ],
             [
              0.8888888888888888,
              "#fdca26"
             ],
             [
              1.0,
              "#f0f921"
             ]
            ]
           }
          ],
          "mesh3d": [
           {
            "type": "mesh3d",
            "colorbar": {
             "outlinewidth": 0,
             "ticks": ""
            }
           }
          ],
          "scatter": [
           {
            "marker": {
             "line": {
              "color": "#283442"
             }
            },
            "type": "scatter"
           }
          ],
          "parcoords": [
           {
            "type": "parcoords",
            "line": {
             "colorbar": {
              "outlinewidth": 0,
              "ticks": ""
             }
            }
           }
          ],
          "scatterpolargl": [
           {
            "type": "scatterpolargl",
            "marker": {
             "colorbar": {
              "outlinewidth": 0,
              "ticks": ""
             }
            }
           }
          ],
          "bar": [
           {
            "error_x": {
             "color": "#f2f5fa"
            },
            "error_y": {
             "color": "#f2f5fa"
            },
            "marker": {
             "line": {
              "color": "rgb(17,17,17)",
              "width": 0.5
             },
             "pattern": {
              "fillmode": "overlay",
              "size": 10,
              "solidity": 0.2
             }
            },
            "type": "bar"
           }
          ],
          "scattergeo": [
           {
            "type": "scattergeo",
            "marker": {
             "colorbar": {
              "outlinewidth": 0,
              "ticks": ""
             }
            }
           }
          ],
          "scatterpolar": [
           {
            "type": "scatterpolar",
            "marker": {
             "colorbar": {
              "outlinewidth": 0,
              "ticks": ""
             }
            }
           }
          ],
          "histogram": [
           {
            "marker": {
             "pattern": {
              "fillmode": "overlay",
              "size": 10,
              "solidity": 0.2
             }
            },
            "type": "histogram"
           }
          ],
          "scattergl": [
           {
            "marker": {
             "line": {
              "color": "#283442"
             }
            },
            "type": "scattergl"
           }
          ],
          "scatter3d": [
           {
            "type": "scatter3d",
            "line": {
             "colorbar": {
              "outlinewidth": 0,
              "ticks": ""
             }
            },
            "marker": {
             "colorbar": {
              "outlinewidth": 0,
              "ticks": ""
             }
            }
           }
          ],
          "scattermapbox": [
           {
            "type": "scattermapbox",
            "marker": {
             "colorbar": {
              "outlinewidth": 0,
              "ticks": ""
             }
            }
           }
          ],
          "scatterternary": [
           {
            "type": "scatterternary",
            "marker": {
             "colorbar": {
              "outlinewidth": 0,
              "ticks": ""
             }
            }
           }
          ],
          "scattercarpet": [
           {
            "type": "scattercarpet",
            "marker": {
             "colorbar": {
              "outlinewidth": 0,
              "ticks": ""
             }
            }
           }
          ],
          "carpet": [
           {
            "aaxis": {
             "endlinecolor": "#A2B1C6",
             "gridcolor": "#506784",
             "linecolor": "#506784",
             "minorgridcolor": "#506784",
             "startlinecolor": "#A2B1C6"
            },
            "baxis": {
             "endlinecolor": "#A2B1C6",
             "gridcolor": "#506784",
             "linecolor": "#506784",
             "minorgridcolor": "#506784",
             "startlinecolor": "#A2B1C6"
            },
            "type": "carpet"
           }
          ],
          "table": [
           {
            "cells": {
             "fill": {
              "color": "#506784"
             },
             "line": {
              "color": "rgb(17,17,17)"
             }
            },
            "header": {
             "fill": {
              "color": "#2a3f5f"
             },
             "line": {
              "color": "rgb(17,17,17)"
             }
            },
            "type": "table"
           }
          ],
          "barpolar": [
           {
            "marker": {
             "line": {
              "color": "rgb(17,17,17)",
              "width": 0.5
             },
             "pattern": {
              "fillmode": "overlay",
              "size": 10,
              "solidity": 0.2
             }
            },
            "type": "barpolar"
           }
          ],
          "pie": [
           {
            "automargin": true,
            "type": "pie"
           }
          ]
         },
         "layout": {
          "autotypenumbers": "strict",
          "colorway": [
           "#636efa",
           "#EF553B",
           "#00cc96",
           "#ab63fa",
           "#FFA15A",
           "#19d3f3",
           "#FF6692",
           "#B6E880",
           "#FF97FF",
           "#FECB52"
          ],
          "font": {
           "color": "#f2f5fa"
          },
          "hovermode": "closest",
          "hoverlabel": {
           "align": "left"
          },
          "paper_bgcolor": "rgb(17,17,17)",
          "plot_bgcolor": "rgb(17,17,17)",
          "polar": {
           "bgcolor": "rgb(17,17,17)",
           "angularaxis": {
            "gridcolor": "#506784",
            "linecolor": "#506784",
            "ticks": ""
           },
           "radialaxis": {
            "gridcolor": "#506784",
            "linecolor": "#506784",
            "ticks": ""
           }
          },
          "ternary": {
           "bgcolor": "rgb(17,17,17)",
           "aaxis": {
            "gridcolor": "#506784",
            "linecolor": "#506784",
            "ticks": ""
           },
           "baxis": {
            "gridcolor": "#506784",
            "linecolor": "#506784",
            "ticks": ""
           },
           "caxis": {
            "gridcolor": "#506784",
            "linecolor": "#506784",
            "ticks": ""
           }
          },
          "coloraxis": {
           "colorbar": {
            "outlinewidth": 0,
            "ticks": ""
           }
          },
          "colorscale": {
           "sequential": [
            [
             0.0,
             "#0d0887"
            ],
            [
             0.1111111111111111,
             "#46039f"
            ],
            [
             0.2222222222222222,
             "#7201a8"
            ],
            [
             0.3333333333333333,
             "#9c179e"
            ],
            [
             0.4444444444444444,
             "#bd3786"
            ],
            [
             0.5555555555555556,
             "#d8576b"
            ],
            [
             0.6666666666666666,
             "#ed7953"
            ],
            [
             0.7777777777777778,
             "#fb9f3a"
            ],
            [
             0.8888888888888888,
             "#fdca26"
            ],
            [
             1.0,
             "#f0f921"
            ]
           ],
           "sequentialminus": [
            [
             0.0,
             "#0d0887"
            ],
            [
             0.1111111111111111,
             "#46039f"
            ],
            [
             0.2222222222222222,
             "#7201a8"
            ],
            [
             0.3333333333333333,
             "#9c179e"
            ],
            [
             0.4444444444444444,
             "#bd3786"
            ],
            [
             0.5555555555555556,
             "#d8576b"
            ],
            [
             0.6666666666666666,
             "#ed7953"
            ],
            [
             0.7777777777777778,
             "#fb9f3a"
            ],
            [
             0.8888888888888888,
             "#fdca26"
            ],
            [
             1.0,
             "#f0f921"
            ]
           ],
           "diverging": [
            [
             0,
             "#8e0152"
            ],
            [
             0.1,
             "#c51b7d"
            ],
            [
             0.2,
             "#de77ae"
            ],
            [
             0.3,
             "#f1b6da"
            ],
            [
             0.4,
             "#fde0ef"
            ],
            [
             0.5,
             "#f7f7f7"
            ],
            [
             0.6,
             "#e6f5d0"
            ],
            [
             0.7,
             "#b8e186"
            ],
            [
             0.8,
             "#7fbc41"
            ],
            [
             0.9,
             "#4d9221"
            ],
            [
             1,
             "#276419"
            ]
           ]
          },
          "xaxis": {
           "gridcolor": "#283442",
           "linecolor": "#506784",
           "ticks": "",
           "title": {
            "standoff": 15
           },
           "zerolinecolor": "#283442",
           "automargin": true,
           "zerolinewidth": 2
          },
          "yaxis": {
           "gridcolor": "#283442",
           "linecolor": "#506784",
           "ticks": "",
           "title": {
            "standoff": 15
           },
           "zerolinecolor": "#283442",
           "automargin": true,
           "zerolinewidth": 2
          },
          "scene": {
           "xaxis": {
            "backgroundcolor": "rgb(17,17,17)",
            "gridcolor": "#506784",
            "linecolor": "#506784",
            "showbackground": true,
            "ticks": "",
            "zerolinecolor": "#C8D4E3",
            "gridwidth": 2
           },
           "yaxis": {
            "backgroundcolor": "rgb(17,17,17)",
            "gridcolor": "#506784",
            "linecolor": "#506784",
            "showbackground": true,
            "ticks": "",
            "zerolinecolor": "#C8D4E3",
            "gridwidth": 2
           },
           "zaxis": {
            "backgroundcolor": "rgb(17,17,17)",
            "gridcolor": "#506784",
            "linecolor": "#506784",
            "showbackground": true,
            "ticks": "",
            "zerolinecolor": "#C8D4E3",
            "gridwidth": 2
           }
          },
          "shapedefaults": {
           "line": {
            "color": "#f2f5fa"
           }
          },
          "annotationdefaults": {
           "arrowcolor": "#f2f5fa",
           "arrowhead": 0,
           "arrowwidth": 1
          },
          "geo": {
           "bgcolor": "rgb(17,17,17)",
           "landcolor": "rgb(17,17,17)",
           "subunitcolor": "#506784",
           "showland": true,
           "showlakes": true,
           "lakecolor": "rgb(17,17,17)"
          },
          "title": {
           "x": 0.05
          },
          "updatemenudefaults": {
           "bgcolor": "#506784",
           "borderwidth": 0
          },
          "sliderdefaults": {
           "bgcolor": "#C8D4E3",
           "borderwidth": 1,
           "bordercolor": "rgb(17,17,17)",
           "tickwidth": 0
          },
          "mapbox": {
           "style": "dark"
          }
         }
        },
        "xaxis": {
         "anchor": "y",
         "domain": [
          0.0,
          1.0
         ],
         "title": {
          "text": "Issue Name"
         }
        },
        "yaxis": {
         "anchor": "x",
         "domain": [
          0.0,
          1.0
         ],
         "title": {
          "text": "Count"
         }
        },
        "legend": {
         "title": {
          "text": "Impact_Score_Quadrant"
         },
         "tracegroupgap": 0
        },
        "title": {
         "text": "Top Issues by by 75.0th percentile Count of URLs"
        },
        "barmode": "relative",
        "height": 600,
        "width": 1000
       },
       "config": {
        "plotlyServerURL": "https://plot.ly"
       }
      },
      "text/html": [
       "<div>                            <div id=\"9d780142-b21a-46c8-b26a-ea04890cbf3a\" class=\"plotly-graph-div\" style=\"height:600px; width:1000px;\"></div>            <script type=\"text/javascript\">                require([\"plotly\"], function(Plotly) {                    window.PLOTLYENV=window.PLOTLYENV || {};                                    if (document.getElementById(\"9d780142-b21a-46c8-b26a-ea04890cbf3a\")) {                    Plotly.newPlot(                        \"9d780142-b21a-46c8-b26a-ea04890cbf3a\",                        [{\"alignmentgroup\":\"True\",\"hovertemplate\":\"Impact_Score_Quadrant=High\\u003cbr\\u003eIssue Name=%{x}\\u003cbr\\u003eAddress=%{y}\\u003cextra\\u003e\\u003c\\u002fextra\\u003e\",\"legendgroup\":\"High\",\"marker\":{\"color\":\"#636efa\",\"pattern\":{\"shape\":\"\"}},\"name\":\"High\",\"offsetgroup\":\"High\",\"orientation\":\"v\",\"showlegend\":true,\"textposition\":\"auto\",\"x\":[\"Structured Data: Missing\",\"H2: Duplicate\",\"H2: Multiple\",\"Content: Low Content Pages\",\"H1: Missing\",\"Structured Data: Rich Result Validation Errors\"],\"xaxis\":\"x\",\"y\":[275,207,204,167,88,84],\"yaxis\":\"y\",\"type\":\"bar\"},{\"alignmentgroup\":\"True\",\"hovertemplate\":\"Impact_Score_Quadrant=Medium\\u003cbr\\u003eIssue Name=%{x}\\u003cbr\\u003eAddress=%{y}\\u003cextra\\u003e\\u003c\\u002fextra\\u003e\",\"legendgroup\":\"Medium\",\"marker\":{\"color\":\"#EF553B\",\"pattern\":{\"shape\":\"\"}},\"name\":\"Medium\",\"offsetgroup\":\"Medium\",\"orientation\":\"v\",\"showlegend\":true,\"textposition\":\"auto\",\"x\":[\"Meta Description: Duplicate\",\"Structured Data: Rich Result Validation Warnings\"],\"xaxis\":\"x\",\"y\":[87,83],\"yaxis\":\"y\",\"type\":\"bar\"},{\"alignmentgroup\":\"True\",\"hovertemplate\":\"Impact_Score_Quadrant=Low\\u003cbr\\u003eIssue Name=%{x}\\u003cbr\\u003eAddress=%{y}\\u003cextra\\u003e\\u003c\\u002fextra\\u003e\",\"legendgroup\":\"Low\",\"marker\":{\"color\":\"#00cc96\",\"pattern\":{\"shape\":\"\"}},\"name\":\"Low\",\"offsetgroup\":\"Low\",\"orientation\":\"v\",\"showlegend\":true,\"textposition\":\"auto\",\"x\":[\"Response Codes: Internal Blocked Resource\",\"Canonicals: Canonicalised\"],\"xaxis\":\"x\",\"y\":[254,115],\"yaxis\":\"y\",\"type\":\"bar\"},{\"alignmentgroup\":\"True\",\"hovertemplate\":\"Impact_Score_Quadrant=Backlog\\u003cbr\\u003eIssue Name=%{x}\\u003cbr\\u003eAddress=%{y}\\u003cextra\\u003e\\u003c\\u002fextra\\u003e\",\"legendgroup\":\"Backlog\",\"marker\":{\"color\":\"#ab63fa\",\"pattern\":{\"shape\":\"\"}},\"name\":\"Backlog\",\"offsetgroup\":\"Backlog\",\"orientation\":\"v\",\"showlegend\":true,\"textposition\":\"auto\",\"x\":[\"Search Console: No Search Analytics Data\",\"URL: Parameters\",\"URL: Underscores\",\"URL: GA Tracking Parameters\"],\"xaxis\":\"x\",\"y\":[311,136,124,117],\"yaxis\":\"y\",\"type\":\"bar\"}],                        {\"template\":{\"data\":{\"histogram2dcontour\":[{\"type\":\"histogram2dcontour\",\"colorbar\":{\"outlinewidth\":0,\"ticks\":\"\"},\"colorscale\":[[0.0,\"#0d0887\"],[0.1111111111111111,\"#46039f\"],[0.2222222222222222,\"#7201a8\"],[0.3333333333333333,\"#9c179e\"],[0.4444444444444444,\"#bd3786\"],[0.5555555555555556,\"#d8576b\"],[0.6666666666666666,\"#ed7953\"],[0.7777777777777778,\"#fb9f3a\"],[0.8888888888888888,\"#fdca26\"],[1.0,\"#f0f921\"]]}],\"choropleth\":[{\"type\":\"choropleth\",\"colorbar\":{\"outlinewidth\":0,\"ticks\":\"\"}}],\"histogram2d\":[{\"type\":\"histogram2d\",\"colorbar\":{\"outlinewidth\":0,\"ticks\":\"\"},\"colorscale\":[[0.0,\"#0d0887\"],[0.1111111111111111,\"#46039f\"],[0.2222222222222222,\"#7201a8\"],[0.3333333333333333,\"#9c179e\"],[0.4444444444444444,\"#bd3786\"],[0.5555555555555556,\"#d8576b\"],[0.6666666666666666,\"#ed7953\"],[0.7777777777777778,\"#fb9f3a\"],[0.8888888888888888,\"#fdca26\"],[1.0,\"#f0f921\"]]}],\"heatmap\":[{\"type\":\"heatmap\",\"colorbar\":{\"outlinewidth\":0,\"ticks\":\"\"},\"colorscale\":[[0.0,\"#0d0887\"],[0.1111111111111111,\"#46039f\"],[0.2222222222222222,\"#7201a8\"],[0.3333333333333333,\"#9c179e\"],[0.4444444444444444,\"#bd3786\"],[0.5555555555555556,\"#d8576b\"],[0.6666666666666666,\"#ed7953\"],[0.7777777777777778,\"#fb9f3a\"],[0.8888888888888888,\"#fdca26\"],[1.0,\"#f0f921\"]]}],\"heatmapgl\":[{\"type\":\"heatmapgl\",\"colorbar\":{\"outlinewidth\":0,\"ticks\":\"\"},\"colorscale\":[[0.0,\"#0d0887\"],[0.1111111111111111,\"#46039f\"],[0.2222222222222222,\"#7201a8\"],[0.3333333333333333,\"#9c179e\"],[0.4444444444444444,\"#bd3786\"],[0.5555555555555556,\"#d8576b\"],[0.6666666666666666,\"#ed7953\"],[0.7777777777777778,\"#fb9f3a\"],[0.8888888888888888,\"#fdca26\"],[1.0,\"#f0f921\"]]}],\"contourcarpet\":[{\"type\":\"contourcarpet\",\"colorbar\":{\"outlinewidth\":0,\"ticks\":\"\"}}],\"contour\":[{\"type\":\"contour\",\"colorbar\":{\"outlinewidth\":0,\"ticks\":\"\"},\"colorscale\":[[0.0,\"#0d0887\"],[0.1111111111111111,\"#46039f\"],[0.2222222222222222,\"#7201a8\"],[0.3333333333333333,\"#9c179e\"],[0.4444444444444444,\"#bd3786\"],[0.5555555555555556,\"#d8576b\"],[0.6666666666666666,\"#ed7953\"],[0.7777777777777778,\"#fb9f3a\"],[0.8888888888888888,\"#fdca26\"],[1.0,\"#f0f921\"]]}],\"surface\":[{\"type\":\"surface\",\"colorbar\":{\"outlinewidth\":0,\"ticks\":\"\"},\"colorscale\":[[0.0,\"#0d0887\"],[0.1111111111111111,\"#46039f\"],[0.2222222222222222,\"#7201a8\"],[0.3333333333333333,\"#9c179e\"],[0.4444444444444444,\"#bd3786\"],[0.5555555555555556,\"#d8576b\"],[0.6666666666666666,\"#ed7953\"],[0.7777777777777778,\"#fb9f3a\"],[0.8888888888888888,\"#fdca26\"],[1.0,\"#f0f921\"]]}],\"mesh3d\":[{\"type\":\"mesh3d\",\"colorbar\":{\"outlinewidth\":0,\"ticks\":\"\"}}],\"scatter\":[{\"marker\":{\"line\":{\"color\":\"#283442\"}},\"type\":\"scatter\"}],\"parcoords\":[{\"type\":\"parcoords\",\"line\":{\"colorbar\":{\"outlinewidth\":0,\"ticks\":\"\"}}}],\"scatterpolargl\":[{\"type\":\"scatterpolargl\",\"marker\":{\"colorbar\":{\"outlinewidth\":0,\"ticks\":\"\"}}}],\"bar\":[{\"error_x\":{\"color\":\"#f2f5fa\"},\"error_y\":{\"color\":\"#f2f5fa\"},\"marker\":{\"line\":{\"color\":\"rgb(17,17,17)\",\"width\":0.5},\"pattern\":{\"fillmode\":\"overlay\",\"size\":10,\"solidity\":0.2}},\"type\":\"bar\"}],\"scattergeo\":[{\"type\":\"scattergeo\",\"marker\":{\"colorbar\":{\"outlinewidth\":0,\"ticks\":\"\"}}}],\"scatterpolar\":[{\"type\":\"scatterpolar\",\"marker\":{\"colorbar\":{\"outlinewidth\":0,\"ticks\":\"\"}}}],\"histogram\":[{\"marker\":{\"pattern\":{\"fillmode\":\"overlay\",\"size\":10,\"solidity\":0.2}},\"type\":\"histogram\"}],\"scattergl\":[{\"marker\":{\"line\":{\"color\":\"#283442\"}},\"type\":\"scattergl\"}],\"scatter3d\":[{\"type\":\"scatter3d\",\"line\":{\"colorbar\":{\"outlinewidth\":0,\"ticks\":\"\"}},\"marker\":{\"colorbar\":{\"outlinewidth\":0,\"ticks\":\"\"}}}],\"scattermapbox\":[{\"type\":\"scattermapbox\",\"marker\":{\"colorbar\":{\"outlinewidth\":0,\"ticks\":\"\"}}}],\"scatterternary\":[{\"type\":\"scatterternary\",\"marker\":{\"colorbar\":{\"outlinewidth\":0,\"ticks\":\"\"}}}],\"scattercarpet\":[{\"type\":\"scattercarpet\",\"marker\":{\"colorbar\":{\"outlinewidth\":0,\"ticks\":\"\"}}}],\"carpet\":[{\"aaxis\":{\"endlinecolor\":\"#A2B1C6\",\"gridcolor\":\"#506784\",\"linecolor\":\"#506784\",\"minorgridcolor\":\"#506784\",\"startlinecolor\":\"#A2B1C6\"},\"baxis\":{\"endlinecolor\":\"#A2B1C6\",\"gridcolor\":\"#506784\",\"linecolor\":\"#506784\",\"minorgridcolor\":\"#506784\",\"startlinecolor\":\"#A2B1C6\"},\"type\":\"carpet\"}],\"table\":[{\"cells\":{\"fill\":{\"color\":\"#506784\"},\"line\":{\"color\":\"rgb(17,17,17)\"}},\"header\":{\"fill\":{\"color\":\"#2a3f5f\"},\"line\":{\"color\":\"rgb(17,17,17)\"}},\"type\":\"table\"}],\"barpolar\":[{\"marker\":{\"line\":{\"color\":\"rgb(17,17,17)\",\"width\":0.5},\"pattern\":{\"fillmode\":\"overlay\",\"size\":10,\"solidity\":0.2}},\"type\":\"barpolar\"}],\"pie\":[{\"automargin\":true,\"type\":\"pie\"}]},\"layout\":{\"autotypenumbers\":\"strict\",\"colorway\":[\"#636efa\",\"#EF553B\",\"#00cc96\",\"#ab63fa\",\"#FFA15A\",\"#19d3f3\",\"#FF6692\",\"#B6E880\",\"#FF97FF\",\"#FECB52\"],\"font\":{\"color\":\"#f2f5fa\"},\"hovermode\":\"closest\",\"hoverlabel\":{\"align\":\"left\"},\"paper_bgcolor\":\"rgb(17,17,17)\",\"plot_bgcolor\":\"rgb(17,17,17)\",\"polar\":{\"bgcolor\":\"rgb(17,17,17)\",\"angularaxis\":{\"gridcolor\":\"#506784\",\"linecolor\":\"#506784\",\"ticks\":\"\"},\"radialaxis\":{\"gridcolor\":\"#506784\",\"linecolor\":\"#506784\",\"ticks\":\"\"}},\"ternary\":{\"bgcolor\":\"rgb(17,17,17)\",\"aaxis\":{\"gridcolor\":\"#506784\",\"linecolor\":\"#506784\",\"ticks\":\"\"},\"baxis\":{\"gridcolor\":\"#506784\",\"linecolor\":\"#506784\",\"ticks\":\"\"},\"caxis\":{\"gridcolor\":\"#506784\",\"linecolor\":\"#506784\",\"ticks\":\"\"}},\"coloraxis\":{\"colorbar\":{\"outlinewidth\":0,\"ticks\":\"\"}},\"colorscale\":{\"sequential\":[[0.0,\"#0d0887\"],[0.1111111111111111,\"#46039f\"],[0.2222222222222222,\"#7201a8\"],[0.3333333333333333,\"#9c179e\"],[0.4444444444444444,\"#bd3786\"],[0.5555555555555556,\"#d8576b\"],[0.6666666666666666,\"#ed7953\"],[0.7777777777777778,\"#fb9f3a\"],[0.8888888888888888,\"#fdca26\"],[1.0,\"#f0f921\"]],\"sequentialminus\":[[0.0,\"#0d0887\"],[0.1111111111111111,\"#46039f\"],[0.2222222222222222,\"#7201a8\"],[0.3333333333333333,\"#9c179e\"],[0.4444444444444444,\"#bd3786\"],[0.5555555555555556,\"#d8576b\"],[0.6666666666666666,\"#ed7953\"],[0.7777777777777778,\"#fb9f3a\"],[0.8888888888888888,\"#fdca26\"],[1.0,\"#f0f921\"]],\"diverging\":[[0,\"#8e0152\"],[0.1,\"#c51b7d\"],[0.2,\"#de77ae\"],[0.3,\"#f1b6da\"],[0.4,\"#fde0ef\"],[0.5,\"#f7f7f7\"],[0.6,\"#e6f5d0\"],[0.7,\"#b8e186\"],[0.8,\"#7fbc41\"],[0.9,\"#4d9221\"],[1,\"#276419\"]]},\"xaxis\":{\"gridcolor\":\"#283442\",\"linecolor\":\"#506784\",\"ticks\":\"\",\"title\":{\"standoff\":15},\"zerolinecolor\":\"#283442\",\"automargin\":true,\"zerolinewidth\":2},\"yaxis\":{\"gridcolor\":\"#283442\",\"linecolor\":\"#506784\",\"ticks\":\"\",\"title\":{\"standoff\":15},\"zerolinecolor\":\"#283442\",\"automargin\":true,\"zerolinewidth\":2},\"scene\":{\"xaxis\":{\"backgroundcolor\":\"rgb(17,17,17)\",\"gridcolor\":\"#506784\",\"linecolor\":\"#506784\",\"showbackground\":true,\"ticks\":\"\",\"zerolinecolor\":\"#C8D4E3\",\"gridwidth\":2},\"yaxis\":{\"backgroundcolor\":\"rgb(17,17,17)\",\"gridcolor\":\"#506784\",\"linecolor\":\"#506784\",\"showbackground\":true,\"ticks\":\"\",\"zerolinecolor\":\"#C8D4E3\",\"gridwidth\":2},\"zaxis\":{\"backgroundcolor\":\"rgb(17,17,17)\",\"gridcolor\":\"#506784\",\"linecolor\":\"#506784\",\"showbackground\":true,\"ticks\":\"\",\"zerolinecolor\":\"#C8D4E3\",\"gridwidth\":2}},\"shapedefaults\":{\"line\":{\"color\":\"#f2f5fa\"}},\"annotationdefaults\":{\"arrowcolor\":\"#f2f5fa\",\"arrowhead\":0,\"arrowwidth\":1},\"geo\":{\"bgcolor\":\"rgb(17,17,17)\",\"landcolor\":\"rgb(17,17,17)\",\"subunitcolor\":\"#506784\",\"showland\":true,\"showlakes\":true,\"lakecolor\":\"rgb(17,17,17)\"},\"title\":{\"x\":0.05},\"updatemenudefaults\":{\"bgcolor\":\"#506784\",\"borderwidth\":0},\"sliderdefaults\":{\"bgcolor\":\"#C8D4E3\",\"borderwidth\":1,\"bordercolor\":\"rgb(17,17,17)\",\"tickwidth\":0},\"mapbox\":{\"style\":\"dark\"}}},\"xaxis\":{\"anchor\":\"y\",\"domain\":[0.0,1.0],\"title\":{\"text\":\"Issue Name\"}},\"yaxis\":{\"anchor\":\"x\",\"domain\":[0.0,1.0],\"title\":{\"text\":\"Count\"}},\"legend\":{\"title\":{\"text\":\"Impact_Score_Quadrant\"},\"tracegroupgap\":0},\"title\":{\"text\":\"Top Issues by by 75.0th percentile Count of URLs\"},\"barmode\":\"relative\",\"height\":600,\"width\":1000},                        {\"responsive\": true}                    ).then(function(){\n",
       "                            \n",
       "var gd = document.getElementById('9d780142-b21a-46c8-b26a-ea04890cbf3a');\n",
       "var x = new MutationObserver(function (mutations, observer) {{\n",
       "        var display = window.getComputedStyle(gd).display;\n",
       "        if (!display || display === 'none') {{\n",
       "            console.log([gd, 'removed!']);\n",
       "            Plotly.purge(gd);\n",
       "            observer.disconnect();\n",
       "        }}\n",
       "}});\n",
       "\n",
       "// Listen for the removal of the full notebook cells\n",
       "var notebookContainer = gd.closest('#notebook-container');\n",
       "if (notebookContainer) {{\n",
       "    x.observe(notebookContainer, {childList: true});\n",
       "}}\n",
       "\n",
       "// Listen for the clearing of the current output cell\n",
       "var outputEl = gd.closest('.output');\n",
       "if (outputEl) {{\n",
       "    x.observe(outputEl, {childList: true});\n",
       "}}\n",
       "\n",
       "                        })                };                });            </script>        </div>"
      ]
     },
     "metadata": {},
     "output_type": "display_data"
    }
   ],
   "execution_count": 17
  },
  {
   "metadata": {},
   "cell_type": "markdown",
   "source": "## Visualize Impact Items & Export Data",
   "id": "a49d0cdcf80de3f0"
  },
  {
   "metadata": {
    "ExecuteTime": {
     "end_time": "2025-01-17T22:41:00.699717Z",
     "start_time": "2025-01-17T22:40:59.996189Z"
    }
   },
   "cell_type": "code",
   "source": [
    "from src.utils import export_data\n",
    "export_path = 'export/'\n",
    "export_data(issues_group, issues_df, export_path, issues_path)"
   ],
   "id": "239b0796cc093037",
   "outputs": [
    {
     "data": {
      "application/vnd.plotly.v1+json": {
       "data": [
        {
         "alignmentgroup": "True",
         "hovertemplate": "Impact_Score_Quadrant=High<br>Issue Name=%{x}<br>Address=%{y}<extra></extra>",
         "legendgroup": "High",
         "marker": {
          "color": "#636EFA",
          "pattern": {
           "shape": ""
          }
         },
         "name": "High",
         "offsetgroup": "High",
         "orientation": "v",
         "showlegend": true,
         "textposition": "auto",
         "x": [
          "H1: Missing",
          "Structured Data: Missing",
          "Page Titles: Duplicate",
          "Content: Low Content Pages",
          "Structured Data: Rich Result Validation Errors",
          "Page Titles: Below 30 Characters",
          "H2: Multiple",
          "Page Titles: Below 200 Pixels",
          "H2: Duplicate",
          "Content: Readability Difficult",
          "Meta Description: Over 155 Characters",
          "Page Titles: Over 561 Pixels",
          "H2: Non-Sequential",
          "Links: Pages With High Crawl Depth"
         ],
         "xaxis": "x",
         "y": [
          88,
          275,
          40,
          167,
          84,
          40,
          204,
          18,
          207,
          79,
          54,
          47,
          35,
          81
         ],
         "yaxis": "y",
         "type": "bar"
        }
       ],
       "layout": {
        "template": {
         "data": {
          "histogram2dcontour": [
           {
            "type": "histogram2dcontour",
            "colorbar": {
             "outlinewidth": 0,
             "ticks": ""
            },
            "colorscale": [
             [
              0.0,
              "#0d0887"
             ],
             [
              0.1111111111111111,
              "#46039f"
             ],
             [
              0.2222222222222222,
              "#7201a8"
             ],
             [
              0.3333333333333333,
              "#9c179e"
             ],
             [
              0.4444444444444444,
              "#bd3786"
             ],
             [
              0.5555555555555556,
              "#d8576b"
             ],
             [
              0.6666666666666666,
              "#ed7953"
             ],
             [
              0.7777777777777778,
              "#fb9f3a"
             ],
             [
              0.8888888888888888,
              "#fdca26"
             ],
             [
              1.0,
              "#f0f921"
             ]
            ]
           }
          ],
          "choropleth": [
           {
            "type": "choropleth",
            "colorbar": {
             "outlinewidth": 0,
             "ticks": ""
            }
           }
          ],
          "histogram2d": [
           {
            "type": "histogram2d",
            "colorbar": {
             "outlinewidth": 0,
             "ticks": ""
            },
            "colorscale": [
             [
              0.0,
              "#0d0887"
             ],
             [
              0.1111111111111111,
              "#46039f"
             ],
             [
              0.2222222222222222,
              "#7201a8"
             ],
             [
              0.3333333333333333,
              "#9c179e"
             ],
             [
              0.4444444444444444,
              "#bd3786"
             ],
             [
              0.5555555555555556,
              "#d8576b"
             ],
             [
              0.6666666666666666,
              "#ed7953"
             ],
             [
              0.7777777777777778,
              "#fb9f3a"
             ],
             [
              0.8888888888888888,
              "#fdca26"
             ],
             [
              1.0,
              "#f0f921"
             ]
            ]
           }
          ],
          "heatmap": [
           {
            "type": "heatmap",
            "colorbar": {
             "outlinewidth": 0,
             "ticks": ""
            },
            "colorscale": [
             [
              0.0,
              "#0d0887"
             ],
             [
              0.1111111111111111,
              "#46039f"
             ],
             [
              0.2222222222222222,
              "#7201a8"
             ],
             [
              0.3333333333333333,
              "#9c179e"
             ],
             [
              0.4444444444444444,
              "#bd3786"
             ],
             [
              0.5555555555555556,
              "#d8576b"
             ],
             [
              0.6666666666666666,
              "#ed7953"
             ],
             [
              0.7777777777777778,
              "#fb9f3a"
             ],
             [
              0.8888888888888888,
              "#fdca26"
             ],
             [
              1.0,
              "#f0f921"
             ]
            ]
           }
          ],
          "heatmapgl": [
           {
            "type": "heatmapgl",
            "colorbar": {
             "outlinewidth": 0,
             "ticks": ""
            },
            "colorscale": [
             [
              0.0,
              "#0d0887"
             ],
             [
              0.1111111111111111,
              "#46039f"
             ],
             [
              0.2222222222222222,
              "#7201a8"
             ],
             [
              0.3333333333333333,
              "#9c179e"
             ],
             [
              0.4444444444444444,
              "#bd3786"
             ],
             [
              0.5555555555555556,
              "#d8576b"
             ],
             [
              0.6666666666666666,
              "#ed7953"
             ],
             [
              0.7777777777777778,
              "#fb9f3a"
             ],
             [
              0.8888888888888888,
              "#fdca26"
             ],
             [
              1.0,
              "#f0f921"
             ]
            ]
           }
          ],
          "contourcarpet": [
           {
            "type": "contourcarpet",
            "colorbar": {
             "outlinewidth": 0,
             "ticks": ""
            }
           }
          ],
          "contour": [
           {
            "type": "contour",
            "colorbar": {
             "outlinewidth": 0,
             "ticks": ""
            },
            "colorscale": [
             [
              0.0,
              "#0d0887"
             ],
             [
              0.1111111111111111,
              "#46039f"
             ],
             [
              0.2222222222222222,
              "#7201a8"
             ],
             [
              0.3333333333333333,
              "#9c179e"
             ],
             [
              0.4444444444444444,
              "#bd3786"
             ],
             [
              0.5555555555555556,
              "#d8576b"
             ],
             [
              0.6666666666666666,
              "#ed7953"
             ],
             [
              0.7777777777777778,
              "#fb9f3a"
             ],
             [
              0.8888888888888888,
              "#fdca26"
             ],
             [
              1.0,
              "#f0f921"
             ]
            ]
           }
          ],
          "surface": [
           {
            "type": "surface",
            "colorbar": {
             "outlinewidth": 0,
             "ticks": ""
            },
            "colorscale": [
             [
              0.0,
              "#0d0887"
             ],
             [
              0.1111111111111111,
              "#46039f"
             ],
             [
              0.2222222222222222,
              "#7201a8"
             ],
             [
              0.3333333333333333,
              "#9c179e"
             ],
             [
              0.4444444444444444,
              "#bd3786"
             ],
             [
              0.5555555555555556,
              "#d8576b"
             ],
             [
              0.6666666666666666,
              "#ed7953"
             ],
             [
              0.7777777777777778,
              "#fb9f3a"
             ],
             [
              0.8888888888888888,
              "#fdca26"
             ],
             [
              1.0,
              "#f0f921"
             ]
            ]
           }
          ],
          "mesh3d": [
           {
            "type": "mesh3d",
            "colorbar": {
             "outlinewidth": 0,
             "ticks": ""
            }
           }
          ],
          "scatter": [
           {
            "marker": {
             "line": {
              "color": "#283442"
             }
            },
            "type": "scatter"
           }
          ],
          "parcoords": [
           {
            "type": "parcoords",
            "line": {
             "colorbar": {
              "outlinewidth": 0,
              "ticks": ""
             }
            }
           }
          ],
          "scatterpolargl": [
           {
            "type": "scatterpolargl",
            "marker": {
             "colorbar": {
              "outlinewidth": 0,
              "ticks": ""
             }
            }
           }
          ],
          "bar": [
           {
            "error_x": {
             "color": "#f2f5fa"
            },
            "error_y": {
             "color": "#f2f5fa"
            },
            "marker": {
             "line": {
              "color": "rgb(17,17,17)",
              "width": 0.5
             },
             "pattern": {
              "fillmode": "overlay",
              "size": 10,
              "solidity": 0.2
             }
            },
            "type": "bar"
           }
          ],
          "scattergeo": [
           {
            "type": "scattergeo",
            "marker": {
             "colorbar": {
              "outlinewidth": 0,
              "ticks": ""
             }
            }
           }
          ],
          "scatterpolar": [
           {
            "type": "scatterpolar",
            "marker": {
             "colorbar": {
              "outlinewidth": 0,
              "ticks": ""
             }
            }
           }
          ],
          "histogram": [
           {
            "marker": {
             "pattern": {
              "fillmode": "overlay",
              "size": 10,
              "solidity": 0.2
             }
            },
            "type": "histogram"
           }
          ],
          "scattergl": [
           {
            "marker": {
             "line": {
              "color": "#283442"
             }
            },
            "type": "scattergl"
           }
          ],
          "scatter3d": [
           {
            "type": "scatter3d",
            "line": {
             "colorbar": {
              "outlinewidth": 0,
              "ticks": ""
             }
            },
            "marker": {
             "colorbar": {
              "outlinewidth": 0,
              "ticks": ""
             }
            }
           }
          ],
          "scattermapbox": [
           {
            "type": "scattermapbox",
            "marker": {
             "colorbar": {
              "outlinewidth": 0,
              "ticks": ""
             }
            }
           }
          ],
          "scatterternary": [
           {
            "type": "scatterternary",
            "marker": {
             "colorbar": {
              "outlinewidth": 0,
              "ticks": ""
             }
            }
           }
          ],
          "scattercarpet": [
           {
            "type": "scattercarpet",
            "marker": {
             "colorbar": {
              "outlinewidth": 0,
              "ticks": ""
             }
            }
           }
          ],
          "carpet": [
           {
            "aaxis": {
             "endlinecolor": "#A2B1C6",
             "gridcolor": "#506784",
             "linecolor": "#506784",
             "minorgridcolor": "#506784",
             "startlinecolor": "#A2B1C6"
            },
            "baxis": {
             "endlinecolor": "#A2B1C6",
             "gridcolor": "#506784",
             "linecolor": "#506784",
             "minorgridcolor": "#506784",
             "startlinecolor": "#A2B1C6"
            },
            "type": "carpet"
           }
          ],
          "table": [
           {
            "cells": {
             "fill": {
              "color": "#506784"
             },
             "line": {
              "color": "rgb(17,17,17)"
             }
            },
            "header": {
             "fill": {
              "color": "#2a3f5f"
             },
             "line": {
              "color": "rgb(17,17,17)"
             }
            },
            "type": "table"
           }
          ],
          "barpolar": [
           {
            "marker": {
             "line": {
              "color": "rgb(17,17,17)",
              "width": 0.5
             },
             "pattern": {
              "fillmode": "overlay",
              "size": 10,
              "solidity": 0.2
             }
            },
            "type": "barpolar"
           }
          ],
          "pie": [
           {
            "automargin": true,
            "type": "pie"
           }
          ]
         },
         "layout": {
          "autotypenumbers": "strict",
          "colorway": [
           "#636efa",
           "#EF553B",
           "#00cc96",
           "#ab63fa",
           "#FFA15A",
           "#19d3f3",
           "#FF6692",
           "#B6E880",
           "#FF97FF",
           "#FECB52"
          ],
          "font": {
           "color": "#f2f5fa"
          },
          "hovermode": "closest",
          "hoverlabel": {
           "align": "left"
          },
          "paper_bgcolor": "rgb(17,17,17)",
          "plot_bgcolor": "rgb(17,17,17)",
          "polar": {
           "bgcolor": "rgb(17,17,17)",
           "angularaxis": {
            "gridcolor": "#506784",
            "linecolor": "#506784",
            "ticks": ""
           },
           "radialaxis": {
            "gridcolor": "#506784",
            "linecolor": "#506784",
            "ticks": ""
           }
          },
          "ternary": {
           "bgcolor": "rgb(17,17,17)",
           "aaxis": {
            "gridcolor": "#506784",
            "linecolor": "#506784",
            "ticks": ""
           },
           "baxis": {
            "gridcolor": "#506784",
            "linecolor": "#506784",
            "ticks": ""
           },
           "caxis": {
            "gridcolor": "#506784",
            "linecolor": "#506784",
            "ticks": ""
           }
          },
          "coloraxis": {
           "colorbar": {
            "outlinewidth": 0,
            "ticks": ""
           }
          },
          "colorscale": {
           "sequential": [
            [
             0.0,
             "#0d0887"
            ],
            [
             0.1111111111111111,
             "#46039f"
            ],
            [
             0.2222222222222222,
             "#7201a8"
            ],
            [
             0.3333333333333333,
             "#9c179e"
            ],
            [
             0.4444444444444444,
             "#bd3786"
            ],
            [
             0.5555555555555556,
             "#d8576b"
            ],
            [
             0.6666666666666666,
             "#ed7953"
            ],
            [
             0.7777777777777778,
             "#fb9f3a"
            ],
            [
             0.8888888888888888,
             "#fdca26"
            ],
            [
             1.0,
             "#f0f921"
            ]
           ],
           "sequentialminus": [
            [
             0.0,
             "#0d0887"
            ],
            [
             0.1111111111111111,
             "#46039f"
            ],
            [
             0.2222222222222222,
             "#7201a8"
            ],
            [
             0.3333333333333333,
             "#9c179e"
            ],
            [
             0.4444444444444444,
             "#bd3786"
            ],
            [
             0.5555555555555556,
             "#d8576b"
            ],
            [
             0.6666666666666666,
             "#ed7953"
            ],
            [
             0.7777777777777778,
             "#fb9f3a"
            ],
            [
             0.8888888888888888,
             "#fdca26"
            ],
            [
             1.0,
             "#f0f921"
            ]
           ],
           "diverging": [
            [
             0,
             "#8e0152"
            ],
            [
             0.1,
             "#c51b7d"
            ],
            [
             0.2,
             "#de77ae"
            ],
            [
             0.3,
             "#f1b6da"
            ],
            [
             0.4,
             "#fde0ef"
            ],
            [
             0.5,
             "#f7f7f7"
            ],
            [
             0.6,
             "#e6f5d0"
            ],
            [
             0.7,
             "#b8e186"
            ],
            [
             0.8,
             "#7fbc41"
            ],
            [
             0.9,
             "#4d9221"
            ],
            [
             1,
             "#276419"
            ]
           ]
          },
          "xaxis": {
           "gridcolor": "#283442",
           "linecolor": "#506784",
           "ticks": "",
           "title": {
            "standoff": 15
           },
           "zerolinecolor": "#283442",
           "automargin": true,
           "zerolinewidth": 2
          },
          "yaxis": {
           "gridcolor": "#283442",
           "linecolor": "#506784",
           "ticks": "",
           "title": {
            "standoff": 15
           },
           "zerolinecolor": "#283442",
           "automargin": true,
           "zerolinewidth": 2
          },
          "scene": {
           "xaxis": {
            "backgroundcolor": "rgb(17,17,17)",
            "gridcolor": "#506784",
            "linecolor": "#506784",
            "showbackground": true,
            "ticks": "",
            "zerolinecolor": "#C8D4E3",
            "gridwidth": 2
           },
           "yaxis": {
            "backgroundcolor": "rgb(17,17,17)",
            "gridcolor": "#506784",
            "linecolor": "#506784",
            "showbackground": true,
            "ticks": "",
            "zerolinecolor": "#C8D4E3",
            "gridwidth": 2
           },
           "zaxis": {
            "backgroundcolor": "rgb(17,17,17)",
            "gridcolor": "#506784",
            "linecolor": "#506784",
            "showbackground": true,
            "ticks": "",
            "zerolinecolor": "#C8D4E3",
            "gridwidth": 2
           }
          },
          "shapedefaults": {
           "line": {
            "color": "#f2f5fa"
           }
          },
          "annotationdefaults": {
           "arrowcolor": "#f2f5fa",
           "arrowhead": 0,
           "arrowwidth": 1
          },
          "geo": {
           "bgcolor": "rgb(17,17,17)",
           "landcolor": "rgb(17,17,17)",
           "subunitcolor": "#506784",
           "showland": true,
           "showlakes": true,
           "lakecolor": "rgb(17,17,17)"
          },
          "title": {
           "x": 0.05
          },
          "updatemenudefaults": {
           "bgcolor": "#506784",
           "borderwidth": 0
          },
          "sliderdefaults": {
           "bgcolor": "#C8D4E3",
           "borderwidth": 1,
           "bordercolor": "rgb(17,17,17)",
           "tickwidth": 0
          },
          "mapbox": {
           "style": "dark"
          }
         }
        },
        "xaxis": {
         "anchor": "y",
         "domain": [
          0.0,
          1.0
         ],
         "title": {
          "text": "Issues"
         }
        },
        "yaxis": {
         "anchor": "x",
         "domain": [
          0.0,
          1.0
         ],
         "title": {
          "text": "Volume of URLs"
         }
        },
        "legend": {
         "title": {
          "text": "Impact_Score_Quadrant"
         },
         "tracegroupgap": 0
        },
        "title": {
         "text": "High Priority Issues by Count of URLs - sorted by Impact Score"
        },
        "barmode": "relative"
       },
       "config": {
        "plotlyServerURL": "https://plot.ly"
       }
      },
      "text/html": [
       "<div>                            <div id=\"11cf1137-75a3-48db-94d9-a74c5849073a\" class=\"plotly-graph-div\" style=\"height:525px; width:100%;\"></div>            <script type=\"text/javascript\">                require([\"plotly\"], function(Plotly) {                    window.PLOTLYENV=window.PLOTLYENV || {};                                    if (document.getElementById(\"11cf1137-75a3-48db-94d9-a74c5849073a\")) {                    Plotly.newPlot(                        \"11cf1137-75a3-48db-94d9-a74c5849073a\",                        [{\"alignmentgroup\":\"True\",\"hovertemplate\":\"Impact_Score_Quadrant=High\\u003cbr\\u003eIssue Name=%{x}\\u003cbr\\u003eAddress=%{y}\\u003cextra\\u003e\\u003c\\u002fextra\\u003e\",\"legendgroup\":\"High\",\"marker\":{\"color\":\"#636EFA\",\"pattern\":{\"shape\":\"\"}},\"name\":\"High\",\"offsetgroup\":\"High\",\"orientation\":\"v\",\"showlegend\":true,\"textposition\":\"auto\",\"x\":[\"H1: Missing\",\"Structured Data: Missing\",\"Page Titles: Duplicate\",\"Content: Low Content Pages\",\"Structured Data: Rich Result Validation Errors\",\"Page Titles: Below 30 Characters\",\"H2: Multiple\",\"Page Titles: Below 200 Pixels\",\"H2: Duplicate\",\"Content: Readability Difficult\",\"Meta Description: Over 155 Characters\",\"Page Titles: Over 561 Pixels\",\"H2: Non-Sequential\",\"Links: Pages With High Crawl Depth\"],\"xaxis\":\"x\",\"y\":[88,275,40,167,84,40,204,18,207,79,54,47,35,81],\"yaxis\":\"y\",\"type\":\"bar\"}],                        {\"template\":{\"data\":{\"histogram2dcontour\":[{\"type\":\"histogram2dcontour\",\"colorbar\":{\"outlinewidth\":0,\"ticks\":\"\"},\"colorscale\":[[0.0,\"#0d0887\"],[0.1111111111111111,\"#46039f\"],[0.2222222222222222,\"#7201a8\"],[0.3333333333333333,\"#9c179e\"],[0.4444444444444444,\"#bd3786\"],[0.5555555555555556,\"#d8576b\"],[0.6666666666666666,\"#ed7953\"],[0.7777777777777778,\"#fb9f3a\"],[0.8888888888888888,\"#fdca26\"],[1.0,\"#f0f921\"]]}],\"choropleth\":[{\"type\":\"choropleth\",\"colorbar\":{\"outlinewidth\":0,\"ticks\":\"\"}}],\"histogram2d\":[{\"type\":\"histogram2d\",\"colorbar\":{\"outlinewidth\":0,\"ticks\":\"\"},\"colorscale\":[[0.0,\"#0d0887\"],[0.1111111111111111,\"#46039f\"],[0.2222222222222222,\"#7201a8\"],[0.3333333333333333,\"#9c179e\"],[0.4444444444444444,\"#bd3786\"],[0.5555555555555556,\"#d8576b\"],[0.6666666666666666,\"#ed7953\"],[0.7777777777777778,\"#fb9f3a\"],[0.8888888888888888,\"#fdca26\"],[1.0,\"#f0f921\"]]}],\"heatmap\":[{\"type\":\"heatmap\",\"colorbar\":{\"outlinewidth\":0,\"ticks\":\"\"},\"colorscale\":[[0.0,\"#0d0887\"],[0.1111111111111111,\"#46039f\"],[0.2222222222222222,\"#7201a8\"],[0.3333333333333333,\"#9c179e\"],[0.4444444444444444,\"#bd3786\"],[0.5555555555555556,\"#d8576b\"],[0.6666666666666666,\"#ed7953\"],[0.7777777777777778,\"#fb9f3a\"],[0.8888888888888888,\"#fdca26\"],[1.0,\"#f0f921\"]]}],\"heatmapgl\":[{\"type\":\"heatmapgl\",\"colorbar\":{\"outlinewidth\":0,\"ticks\":\"\"},\"colorscale\":[[0.0,\"#0d0887\"],[0.1111111111111111,\"#46039f\"],[0.2222222222222222,\"#7201a8\"],[0.3333333333333333,\"#9c179e\"],[0.4444444444444444,\"#bd3786\"],[0.5555555555555556,\"#d8576b\"],[0.6666666666666666,\"#ed7953\"],[0.7777777777777778,\"#fb9f3a\"],[0.8888888888888888,\"#fdca26\"],[1.0,\"#f0f921\"]]}],\"contourcarpet\":[{\"type\":\"contourcarpet\",\"colorbar\":{\"outlinewidth\":0,\"ticks\":\"\"}}],\"contour\":[{\"type\":\"contour\",\"colorbar\":{\"outlinewidth\":0,\"ticks\":\"\"},\"colorscale\":[[0.0,\"#0d0887\"],[0.1111111111111111,\"#46039f\"],[0.2222222222222222,\"#7201a8\"],[0.3333333333333333,\"#9c179e\"],[0.4444444444444444,\"#bd3786\"],[0.5555555555555556,\"#d8576b\"],[0.6666666666666666,\"#ed7953\"],[0.7777777777777778,\"#fb9f3a\"],[0.8888888888888888,\"#fdca26\"],[1.0,\"#f0f921\"]]}],\"surface\":[{\"type\":\"surface\",\"colorbar\":{\"outlinewidth\":0,\"ticks\":\"\"},\"colorscale\":[[0.0,\"#0d0887\"],[0.1111111111111111,\"#46039f\"],[0.2222222222222222,\"#7201a8\"],[0.3333333333333333,\"#9c179e\"],[0.4444444444444444,\"#bd3786\"],[0.5555555555555556,\"#d8576b\"],[0.6666666666666666,\"#ed7953\"],[0.7777777777777778,\"#fb9f3a\"],[0.8888888888888888,\"#fdca26\"],[1.0,\"#f0f921\"]]}],\"mesh3d\":[{\"type\":\"mesh3d\",\"colorbar\":{\"outlinewidth\":0,\"ticks\":\"\"}}],\"scatter\":[{\"marker\":{\"line\":{\"color\":\"#283442\"}},\"type\":\"scatter\"}],\"parcoords\":[{\"type\":\"parcoords\",\"line\":{\"colorbar\":{\"outlinewidth\":0,\"ticks\":\"\"}}}],\"scatterpolargl\":[{\"type\":\"scatterpolargl\",\"marker\":{\"colorbar\":{\"outlinewidth\":0,\"ticks\":\"\"}}}],\"bar\":[{\"error_x\":{\"color\":\"#f2f5fa\"},\"error_y\":{\"color\":\"#f2f5fa\"},\"marker\":{\"line\":{\"color\":\"rgb(17,17,17)\",\"width\":0.5},\"pattern\":{\"fillmode\":\"overlay\",\"size\":10,\"solidity\":0.2}},\"type\":\"bar\"}],\"scattergeo\":[{\"type\":\"scattergeo\",\"marker\":{\"colorbar\":{\"outlinewidth\":0,\"ticks\":\"\"}}}],\"scatterpolar\":[{\"type\":\"scatterpolar\",\"marker\":{\"colorbar\":{\"outlinewidth\":0,\"ticks\":\"\"}}}],\"histogram\":[{\"marker\":{\"pattern\":{\"fillmode\":\"overlay\",\"size\":10,\"solidity\":0.2}},\"type\":\"histogram\"}],\"scattergl\":[{\"marker\":{\"line\":{\"color\":\"#283442\"}},\"type\":\"scattergl\"}],\"scatter3d\":[{\"type\":\"scatter3d\",\"line\":{\"colorbar\":{\"outlinewidth\":0,\"ticks\":\"\"}},\"marker\":{\"colorbar\":{\"outlinewidth\":0,\"ticks\":\"\"}}}],\"scattermapbox\":[{\"type\":\"scattermapbox\",\"marker\":{\"colorbar\":{\"outlinewidth\":0,\"ticks\":\"\"}}}],\"scatterternary\":[{\"type\":\"scatterternary\",\"marker\":{\"colorbar\":{\"outlinewidth\":0,\"ticks\":\"\"}}}],\"scattercarpet\":[{\"type\":\"scattercarpet\",\"marker\":{\"colorbar\":{\"outlinewidth\":0,\"ticks\":\"\"}}}],\"carpet\":[{\"aaxis\":{\"endlinecolor\":\"#A2B1C6\",\"gridcolor\":\"#506784\",\"linecolor\":\"#506784\",\"minorgridcolor\":\"#506784\",\"startlinecolor\":\"#A2B1C6\"},\"baxis\":{\"endlinecolor\":\"#A2B1C6\",\"gridcolor\":\"#506784\",\"linecolor\":\"#506784\",\"minorgridcolor\":\"#506784\",\"startlinecolor\":\"#A2B1C6\"},\"type\":\"carpet\"}],\"table\":[{\"cells\":{\"fill\":{\"color\":\"#506784\"},\"line\":{\"color\":\"rgb(17,17,17)\"}},\"header\":{\"fill\":{\"color\":\"#2a3f5f\"},\"line\":{\"color\":\"rgb(17,17,17)\"}},\"type\":\"table\"}],\"barpolar\":[{\"marker\":{\"line\":{\"color\":\"rgb(17,17,17)\",\"width\":0.5},\"pattern\":{\"fillmode\":\"overlay\",\"size\":10,\"solidity\":0.2}},\"type\":\"barpolar\"}],\"pie\":[{\"automargin\":true,\"type\":\"pie\"}]},\"layout\":{\"autotypenumbers\":\"strict\",\"colorway\":[\"#636efa\",\"#EF553B\",\"#00cc96\",\"#ab63fa\",\"#FFA15A\",\"#19d3f3\",\"#FF6692\",\"#B6E880\",\"#FF97FF\",\"#FECB52\"],\"font\":{\"color\":\"#f2f5fa\"},\"hovermode\":\"closest\",\"hoverlabel\":{\"align\":\"left\"},\"paper_bgcolor\":\"rgb(17,17,17)\",\"plot_bgcolor\":\"rgb(17,17,17)\",\"polar\":{\"bgcolor\":\"rgb(17,17,17)\",\"angularaxis\":{\"gridcolor\":\"#506784\",\"linecolor\":\"#506784\",\"ticks\":\"\"},\"radialaxis\":{\"gridcolor\":\"#506784\",\"linecolor\":\"#506784\",\"ticks\":\"\"}},\"ternary\":{\"bgcolor\":\"rgb(17,17,17)\",\"aaxis\":{\"gridcolor\":\"#506784\",\"linecolor\":\"#506784\",\"ticks\":\"\"},\"baxis\":{\"gridcolor\":\"#506784\",\"linecolor\":\"#506784\",\"ticks\":\"\"},\"caxis\":{\"gridcolor\":\"#506784\",\"linecolor\":\"#506784\",\"ticks\":\"\"}},\"coloraxis\":{\"colorbar\":{\"outlinewidth\":0,\"ticks\":\"\"}},\"colorscale\":{\"sequential\":[[0.0,\"#0d0887\"],[0.1111111111111111,\"#46039f\"],[0.2222222222222222,\"#7201a8\"],[0.3333333333333333,\"#9c179e\"],[0.4444444444444444,\"#bd3786\"],[0.5555555555555556,\"#d8576b\"],[0.6666666666666666,\"#ed7953\"],[0.7777777777777778,\"#fb9f3a\"],[0.8888888888888888,\"#fdca26\"],[1.0,\"#f0f921\"]],\"sequentialminus\":[[0.0,\"#0d0887\"],[0.1111111111111111,\"#46039f\"],[0.2222222222222222,\"#7201a8\"],[0.3333333333333333,\"#9c179e\"],[0.4444444444444444,\"#bd3786\"],[0.5555555555555556,\"#d8576b\"],[0.6666666666666666,\"#ed7953\"],[0.7777777777777778,\"#fb9f3a\"],[0.8888888888888888,\"#fdca26\"],[1.0,\"#f0f921\"]],\"diverging\":[[0,\"#8e0152\"],[0.1,\"#c51b7d\"],[0.2,\"#de77ae\"],[0.3,\"#f1b6da\"],[0.4,\"#fde0ef\"],[0.5,\"#f7f7f7\"],[0.6,\"#e6f5d0\"],[0.7,\"#b8e186\"],[0.8,\"#7fbc41\"],[0.9,\"#4d9221\"],[1,\"#276419\"]]},\"xaxis\":{\"gridcolor\":\"#283442\",\"linecolor\":\"#506784\",\"ticks\":\"\",\"title\":{\"standoff\":15},\"zerolinecolor\":\"#283442\",\"automargin\":true,\"zerolinewidth\":2},\"yaxis\":{\"gridcolor\":\"#283442\",\"linecolor\":\"#506784\",\"ticks\":\"\",\"title\":{\"standoff\":15},\"zerolinecolor\":\"#283442\",\"automargin\":true,\"zerolinewidth\":2},\"scene\":{\"xaxis\":{\"backgroundcolor\":\"rgb(17,17,17)\",\"gridcolor\":\"#506784\",\"linecolor\":\"#506784\",\"showbackground\":true,\"ticks\":\"\",\"zerolinecolor\":\"#C8D4E3\",\"gridwidth\":2},\"yaxis\":{\"backgroundcolor\":\"rgb(17,17,17)\",\"gridcolor\":\"#506784\",\"linecolor\":\"#506784\",\"showbackground\":true,\"ticks\":\"\",\"zerolinecolor\":\"#C8D4E3\",\"gridwidth\":2},\"zaxis\":{\"backgroundcolor\":\"rgb(17,17,17)\",\"gridcolor\":\"#506784\",\"linecolor\":\"#506784\",\"showbackground\":true,\"ticks\":\"\",\"zerolinecolor\":\"#C8D4E3\",\"gridwidth\":2}},\"shapedefaults\":{\"line\":{\"color\":\"#f2f5fa\"}},\"annotationdefaults\":{\"arrowcolor\":\"#f2f5fa\",\"arrowhead\":0,\"arrowwidth\":1},\"geo\":{\"bgcolor\":\"rgb(17,17,17)\",\"landcolor\":\"rgb(17,17,17)\",\"subunitcolor\":\"#506784\",\"showland\":true,\"showlakes\":true,\"lakecolor\":\"rgb(17,17,17)\"},\"title\":{\"x\":0.05},\"updatemenudefaults\":{\"bgcolor\":\"#506784\",\"borderwidth\":0},\"sliderdefaults\":{\"bgcolor\":\"#C8D4E3\",\"borderwidth\":1,\"bordercolor\":\"rgb(17,17,17)\",\"tickwidth\":0},\"mapbox\":{\"style\":\"dark\"}}},\"xaxis\":{\"anchor\":\"y\",\"domain\":[0.0,1.0],\"title\":{\"text\":\"Issues\"}},\"yaxis\":{\"anchor\":\"x\",\"domain\":[0.0,1.0],\"title\":{\"text\":\"Volume of URLs\"}},\"legend\":{\"title\":{\"text\":\"Impact_Score_Quadrant\"},\"tracegroupgap\":0},\"title\":{\"text\":\"High Priority Issues by Count of URLs - sorted by Impact Score\"},\"barmode\":\"relative\"},                        {\"responsive\": true}                    ).then(function(){\n",
       "                            \n",
       "var gd = document.getElementById('11cf1137-75a3-48db-94d9-a74c5849073a');\n",
       "var x = new MutationObserver(function (mutations, observer) {{\n",
       "        var display = window.getComputedStyle(gd).display;\n",
       "        if (!display || display === 'none') {{\n",
       "            console.log([gd, 'removed!']);\n",
       "            Plotly.purge(gd);\n",
       "            observer.disconnect();\n",
       "        }}\n",
       "}});\n",
       "\n",
       "// Listen for the removal of the full notebook cells\n",
       "var notebookContainer = gd.closest('#notebook-container');\n",
       "if (notebookContainer) {{\n",
       "    x.observe(notebookContainer, {childList: true});\n",
       "}}\n",
       "\n",
       "// Listen for the clearing of the current output cell\n",
       "var outputEl = gd.closest('.output');\n",
       "if (outputEl) {{\n",
       "    x.observe(outputEl, {childList: true});\n",
       "}}\n",
       "\n",
       "                        })                };                });            </script>        </div>"
      ]
     },
     "metadata": {},
     "output_type": "display_data"
    },
    {
     "data": {
      "application/vnd.plotly.v1+json": {
       "data": [
        {
         "alignmentgroup": "True",
         "hovertemplate": "Impact_Score_Quadrant=Medium<br>Issue Name=%{x}<br>Address=%{y}<extra></extra>",
         "legendgroup": "Medium",
         "marker": {
          "color": "#EF553B",
          "pattern": {
           "shape": ""
          }
         },
         "name": "Medium",
         "offsetgroup": "Medium",
         "orientation": "v",
         "showlegend": true,
         "textposition": "auto",
         "x": [
          "Meta Description: Duplicate",
          "Canonicals: Non-Indexable Canonical",
          "H2: Missing",
          "Page Titles: Over 60 Characters",
          "Content: Readability Very Difficult",
          "Meta Description: Over 985 Pixels",
          "Meta Description: Below 70 Characters",
          "Meta Description: Below 400 Pixels",
          "Meta Description: Missing",
          "H1: Duplicate",
          "Page Titles: Same as H1",
          "H2: Over 70 Characters",
          "Structured Data: Rich Result Validation Warnings"
         ],
         "xaxis": "x",
         "y": [
          87,
          5,
          47,
          35,
          7,
          39,
          10,
          10,
          48,
          5,
          28,
          12,
          83
         ],
         "yaxis": "y",
         "type": "bar"
        }
       ],
       "layout": {
        "template": {
         "data": {
          "histogram2dcontour": [
           {
            "type": "histogram2dcontour",
            "colorbar": {
             "outlinewidth": 0,
             "ticks": ""
            },
            "colorscale": [
             [
              0.0,
              "#0d0887"
             ],
             [
              0.1111111111111111,
              "#46039f"
             ],
             [
              0.2222222222222222,
              "#7201a8"
             ],
             [
              0.3333333333333333,
              "#9c179e"
             ],
             [
              0.4444444444444444,
              "#bd3786"
             ],
             [
              0.5555555555555556,
              "#d8576b"
             ],
             [
              0.6666666666666666,
              "#ed7953"
             ],
             [
              0.7777777777777778,
              "#fb9f3a"
             ],
             [
              0.8888888888888888,
              "#fdca26"
             ],
             [
              1.0,
              "#f0f921"
             ]
            ]
           }
          ],
          "choropleth": [
           {
            "type": "choropleth",
            "colorbar": {
             "outlinewidth": 0,
             "ticks": ""
            }
           }
          ],
          "histogram2d": [
           {
            "type": "histogram2d",
            "colorbar": {
             "outlinewidth": 0,
             "ticks": ""
            },
            "colorscale": [
             [
              0.0,
              "#0d0887"
             ],
             [
              0.1111111111111111,
              "#46039f"
             ],
             [
              0.2222222222222222,
              "#7201a8"
             ],
             [
              0.3333333333333333,
              "#9c179e"
             ],
             [
              0.4444444444444444,
              "#bd3786"
             ],
             [
              0.5555555555555556,
              "#d8576b"
             ],
             [
              0.6666666666666666,
              "#ed7953"
             ],
             [
              0.7777777777777778,
              "#fb9f3a"
             ],
             [
              0.8888888888888888,
              "#fdca26"
             ],
             [
              1.0,
              "#f0f921"
             ]
            ]
           }
          ],
          "heatmap": [
           {
            "type": "heatmap",
            "colorbar": {
             "outlinewidth": 0,
             "ticks": ""
            },
            "colorscale": [
             [
              0.0,
              "#0d0887"
             ],
             [
              0.1111111111111111,
              "#46039f"
             ],
             [
              0.2222222222222222,
              "#7201a8"
             ],
             [
              0.3333333333333333,
              "#9c179e"
             ],
             [
              0.4444444444444444,
              "#bd3786"
             ],
             [
              0.5555555555555556,
              "#d8576b"
             ],
             [
              0.6666666666666666,
              "#ed7953"
             ],
             [
              0.7777777777777778,
              "#fb9f3a"
             ],
             [
              0.8888888888888888,
              "#fdca26"
             ],
             [
              1.0,
              "#f0f921"
             ]
            ]
           }
          ],
          "heatmapgl": [
           {
            "type": "heatmapgl",
            "colorbar": {
             "outlinewidth": 0,
             "ticks": ""
            },
            "colorscale": [
             [
              0.0,
              "#0d0887"
             ],
             [
              0.1111111111111111,
              "#46039f"
             ],
             [
              0.2222222222222222,
              "#7201a8"
             ],
             [
              0.3333333333333333,
              "#9c179e"
             ],
             [
              0.4444444444444444,
              "#bd3786"
             ],
             [
              0.5555555555555556,
              "#d8576b"
             ],
             [
              0.6666666666666666,
              "#ed7953"
             ],
             [
              0.7777777777777778,
              "#fb9f3a"
             ],
             [
              0.8888888888888888,
              "#fdca26"
             ],
             [
              1.0,
              "#f0f921"
             ]
            ]
           }
          ],
          "contourcarpet": [
           {
            "type": "contourcarpet",
            "colorbar": {
             "outlinewidth": 0,
             "ticks": ""
            }
           }
          ],
          "contour": [
           {
            "type": "contour",
            "colorbar": {
             "outlinewidth": 0,
             "ticks": ""
            },
            "colorscale": [
             [
              0.0,
              "#0d0887"
             ],
             [
              0.1111111111111111,
              "#46039f"
             ],
             [
              0.2222222222222222,
              "#7201a8"
             ],
             [
              0.3333333333333333,
              "#9c179e"
             ],
             [
              0.4444444444444444,
              "#bd3786"
             ],
             [
              0.5555555555555556,
              "#d8576b"
             ],
             [
              0.6666666666666666,
              "#ed7953"
             ],
             [
              0.7777777777777778,
              "#fb9f3a"
             ],
             [
              0.8888888888888888,
              "#fdca26"
             ],
             [
              1.0,
              "#f0f921"
             ]
            ]
           }
          ],
          "surface": [
           {
            "type": "surface",
            "colorbar": {
             "outlinewidth": 0,
             "ticks": ""
            },
            "colorscale": [
             [
              0.0,
              "#0d0887"
             ],
             [
              0.1111111111111111,
              "#46039f"
             ],
             [
              0.2222222222222222,
              "#7201a8"
             ],
             [
              0.3333333333333333,
              "#9c179e"
             ],
             [
              0.4444444444444444,
              "#bd3786"
             ],
             [
              0.5555555555555556,
              "#d8576b"
             ],
             [
              0.6666666666666666,
              "#ed7953"
             ],
             [
              0.7777777777777778,
              "#fb9f3a"
             ],
             [
              0.8888888888888888,
              "#fdca26"
             ],
             [
              1.0,
              "#f0f921"
             ]
            ]
           }
          ],
          "mesh3d": [
           {
            "type": "mesh3d",
            "colorbar": {
             "outlinewidth": 0,
             "ticks": ""
            }
           }
          ],
          "scatter": [
           {
            "marker": {
             "line": {
              "color": "#283442"
             }
            },
            "type": "scatter"
           }
          ],
          "parcoords": [
           {
            "type": "parcoords",
            "line": {
             "colorbar": {
              "outlinewidth": 0,
              "ticks": ""
             }
            }
           }
          ],
          "scatterpolargl": [
           {
            "type": "scatterpolargl",
            "marker": {
             "colorbar": {
              "outlinewidth": 0,
              "ticks": ""
             }
            }
           }
          ],
          "bar": [
           {
            "error_x": {
             "color": "#f2f5fa"
            },
            "error_y": {
             "color": "#f2f5fa"
            },
            "marker": {
             "line": {
              "color": "rgb(17,17,17)",
              "width": 0.5
             },
             "pattern": {
              "fillmode": "overlay",
              "size": 10,
              "solidity": 0.2
             }
            },
            "type": "bar"
           }
          ],
          "scattergeo": [
           {
            "type": "scattergeo",
            "marker": {
             "colorbar": {
              "outlinewidth": 0,
              "ticks": ""
             }
            }
           }
          ],
          "scatterpolar": [
           {
            "type": "scatterpolar",
            "marker": {
             "colorbar": {
              "outlinewidth": 0,
              "ticks": ""
             }
            }
           }
          ],
          "histogram": [
           {
            "marker": {
             "pattern": {
              "fillmode": "overlay",
              "size": 10,
              "solidity": 0.2
             }
            },
            "type": "histogram"
           }
          ],
          "scattergl": [
           {
            "marker": {
             "line": {
              "color": "#283442"
             }
            },
            "type": "scattergl"
           }
          ],
          "scatter3d": [
           {
            "type": "scatter3d",
            "line": {
             "colorbar": {
              "outlinewidth": 0,
              "ticks": ""
             }
            },
            "marker": {
             "colorbar": {
              "outlinewidth": 0,
              "ticks": ""
             }
            }
           }
          ],
          "scattermapbox": [
           {
            "type": "scattermapbox",
            "marker": {
             "colorbar": {
              "outlinewidth": 0,
              "ticks": ""
             }
            }
           }
          ],
          "scatterternary": [
           {
            "type": "scatterternary",
            "marker": {
             "colorbar": {
              "outlinewidth": 0,
              "ticks": ""
             }
            }
           }
          ],
          "scattercarpet": [
           {
            "type": "scattercarpet",
            "marker": {
             "colorbar": {
              "outlinewidth": 0,
              "ticks": ""
             }
            }
           }
          ],
          "carpet": [
           {
            "aaxis": {
             "endlinecolor": "#A2B1C6",
             "gridcolor": "#506784",
             "linecolor": "#506784",
             "minorgridcolor": "#506784",
             "startlinecolor": "#A2B1C6"
            },
            "baxis": {
             "endlinecolor": "#A2B1C6",
             "gridcolor": "#506784",
             "linecolor": "#506784",
             "minorgridcolor": "#506784",
             "startlinecolor": "#A2B1C6"
            },
            "type": "carpet"
           }
          ],
          "table": [
           {
            "cells": {
             "fill": {
              "color": "#506784"
             },
             "line": {
              "color": "rgb(17,17,17)"
             }
            },
            "header": {
             "fill": {
              "color": "#2a3f5f"
             },
             "line": {
              "color": "rgb(17,17,17)"
             }
            },
            "type": "table"
           }
          ],
          "barpolar": [
           {
            "marker": {
             "line": {
              "color": "rgb(17,17,17)",
              "width": 0.5
             },
             "pattern": {
              "fillmode": "overlay",
              "size": 10,
              "solidity": 0.2
             }
            },
            "type": "barpolar"
           }
          ],
          "pie": [
           {
            "automargin": true,
            "type": "pie"
           }
          ]
         },
         "layout": {
          "autotypenumbers": "strict",
          "colorway": [
           "#636efa",
           "#EF553B",
           "#00cc96",
           "#ab63fa",
           "#FFA15A",
           "#19d3f3",
           "#FF6692",
           "#B6E880",
           "#FF97FF",
           "#FECB52"
          ],
          "font": {
           "color": "#f2f5fa"
          },
          "hovermode": "closest",
          "hoverlabel": {
           "align": "left"
          },
          "paper_bgcolor": "rgb(17,17,17)",
          "plot_bgcolor": "rgb(17,17,17)",
          "polar": {
           "bgcolor": "rgb(17,17,17)",
           "angularaxis": {
            "gridcolor": "#506784",
            "linecolor": "#506784",
            "ticks": ""
           },
           "radialaxis": {
            "gridcolor": "#506784",
            "linecolor": "#506784",
            "ticks": ""
           }
          },
          "ternary": {
           "bgcolor": "rgb(17,17,17)",
           "aaxis": {
            "gridcolor": "#506784",
            "linecolor": "#506784",
            "ticks": ""
           },
           "baxis": {
            "gridcolor": "#506784",
            "linecolor": "#506784",
            "ticks": ""
           },
           "caxis": {
            "gridcolor": "#506784",
            "linecolor": "#506784",
            "ticks": ""
           }
          },
          "coloraxis": {
           "colorbar": {
            "outlinewidth": 0,
            "ticks": ""
           }
          },
          "colorscale": {
           "sequential": [
            [
             0.0,
             "#0d0887"
            ],
            [
             0.1111111111111111,
             "#46039f"
            ],
            [
             0.2222222222222222,
             "#7201a8"
            ],
            [
             0.3333333333333333,
             "#9c179e"
            ],
            [
             0.4444444444444444,
             "#bd3786"
            ],
            [
             0.5555555555555556,
             "#d8576b"
            ],
            [
             0.6666666666666666,
             "#ed7953"
            ],
            [
             0.7777777777777778,
             "#fb9f3a"
            ],
            [
             0.8888888888888888,
             "#fdca26"
            ],
            [
             1.0,
             "#f0f921"
            ]
           ],
           "sequentialminus": [
            [
             0.0,
             "#0d0887"
            ],
            [
             0.1111111111111111,
             "#46039f"
            ],
            [
             0.2222222222222222,
             "#7201a8"
            ],
            [
             0.3333333333333333,
             "#9c179e"
            ],
            [
             0.4444444444444444,
             "#bd3786"
            ],
            [
             0.5555555555555556,
             "#d8576b"
            ],
            [
             0.6666666666666666,
             "#ed7953"
            ],
            [
             0.7777777777777778,
             "#fb9f3a"
            ],
            [
             0.8888888888888888,
             "#fdca26"
            ],
            [
             1.0,
             "#f0f921"
            ]
           ],
           "diverging": [
            [
             0,
             "#8e0152"
            ],
            [
             0.1,
             "#c51b7d"
            ],
            [
             0.2,
             "#de77ae"
            ],
            [
             0.3,
             "#f1b6da"
            ],
            [
             0.4,
             "#fde0ef"
            ],
            [
             0.5,
             "#f7f7f7"
            ],
            [
             0.6,
             "#e6f5d0"
            ],
            [
             0.7,
             "#b8e186"
            ],
            [
             0.8,
             "#7fbc41"
            ],
            [
             0.9,
             "#4d9221"
            ],
            [
             1,
             "#276419"
            ]
           ]
          },
          "xaxis": {
           "gridcolor": "#283442",
           "linecolor": "#506784",
           "ticks": "",
           "title": {
            "standoff": 15
           },
           "zerolinecolor": "#283442",
           "automargin": true,
           "zerolinewidth": 2
          },
          "yaxis": {
           "gridcolor": "#283442",
           "linecolor": "#506784",
           "ticks": "",
           "title": {
            "standoff": 15
           },
           "zerolinecolor": "#283442",
           "automargin": true,
           "zerolinewidth": 2
          },
          "scene": {
           "xaxis": {
            "backgroundcolor": "rgb(17,17,17)",
            "gridcolor": "#506784",
            "linecolor": "#506784",
            "showbackground": true,
            "ticks": "",
            "zerolinecolor": "#C8D4E3",
            "gridwidth": 2
           },
           "yaxis": {
            "backgroundcolor": "rgb(17,17,17)",
            "gridcolor": "#506784",
            "linecolor": "#506784",
            "showbackground": true,
            "ticks": "",
            "zerolinecolor": "#C8D4E3",
            "gridwidth": 2
           },
           "zaxis": {
            "backgroundcolor": "rgb(17,17,17)",
            "gridcolor": "#506784",
            "linecolor": "#506784",
            "showbackground": true,
            "ticks": "",
            "zerolinecolor": "#C8D4E3",
            "gridwidth": 2
           }
          },
          "shapedefaults": {
           "line": {
            "color": "#f2f5fa"
           }
          },
          "annotationdefaults": {
           "arrowcolor": "#f2f5fa",
           "arrowhead": 0,
           "arrowwidth": 1
          },
          "geo": {
           "bgcolor": "rgb(17,17,17)",
           "landcolor": "rgb(17,17,17)",
           "subunitcolor": "#506784",
           "showland": true,
           "showlakes": true,
           "lakecolor": "rgb(17,17,17)"
          },
          "title": {
           "x": 0.05
          },
          "updatemenudefaults": {
           "bgcolor": "#506784",
           "borderwidth": 0
          },
          "sliderdefaults": {
           "bgcolor": "#C8D4E3",
           "borderwidth": 1,
           "bordercolor": "rgb(17,17,17)",
           "tickwidth": 0
          },
          "mapbox": {
           "style": "dark"
          }
         }
        },
        "xaxis": {
         "anchor": "y",
         "domain": [
          0.0,
          1.0
         ],
         "title": {
          "text": "Issues"
         }
        },
        "yaxis": {
         "anchor": "x",
         "domain": [
          0.0,
          1.0
         ],
         "title": {
          "text": "Volume of URLs"
         }
        },
        "legend": {
         "title": {
          "text": "Impact_Score_Quadrant"
         },
         "tracegroupgap": 0
        },
        "title": {
         "text": "Medium Priority Issues by Count of URLs - sorted by Impact Score"
        },
        "barmode": "relative"
       },
       "config": {
        "plotlyServerURL": "https://plot.ly"
       }
      },
      "text/html": [
       "<div>                            <div id=\"aaed5f7f-a860-4e61-97b6-d4ad87a8c2aa\" class=\"plotly-graph-div\" style=\"height:525px; width:100%;\"></div>            <script type=\"text/javascript\">                require([\"plotly\"], function(Plotly) {                    window.PLOTLYENV=window.PLOTLYENV || {};                                    if (document.getElementById(\"aaed5f7f-a860-4e61-97b6-d4ad87a8c2aa\")) {                    Plotly.newPlot(                        \"aaed5f7f-a860-4e61-97b6-d4ad87a8c2aa\",                        [{\"alignmentgroup\":\"True\",\"hovertemplate\":\"Impact_Score_Quadrant=Medium\\u003cbr\\u003eIssue Name=%{x}\\u003cbr\\u003eAddress=%{y}\\u003cextra\\u003e\\u003c\\u002fextra\\u003e\",\"legendgroup\":\"Medium\",\"marker\":{\"color\":\"#EF553B\",\"pattern\":{\"shape\":\"\"}},\"name\":\"Medium\",\"offsetgroup\":\"Medium\",\"orientation\":\"v\",\"showlegend\":true,\"textposition\":\"auto\",\"x\":[\"Meta Description: Duplicate\",\"Canonicals: Non-Indexable Canonical\",\"H2: Missing\",\"Page Titles: Over 60 Characters\",\"Content: Readability Very Difficult\",\"Meta Description: Over 985 Pixels\",\"Meta Description: Below 70 Characters\",\"Meta Description: Below 400 Pixels\",\"Meta Description: Missing\",\"H1: Duplicate\",\"Page Titles: Same as H1\",\"H2: Over 70 Characters\",\"Structured Data: Rich Result Validation Warnings\"],\"xaxis\":\"x\",\"y\":[87,5,47,35,7,39,10,10,48,5,28,12,83],\"yaxis\":\"y\",\"type\":\"bar\"}],                        {\"template\":{\"data\":{\"histogram2dcontour\":[{\"type\":\"histogram2dcontour\",\"colorbar\":{\"outlinewidth\":0,\"ticks\":\"\"},\"colorscale\":[[0.0,\"#0d0887\"],[0.1111111111111111,\"#46039f\"],[0.2222222222222222,\"#7201a8\"],[0.3333333333333333,\"#9c179e\"],[0.4444444444444444,\"#bd3786\"],[0.5555555555555556,\"#d8576b\"],[0.6666666666666666,\"#ed7953\"],[0.7777777777777778,\"#fb9f3a\"],[0.8888888888888888,\"#fdca26\"],[1.0,\"#f0f921\"]]}],\"choropleth\":[{\"type\":\"choropleth\",\"colorbar\":{\"outlinewidth\":0,\"ticks\":\"\"}}],\"histogram2d\":[{\"type\":\"histogram2d\",\"colorbar\":{\"outlinewidth\":0,\"ticks\":\"\"},\"colorscale\":[[0.0,\"#0d0887\"],[0.1111111111111111,\"#46039f\"],[0.2222222222222222,\"#7201a8\"],[0.3333333333333333,\"#9c179e\"],[0.4444444444444444,\"#bd3786\"],[0.5555555555555556,\"#d8576b\"],[0.6666666666666666,\"#ed7953\"],[0.7777777777777778,\"#fb9f3a\"],[0.8888888888888888,\"#fdca26\"],[1.0,\"#f0f921\"]]}],\"heatmap\":[{\"type\":\"heatmap\",\"colorbar\":{\"outlinewidth\":0,\"ticks\":\"\"},\"colorscale\":[[0.0,\"#0d0887\"],[0.1111111111111111,\"#46039f\"],[0.2222222222222222,\"#7201a8\"],[0.3333333333333333,\"#9c179e\"],[0.4444444444444444,\"#bd3786\"],[0.5555555555555556,\"#d8576b\"],[0.6666666666666666,\"#ed7953\"],[0.7777777777777778,\"#fb9f3a\"],[0.8888888888888888,\"#fdca26\"],[1.0,\"#f0f921\"]]}],\"heatmapgl\":[{\"type\":\"heatmapgl\",\"colorbar\":{\"outlinewidth\":0,\"ticks\":\"\"},\"colorscale\":[[0.0,\"#0d0887\"],[0.1111111111111111,\"#46039f\"],[0.2222222222222222,\"#7201a8\"],[0.3333333333333333,\"#9c179e\"],[0.4444444444444444,\"#bd3786\"],[0.5555555555555556,\"#d8576b\"],[0.6666666666666666,\"#ed7953\"],[0.7777777777777778,\"#fb9f3a\"],[0.8888888888888888,\"#fdca26\"],[1.0,\"#f0f921\"]]}],\"contourcarpet\":[{\"type\":\"contourcarpet\",\"colorbar\":{\"outlinewidth\":0,\"ticks\":\"\"}}],\"contour\":[{\"type\":\"contour\",\"colorbar\":{\"outlinewidth\":0,\"ticks\":\"\"},\"colorscale\":[[0.0,\"#0d0887\"],[0.1111111111111111,\"#46039f\"],[0.2222222222222222,\"#7201a8\"],[0.3333333333333333,\"#9c179e\"],[0.4444444444444444,\"#bd3786\"],[0.5555555555555556,\"#d8576b\"],[0.6666666666666666,\"#ed7953\"],[0.7777777777777778,\"#fb9f3a\"],[0.8888888888888888,\"#fdca26\"],[1.0,\"#f0f921\"]]}],\"surface\":[{\"type\":\"surface\",\"colorbar\":{\"outlinewidth\":0,\"ticks\":\"\"},\"colorscale\":[[0.0,\"#0d0887\"],[0.1111111111111111,\"#46039f\"],[0.2222222222222222,\"#7201a8\"],[0.3333333333333333,\"#9c179e\"],[0.4444444444444444,\"#bd3786\"],[0.5555555555555556,\"#d8576b\"],[0.6666666666666666,\"#ed7953\"],[0.7777777777777778,\"#fb9f3a\"],[0.8888888888888888,\"#fdca26\"],[1.0,\"#f0f921\"]]}],\"mesh3d\":[{\"type\":\"mesh3d\",\"colorbar\":{\"outlinewidth\":0,\"ticks\":\"\"}}],\"scatter\":[{\"marker\":{\"line\":{\"color\":\"#283442\"}},\"type\":\"scatter\"}],\"parcoords\":[{\"type\":\"parcoords\",\"line\":{\"colorbar\":{\"outlinewidth\":0,\"ticks\":\"\"}}}],\"scatterpolargl\":[{\"type\":\"scatterpolargl\",\"marker\":{\"colorbar\":{\"outlinewidth\":0,\"ticks\":\"\"}}}],\"bar\":[{\"error_x\":{\"color\":\"#f2f5fa\"},\"error_y\":{\"color\":\"#f2f5fa\"},\"marker\":{\"line\":{\"color\":\"rgb(17,17,17)\",\"width\":0.5},\"pattern\":{\"fillmode\":\"overlay\",\"size\":10,\"solidity\":0.2}},\"type\":\"bar\"}],\"scattergeo\":[{\"type\":\"scattergeo\",\"marker\":{\"colorbar\":{\"outlinewidth\":0,\"ticks\":\"\"}}}],\"scatterpolar\":[{\"type\":\"scatterpolar\",\"marker\":{\"colorbar\":{\"outlinewidth\":0,\"ticks\":\"\"}}}],\"histogram\":[{\"marker\":{\"pattern\":{\"fillmode\":\"overlay\",\"size\":10,\"solidity\":0.2}},\"type\":\"histogram\"}],\"scattergl\":[{\"marker\":{\"line\":{\"color\":\"#283442\"}},\"type\":\"scattergl\"}],\"scatter3d\":[{\"type\":\"scatter3d\",\"line\":{\"colorbar\":{\"outlinewidth\":0,\"ticks\":\"\"}},\"marker\":{\"colorbar\":{\"outlinewidth\":0,\"ticks\":\"\"}}}],\"scattermapbox\":[{\"type\":\"scattermapbox\",\"marker\":{\"colorbar\":{\"outlinewidth\":0,\"ticks\":\"\"}}}],\"scatterternary\":[{\"type\":\"scatterternary\",\"marker\":{\"colorbar\":{\"outlinewidth\":0,\"ticks\":\"\"}}}],\"scattercarpet\":[{\"type\":\"scattercarpet\",\"marker\":{\"colorbar\":{\"outlinewidth\":0,\"ticks\":\"\"}}}],\"carpet\":[{\"aaxis\":{\"endlinecolor\":\"#A2B1C6\",\"gridcolor\":\"#506784\",\"linecolor\":\"#506784\",\"minorgridcolor\":\"#506784\",\"startlinecolor\":\"#A2B1C6\"},\"baxis\":{\"endlinecolor\":\"#A2B1C6\",\"gridcolor\":\"#506784\",\"linecolor\":\"#506784\",\"minorgridcolor\":\"#506784\",\"startlinecolor\":\"#A2B1C6\"},\"type\":\"carpet\"}],\"table\":[{\"cells\":{\"fill\":{\"color\":\"#506784\"},\"line\":{\"color\":\"rgb(17,17,17)\"}},\"header\":{\"fill\":{\"color\":\"#2a3f5f\"},\"line\":{\"color\":\"rgb(17,17,17)\"}},\"type\":\"table\"}],\"barpolar\":[{\"marker\":{\"line\":{\"color\":\"rgb(17,17,17)\",\"width\":0.5},\"pattern\":{\"fillmode\":\"overlay\",\"size\":10,\"solidity\":0.2}},\"type\":\"barpolar\"}],\"pie\":[{\"automargin\":true,\"type\":\"pie\"}]},\"layout\":{\"autotypenumbers\":\"strict\",\"colorway\":[\"#636efa\",\"#EF553B\",\"#00cc96\",\"#ab63fa\",\"#FFA15A\",\"#19d3f3\",\"#FF6692\",\"#B6E880\",\"#FF97FF\",\"#FECB52\"],\"font\":{\"color\":\"#f2f5fa\"},\"hovermode\":\"closest\",\"hoverlabel\":{\"align\":\"left\"},\"paper_bgcolor\":\"rgb(17,17,17)\",\"plot_bgcolor\":\"rgb(17,17,17)\",\"polar\":{\"bgcolor\":\"rgb(17,17,17)\",\"angularaxis\":{\"gridcolor\":\"#506784\",\"linecolor\":\"#506784\",\"ticks\":\"\"},\"radialaxis\":{\"gridcolor\":\"#506784\",\"linecolor\":\"#506784\",\"ticks\":\"\"}},\"ternary\":{\"bgcolor\":\"rgb(17,17,17)\",\"aaxis\":{\"gridcolor\":\"#506784\",\"linecolor\":\"#506784\",\"ticks\":\"\"},\"baxis\":{\"gridcolor\":\"#506784\",\"linecolor\":\"#506784\",\"ticks\":\"\"},\"caxis\":{\"gridcolor\":\"#506784\",\"linecolor\":\"#506784\",\"ticks\":\"\"}},\"coloraxis\":{\"colorbar\":{\"outlinewidth\":0,\"ticks\":\"\"}},\"colorscale\":{\"sequential\":[[0.0,\"#0d0887\"],[0.1111111111111111,\"#46039f\"],[0.2222222222222222,\"#7201a8\"],[0.3333333333333333,\"#9c179e\"],[0.4444444444444444,\"#bd3786\"],[0.5555555555555556,\"#d8576b\"],[0.6666666666666666,\"#ed7953\"],[0.7777777777777778,\"#fb9f3a\"],[0.8888888888888888,\"#fdca26\"],[1.0,\"#f0f921\"]],\"sequentialminus\":[[0.0,\"#0d0887\"],[0.1111111111111111,\"#46039f\"],[0.2222222222222222,\"#7201a8\"],[0.3333333333333333,\"#9c179e\"],[0.4444444444444444,\"#bd3786\"],[0.5555555555555556,\"#d8576b\"],[0.6666666666666666,\"#ed7953\"],[0.7777777777777778,\"#fb9f3a\"],[0.8888888888888888,\"#fdca26\"],[1.0,\"#f0f921\"]],\"diverging\":[[0,\"#8e0152\"],[0.1,\"#c51b7d\"],[0.2,\"#de77ae\"],[0.3,\"#f1b6da\"],[0.4,\"#fde0ef\"],[0.5,\"#f7f7f7\"],[0.6,\"#e6f5d0\"],[0.7,\"#b8e186\"],[0.8,\"#7fbc41\"],[0.9,\"#4d9221\"],[1,\"#276419\"]]},\"xaxis\":{\"gridcolor\":\"#283442\",\"linecolor\":\"#506784\",\"ticks\":\"\",\"title\":{\"standoff\":15},\"zerolinecolor\":\"#283442\",\"automargin\":true,\"zerolinewidth\":2},\"yaxis\":{\"gridcolor\":\"#283442\",\"linecolor\":\"#506784\",\"ticks\":\"\",\"title\":{\"standoff\":15},\"zerolinecolor\":\"#283442\",\"automargin\":true,\"zerolinewidth\":2},\"scene\":{\"xaxis\":{\"backgroundcolor\":\"rgb(17,17,17)\",\"gridcolor\":\"#506784\",\"linecolor\":\"#506784\",\"showbackground\":true,\"ticks\":\"\",\"zerolinecolor\":\"#C8D4E3\",\"gridwidth\":2},\"yaxis\":{\"backgroundcolor\":\"rgb(17,17,17)\",\"gridcolor\":\"#506784\",\"linecolor\":\"#506784\",\"showbackground\":true,\"ticks\":\"\",\"zerolinecolor\":\"#C8D4E3\",\"gridwidth\":2},\"zaxis\":{\"backgroundcolor\":\"rgb(17,17,17)\",\"gridcolor\":\"#506784\",\"linecolor\":\"#506784\",\"showbackground\":true,\"ticks\":\"\",\"zerolinecolor\":\"#C8D4E3\",\"gridwidth\":2}},\"shapedefaults\":{\"line\":{\"color\":\"#f2f5fa\"}},\"annotationdefaults\":{\"arrowcolor\":\"#f2f5fa\",\"arrowhead\":0,\"arrowwidth\":1},\"geo\":{\"bgcolor\":\"rgb(17,17,17)\",\"landcolor\":\"rgb(17,17,17)\",\"subunitcolor\":\"#506784\",\"showland\":true,\"showlakes\":true,\"lakecolor\":\"rgb(17,17,17)\"},\"title\":{\"x\":0.05},\"updatemenudefaults\":{\"bgcolor\":\"#506784\",\"borderwidth\":0},\"sliderdefaults\":{\"bgcolor\":\"#C8D4E3\",\"borderwidth\":1,\"bordercolor\":\"rgb(17,17,17)\",\"tickwidth\":0},\"mapbox\":{\"style\":\"dark\"}}},\"xaxis\":{\"anchor\":\"y\",\"domain\":[0.0,1.0],\"title\":{\"text\":\"Issues\"}},\"yaxis\":{\"anchor\":\"x\",\"domain\":[0.0,1.0],\"title\":{\"text\":\"Volume of URLs\"}},\"legend\":{\"title\":{\"text\":\"Impact_Score_Quadrant\"},\"tracegroupgap\":0},\"title\":{\"text\":\"Medium Priority Issues by Count of URLs - sorted by Impact Score\"},\"barmode\":\"relative\"},                        {\"responsive\": true}                    ).then(function(){\n",
       "                            \n",
       "var gd = document.getElementById('aaed5f7f-a860-4e61-97b6-d4ad87a8c2aa');\n",
       "var x = new MutationObserver(function (mutations, observer) {{\n",
       "        var display = window.getComputedStyle(gd).display;\n",
       "        if (!display || display === 'none') {{\n",
       "            console.log([gd, 'removed!']);\n",
       "            Plotly.purge(gd);\n",
       "            observer.disconnect();\n",
       "        }}\n",
       "}});\n",
       "\n",
       "// Listen for the removal of the full notebook cells\n",
       "var notebookContainer = gd.closest('#notebook-container');\n",
       "if (notebookContainer) {{\n",
       "    x.observe(notebookContainer, {childList: true});\n",
       "}}\n",
       "\n",
       "// Listen for the clearing of the current output cell\n",
       "var outputEl = gd.closest('.output');\n",
       "if (outputEl) {{\n",
       "    x.observe(outputEl, {childList: true});\n",
       "}}\n",
       "\n",
       "                        })                };                });            </script>        </div>"
      ]
     },
     "metadata": {},
     "output_type": "display_data"
    },
    {
     "data": {
      "application/vnd.plotly.v1+json": {
       "data": [
        {
         "alignmentgroup": "True",
         "hovertemplate": "Impact_Score_Quadrant=Low<br>Issue Name=%{x}<br>Address=%{y}<extra></extra>",
         "legendgroup": "Low",
         "marker": {
          "color": "#00CC96",
          "pattern": {
           "shape": ""
          }
         },
         "name": "Low",
         "offsetgroup": "Low",
         "orientation": "v",
         "showlegend": true,
         "textposition": "auto",
         "x": [
          "Response Codes: Internal Blocked Resource",
          "Canonicals: Canonicalised",
          "Directives: Noindex",
          "Directives: Nofollow",
          "Canonicals: Missing",
          "Search Console: Non-Indexable with Search Analytics Data",
          "JavaScript: Contains JavaScript Content",
          "Images: Over 100 KB",
          "Images: Missing Alt Text",
          "Images: Missing Alt Attribute",
          "URL: Uppercase",
          "URL: Multiple Slashes",
          "URL: Contains Space",
          "H1: Non-Sequential"
         ],
         "xaxis": "x",
         "y": [
          254,
          115,
          25,
          22,
          29,
          4,
          15,
          12,
          44,
          15,
          75,
          2,
          2,
          21
         ],
         "yaxis": "y",
         "type": "bar"
        }
       ],
       "layout": {
        "template": {
         "data": {
          "histogram2dcontour": [
           {
            "type": "histogram2dcontour",
            "colorbar": {
             "outlinewidth": 0,
             "ticks": ""
            },
            "colorscale": [
             [
              0.0,
              "#0d0887"
             ],
             [
              0.1111111111111111,
              "#46039f"
             ],
             [
              0.2222222222222222,
              "#7201a8"
             ],
             [
              0.3333333333333333,
              "#9c179e"
             ],
             [
              0.4444444444444444,
              "#bd3786"
             ],
             [
              0.5555555555555556,
              "#d8576b"
             ],
             [
              0.6666666666666666,
              "#ed7953"
             ],
             [
              0.7777777777777778,
              "#fb9f3a"
             ],
             [
              0.8888888888888888,
              "#fdca26"
             ],
             [
              1.0,
              "#f0f921"
             ]
            ]
           }
          ],
          "choropleth": [
           {
            "type": "choropleth",
            "colorbar": {
             "outlinewidth": 0,
             "ticks": ""
            }
           }
          ],
          "histogram2d": [
           {
            "type": "histogram2d",
            "colorbar": {
             "outlinewidth": 0,
             "ticks": ""
            },
            "colorscale": [
             [
              0.0,
              "#0d0887"
             ],
             [
              0.1111111111111111,
              "#46039f"
             ],
             [
              0.2222222222222222,
              "#7201a8"
             ],
             [
              0.3333333333333333,
              "#9c179e"
             ],
             [
              0.4444444444444444,
              "#bd3786"
             ],
             [
              0.5555555555555556,
              "#d8576b"
             ],
             [
              0.6666666666666666,
              "#ed7953"
             ],
             [
              0.7777777777777778,
              "#fb9f3a"
             ],
             [
              0.8888888888888888,
              "#fdca26"
             ],
             [
              1.0,
              "#f0f921"
             ]
            ]
           }
          ],
          "heatmap": [
           {
            "type": "heatmap",
            "colorbar": {
             "outlinewidth": 0,
             "ticks": ""
            },
            "colorscale": [
             [
              0.0,
              "#0d0887"
             ],
             [
              0.1111111111111111,
              "#46039f"
             ],
             [
              0.2222222222222222,
              "#7201a8"
             ],
             [
              0.3333333333333333,
              "#9c179e"
             ],
             [
              0.4444444444444444,
              "#bd3786"
             ],
             [
              0.5555555555555556,
              "#d8576b"
             ],
             [
              0.6666666666666666,
              "#ed7953"
             ],
             [
              0.7777777777777778,
              "#fb9f3a"
             ],
             [
              0.8888888888888888,
              "#fdca26"
             ],
             [
              1.0,
              "#f0f921"
             ]
            ]
           }
          ],
          "heatmapgl": [
           {
            "type": "heatmapgl",
            "colorbar": {
             "outlinewidth": 0,
             "ticks": ""
            },
            "colorscale": [
             [
              0.0,
              "#0d0887"
             ],
             [
              0.1111111111111111,
              "#46039f"
             ],
             [
              0.2222222222222222,
              "#7201a8"
             ],
             [
              0.3333333333333333,
              "#9c179e"
             ],
             [
              0.4444444444444444,
              "#bd3786"
             ],
             [
              0.5555555555555556,
              "#d8576b"
             ],
             [
              0.6666666666666666,
              "#ed7953"
             ],
             [
              0.7777777777777778,
              "#fb9f3a"
             ],
             [
              0.8888888888888888,
              "#fdca26"
             ],
             [
              1.0,
              "#f0f921"
             ]
            ]
           }
          ],
          "contourcarpet": [
           {
            "type": "contourcarpet",
            "colorbar": {
             "outlinewidth": 0,
             "ticks": ""
            }
           }
          ],
          "contour": [
           {
            "type": "contour",
            "colorbar": {
             "outlinewidth": 0,
             "ticks": ""
            },
            "colorscale": [
             [
              0.0,
              "#0d0887"
             ],
             [
              0.1111111111111111,
              "#46039f"
             ],
             [
              0.2222222222222222,
              "#7201a8"
             ],
             [
              0.3333333333333333,
              "#9c179e"
             ],
             [
              0.4444444444444444,
              "#bd3786"
             ],
             [
              0.5555555555555556,
              "#d8576b"
             ],
             [
              0.6666666666666666,
              "#ed7953"
             ],
             [
              0.7777777777777778,
              "#fb9f3a"
             ],
             [
              0.8888888888888888,
              "#fdca26"
             ],
             [
              1.0,
              "#f0f921"
             ]
            ]
           }
          ],
          "surface": [
           {
            "type": "surface",
            "colorbar": {
             "outlinewidth": 0,
             "ticks": ""
            },
            "colorscale": [
             [
              0.0,
              "#0d0887"
             ],
             [
              0.1111111111111111,
              "#46039f"
             ],
             [
              0.2222222222222222,
              "#7201a8"
             ],
             [
              0.3333333333333333,
              "#9c179e"
             ],
             [
              0.4444444444444444,
              "#bd3786"
             ],
             [
              0.5555555555555556,
              "#d8576b"
             ],
             [
              0.6666666666666666,
              "#ed7953"
             ],
             [
              0.7777777777777778,
              "#fb9f3a"
             ],
             [
              0.8888888888888888,
              "#fdca26"
             ],
             [
              1.0,
              "#f0f921"
             ]
            ]
           }
          ],
          "mesh3d": [
           {
            "type": "mesh3d",
            "colorbar": {
             "outlinewidth": 0,
             "ticks": ""
            }
           }
          ],
          "scatter": [
           {
            "marker": {
             "line": {
              "color": "#283442"
             }
            },
            "type": "scatter"
           }
          ],
          "parcoords": [
           {
            "type": "parcoords",
            "line": {
             "colorbar": {
              "outlinewidth": 0,
              "ticks": ""
             }
            }
           }
          ],
          "scatterpolargl": [
           {
            "type": "scatterpolargl",
            "marker": {
             "colorbar": {
              "outlinewidth": 0,
              "ticks": ""
             }
            }
           }
          ],
          "bar": [
           {
            "error_x": {
             "color": "#f2f5fa"
            },
            "error_y": {
             "color": "#f2f5fa"
            },
            "marker": {
             "line": {
              "color": "rgb(17,17,17)",
              "width": 0.5
             },
             "pattern": {
              "fillmode": "overlay",
              "size": 10,
              "solidity": 0.2
             }
            },
            "type": "bar"
           }
          ],
          "scattergeo": [
           {
            "type": "scattergeo",
            "marker": {
             "colorbar": {
              "outlinewidth": 0,
              "ticks": ""
             }
            }
           }
          ],
          "scatterpolar": [
           {
            "type": "scatterpolar",
            "marker": {
             "colorbar": {
              "outlinewidth": 0,
              "ticks": ""
             }
            }
           }
          ],
          "histogram": [
           {
            "marker": {
             "pattern": {
              "fillmode": "overlay",
              "size": 10,
              "solidity": 0.2
             }
            },
            "type": "histogram"
           }
          ],
          "scattergl": [
           {
            "marker": {
             "line": {
              "color": "#283442"
             }
            },
            "type": "scattergl"
           }
          ],
          "scatter3d": [
           {
            "type": "scatter3d",
            "line": {
             "colorbar": {
              "outlinewidth": 0,
              "ticks": ""
             }
            },
            "marker": {
             "colorbar": {
              "outlinewidth": 0,
              "ticks": ""
             }
            }
           }
          ],
          "scattermapbox": [
           {
            "type": "scattermapbox",
            "marker": {
             "colorbar": {
              "outlinewidth": 0,
              "ticks": ""
             }
            }
           }
          ],
          "scatterternary": [
           {
            "type": "scatterternary",
            "marker": {
             "colorbar": {
              "outlinewidth": 0,
              "ticks": ""
             }
            }
           }
          ],
          "scattercarpet": [
           {
            "type": "scattercarpet",
            "marker": {
             "colorbar": {
              "outlinewidth": 0,
              "ticks": ""
             }
            }
           }
          ],
          "carpet": [
           {
            "aaxis": {
             "endlinecolor": "#A2B1C6",
             "gridcolor": "#506784",
             "linecolor": "#506784",
             "minorgridcolor": "#506784",
             "startlinecolor": "#A2B1C6"
            },
            "baxis": {
             "endlinecolor": "#A2B1C6",
             "gridcolor": "#506784",
             "linecolor": "#506784",
             "minorgridcolor": "#506784",
             "startlinecolor": "#A2B1C6"
            },
            "type": "carpet"
           }
          ],
          "table": [
           {
            "cells": {
             "fill": {
              "color": "#506784"
             },
             "line": {
              "color": "rgb(17,17,17)"
             }
            },
            "header": {
             "fill": {
              "color": "#2a3f5f"
             },
             "line": {
              "color": "rgb(17,17,17)"
             }
            },
            "type": "table"
           }
          ],
          "barpolar": [
           {
            "marker": {
             "line": {
              "color": "rgb(17,17,17)",
              "width": 0.5
             },
             "pattern": {
              "fillmode": "overlay",
              "size": 10,
              "solidity": 0.2
             }
            },
            "type": "barpolar"
           }
          ],
          "pie": [
           {
            "automargin": true,
            "type": "pie"
           }
          ]
         },
         "layout": {
          "autotypenumbers": "strict",
          "colorway": [
           "#636efa",
           "#EF553B",
           "#00cc96",
           "#ab63fa",
           "#FFA15A",
           "#19d3f3",
           "#FF6692",
           "#B6E880",
           "#FF97FF",
           "#FECB52"
          ],
          "font": {
           "color": "#f2f5fa"
          },
          "hovermode": "closest",
          "hoverlabel": {
           "align": "left"
          },
          "paper_bgcolor": "rgb(17,17,17)",
          "plot_bgcolor": "rgb(17,17,17)",
          "polar": {
           "bgcolor": "rgb(17,17,17)",
           "angularaxis": {
            "gridcolor": "#506784",
            "linecolor": "#506784",
            "ticks": ""
           },
           "radialaxis": {
            "gridcolor": "#506784",
            "linecolor": "#506784",
            "ticks": ""
           }
          },
          "ternary": {
           "bgcolor": "rgb(17,17,17)",
           "aaxis": {
            "gridcolor": "#506784",
            "linecolor": "#506784",
            "ticks": ""
           },
           "baxis": {
            "gridcolor": "#506784",
            "linecolor": "#506784",
            "ticks": ""
           },
           "caxis": {
            "gridcolor": "#506784",
            "linecolor": "#506784",
            "ticks": ""
           }
          },
          "coloraxis": {
           "colorbar": {
            "outlinewidth": 0,
            "ticks": ""
           }
          },
          "colorscale": {
           "sequential": [
            [
             0.0,
             "#0d0887"
            ],
            [
             0.1111111111111111,
             "#46039f"
            ],
            [
             0.2222222222222222,
             "#7201a8"
            ],
            [
             0.3333333333333333,
             "#9c179e"
            ],
            [
             0.4444444444444444,
             "#bd3786"
            ],
            [
             0.5555555555555556,
             "#d8576b"
            ],
            [
             0.6666666666666666,
             "#ed7953"
            ],
            [
             0.7777777777777778,
             "#fb9f3a"
            ],
            [
             0.8888888888888888,
             "#fdca26"
            ],
            [
             1.0,
             "#f0f921"
            ]
           ],
           "sequentialminus": [
            [
             0.0,
             "#0d0887"
            ],
            [
             0.1111111111111111,
             "#46039f"
            ],
            [
             0.2222222222222222,
             "#7201a8"
            ],
            [
             0.3333333333333333,
             "#9c179e"
            ],
            [
             0.4444444444444444,
             "#bd3786"
            ],
            [
             0.5555555555555556,
             "#d8576b"
            ],
            [
             0.6666666666666666,
             "#ed7953"
            ],
            [
             0.7777777777777778,
             "#fb9f3a"
            ],
            [
             0.8888888888888888,
             "#fdca26"
            ],
            [
             1.0,
             "#f0f921"
            ]
           ],
           "diverging": [
            [
             0,
             "#8e0152"
            ],
            [
             0.1,
             "#c51b7d"
            ],
            [
             0.2,
             "#de77ae"
            ],
            [
             0.3,
             "#f1b6da"
            ],
            [
             0.4,
             "#fde0ef"
            ],
            [
             0.5,
             "#f7f7f7"
            ],
            [
             0.6,
             "#e6f5d0"
            ],
            [
             0.7,
             "#b8e186"
            ],
            [
             0.8,
             "#7fbc41"
            ],
            [
             0.9,
             "#4d9221"
            ],
            [
             1,
             "#276419"
            ]
           ]
          },
          "xaxis": {
           "gridcolor": "#283442",
           "linecolor": "#506784",
           "ticks": "",
           "title": {
            "standoff": 15
           },
           "zerolinecolor": "#283442",
           "automargin": true,
           "zerolinewidth": 2
          },
          "yaxis": {
           "gridcolor": "#283442",
           "linecolor": "#506784",
           "ticks": "",
           "title": {
            "standoff": 15
           },
           "zerolinecolor": "#283442",
           "automargin": true,
           "zerolinewidth": 2
          },
          "scene": {
           "xaxis": {
            "backgroundcolor": "rgb(17,17,17)",
            "gridcolor": "#506784",
            "linecolor": "#506784",
            "showbackground": true,
            "ticks": "",
            "zerolinecolor": "#C8D4E3",
            "gridwidth": 2
           },
           "yaxis": {
            "backgroundcolor": "rgb(17,17,17)",
            "gridcolor": "#506784",
            "linecolor": "#506784",
            "showbackground": true,
            "ticks": "",
            "zerolinecolor": "#C8D4E3",
            "gridwidth": 2
           },
           "zaxis": {
            "backgroundcolor": "rgb(17,17,17)",
            "gridcolor": "#506784",
            "linecolor": "#506784",
            "showbackground": true,
            "ticks": "",
            "zerolinecolor": "#C8D4E3",
            "gridwidth": 2
           }
          },
          "shapedefaults": {
           "line": {
            "color": "#f2f5fa"
           }
          },
          "annotationdefaults": {
           "arrowcolor": "#f2f5fa",
           "arrowhead": 0,
           "arrowwidth": 1
          },
          "geo": {
           "bgcolor": "rgb(17,17,17)",
           "landcolor": "rgb(17,17,17)",
           "subunitcolor": "#506784",
           "showland": true,
           "showlakes": true,
           "lakecolor": "rgb(17,17,17)"
          },
          "title": {
           "x": 0.05
          },
          "updatemenudefaults": {
           "bgcolor": "#506784",
           "borderwidth": 0
          },
          "sliderdefaults": {
           "bgcolor": "#C8D4E3",
           "borderwidth": 1,
           "bordercolor": "rgb(17,17,17)",
           "tickwidth": 0
          },
          "mapbox": {
           "style": "dark"
          }
         }
        },
        "xaxis": {
         "anchor": "y",
         "domain": [
          0.0,
          1.0
         ],
         "title": {
          "text": "Issues"
         }
        },
        "yaxis": {
         "anchor": "x",
         "domain": [
          0.0,
          1.0
         ],
         "title": {
          "text": "Volume of URLs"
         }
        },
        "legend": {
         "title": {
          "text": "Impact_Score_Quadrant"
         },
         "tracegroupgap": 0
        },
        "title": {
         "text": "Low Priority Issues by Count of URLs - sorted by Impact Score"
        },
        "barmode": "relative"
       },
       "config": {
        "plotlyServerURL": "https://plot.ly"
       }
      },
      "text/html": [
       "<div>                            <div id=\"9e548946-2c78-4cee-a6e7-9fccacbc3d40\" class=\"plotly-graph-div\" style=\"height:525px; width:100%;\"></div>            <script type=\"text/javascript\">                require([\"plotly\"], function(Plotly) {                    window.PLOTLYENV=window.PLOTLYENV || {};                                    if (document.getElementById(\"9e548946-2c78-4cee-a6e7-9fccacbc3d40\")) {                    Plotly.newPlot(                        \"9e548946-2c78-4cee-a6e7-9fccacbc3d40\",                        [{\"alignmentgroup\":\"True\",\"hovertemplate\":\"Impact_Score_Quadrant=Low\\u003cbr\\u003eIssue Name=%{x}\\u003cbr\\u003eAddress=%{y}\\u003cextra\\u003e\\u003c\\u002fextra\\u003e\",\"legendgroup\":\"Low\",\"marker\":{\"color\":\"#00CC96\",\"pattern\":{\"shape\":\"\"}},\"name\":\"Low\",\"offsetgroup\":\"Low\",\"orientation\":\"v\",\"showlegend\":true,\"textposition\":\"auto\",\"x\":[\"Response Codes: Internal Blocked Resource\",\"Canonicals: Canonicalised\",\"Directives: Noindex\",\"Directives: Nofollow\",\"Canonicals: Missing\",\"Search Console: Non-Indexable with Search Analytics Data\",\"JavaScript: Contains JavaScript Content\",\"Images: Over 100 KB\",\"Images: Missing Alt Text\",\"Images: Missing Alt Attribute\",\"URL: Uppercase\",\"URL: Multiple Slashes\",\"URL: Contains Space\",\"H1: Non-Sequential\"],\"xaxis\":\"x\",\"y\":[254,115,25,22,29,4,15,12,44,15,75,2,2,21],\"yaxis\":\"y\",\"type\":\"bar\"}],                        {\"template\":{\"data\":{\"histogram2dcontour\":[{\"type\":\"histogram2dcontour\",\"colorbar\":{\"outlinewidth\":0,\"ticks\":\"\"},\"colorscale\":[[0.0,\"#0d0887\"],[0.1111111111111111,\"#46039f\"],[0.2222222222222222,\"#7201a8\"],[0.3333333333333333,\"#9c179e\"],[0.4444444444444444,\"#bd3786\"],[0.5555555555555556,\"#d8576b\"],[0.6666666666666666,\"#ed7953\"],[0.7777777777777778,\"#fb9f3a\"],[0.8888888888888888,\"#fdca26\"],[1.0,\"#f0f921\"]]}],\"choropleth\":[{\"type\":\"choropleth\",\"colorbar\":{\"outlinewidth\":0,\"ticks\":\"\"}}],\"histogram2d\":[{\"type\":\"histogram2d\",\"colorbar\":{\"outlinewidth\":0,\"ticks\":\"\"},\"colorscale\":[[0.0,\"#0d0887\"],[0.1111111111111111,\"#46039f\"],[0.2222222222222222,\"#7201a8\"],[0.3333333333333333,\"#9c179e\"],[0.4444444444444444,\"#bd3786\"],[0.5555555555555556,\"#d8576b\"],[0.6666666666666666,\"#ed7953\"],[0.7777777777777778,\"#fb9f3a\"],[0.8888888888888888,\"#fdca26\"],[1.0,\"#f0f921\"]]}],\"heatmap\":[{\"type\":\"heatmap\",\"colorbar\":{\"outlinewidth\":0,\"ticks\":\"\"},\"colorscale\":[[0.0,\"#0d0887\"],[0.1111111111111111,\"#46039f\"],[0.2222222222222222,\"#7201a8\"],[0.3333333333333333,\"#9c179e\"],[0.4444444444444444,\"#bd3786\"],[0.5555555555555556,\"#d8576b\"],[0.6666666666666666,\"#ed7953\"],[0.7777777777777778,\"#fb9f3a\"],[0.8888888888888888,\"#fdca26\"],[1.0,\"#f0f921\"]]}],\"heatmapgl\":[{\"type\":\"heatmapgl\",\"colorbar\":{\"outlinewidth\":0,\"ticks\":\"\"},\"colorscale\":[[0.0,\"#0d0887\"],[0.1111111111111111,\"#46039f\"],[0.2222222222222222,\"#7201a8\"],[0.3333333333333333,\"#9c179e\"],[0.4444444444444444,\"#bd3786\"],[0.5555555555555556,\"#d8576b\"],[0.6666666666666666,\"#ed7953\"],[0.7777777777777778,\"#fb9f3a\"],[0.8888888888888888,\"#fdca26\"],[1.0,\"#f0f921\"]]}],\"contourcarpet\":[{\"type\":\"contourcarpet\",\"colorbar\":{\"outlinewidth\":0,\"ticks\":\"\"}}],\"contour\":[{\"type\":\"contour\",\"colorbar\":{\"outlinewidth\":0,\"ticks\":\"\"},\"colorscale\":[[0.0,\"#0d0887\"],[0.1111111111111111,\"#46039f\"],[0.2222222222222222,\"#7201a8\"],[0.3333333333333333,\"#9c179e\"],[0.4444444444444444,\"#bd3786\"],[0.5555555555555556,\"#d8576b\"],[0.6666666666666666,\"#ed7953\"],[0.7777777777777778,\"#fb9f3a\"],[0.8888888888888888,\"#fdca26\"],[1.0,\"#f0f921\"]]}],\"surface\":[{\"type\":\"surface\",\"colorbar\":{\"outlinewidth\":0,\"ticks\":\"\"},\"colorscale\":[[0.0,\"#0d0887\"],[0.1111111111111111,\"#46039f\"],[0.2222222222222222,\"#7201a8\"],[0.3333333333333333,\"#9c179e\"],[0.4444444444444444,\"#bd3786\"],[0.5555555555555556,\"#d8576b\"],[0.6666666666666666,\"#ed7953\"],[0.7777777777777778,\"#fb9f3a\"],[0.8888888888888888,\"#fdca26\"],[1.0,\"#f0f921\"]]}],\"mesh3d\":[{\"type\":\"mesh3d\",\"colorbar\":{\"outlinewidth\":0,\"ticks\":\"\"}}],\"scatter\":[{\"marker\":{\"line\":{\"color\":\"#283442\"}},\"type\":\"scatter\"}],\"parcoords\":[{\"type\":\"parcoords\",\"line\":{\"colorbar\":{\"outlinewidth\":0,\"ticks\":\"\"}}}],\"scatterpolargl\":[{\"type\":\"scatterpolargl\",\"marker\":{\"colorbar\":{\"outlinewidth\":0,\"ticks\":\"\"}}}],\"bar\":[{\"error_x\":{\"color\":\"#f2f5fa\"},\"error_y\":{\"color\":\"#f2f5fa\"},\"marker\":{\"line\":{\"color\":\"rgb(17,17,17)\",\"width\":0.5},\"pattern\":{\"fillmode\":\"overlay\",\"size\":10,\"solidity\":0.2}},\"type\":\"bar\"}],\"scattergeo\":[{\"type\":\"scattergeo\",\"marker\":{\"colorbar\":{\"outlinewidth\":0,\"ticks\":\"\"}}}],\"scatterpolar\":[{\"type\":\"scatterpolar\",\"marker\":{\"colorbar\":{\"outlinewidth\":0,\"ticks\":\"\"}}}],\"histogram\":[{\"marker\":{\"pattern\":{\"fillmode\":\"overlay\",\"size\":10,\"solidity\":0.2}},\"type\":\"histogram\"}],\"scattergl\":[{\"marker\":{\"line\":{\"color\":\"#283442\"}},\"type\":\"scattergl\"}],\"scatter3d\":[{\"type\":\"scatter3d\",\"line\":{\"colorbar\":{\"outlinewidth\":0,\"ticks\":\"\"}},\"marker\":{\"colorbar\":{\"outlinewidth\":0,\"ticks\":\"\"}}}],\"scattermapbox\":[{\"type\":\"scattermapbox\",\"marker\":{\"colorbar\":{\"outlinewidth\":0,\"ticks\":\"\"}}}],\"scatterternary\":[{\"type\":\"scatterternary\",\"marker\":{\"colorbar\":{\"outlinewidth\":0,\"ticks\":\"\"}}}],\"scattercarpet\":[{\"type\":\"scattercarpet\",\"marker\":{\"colorbar\":{\"outlinewidth\":0,\"ticks\":\"\"}}}],\"carpet\":[{\"aaxis\":{\"endlinecolor\":\"#A2B1C6\",\"gridcolor\":\"#506784\",\"linecolor\":\"#506784\",\"minorgridcolor\":\"#506784\",\"startlinecolor\":\"#A2B1C6\"},\"baxis\":{\"endlinecolor\":\"#A2B1C6\",\"gridcolor\":\"#506784\",\"linecolor\":\"#506784\",\"minorgridcolor\":\"#506784\",\"startlinecolor\":\"#A2B1C6\"},\"type\":\"carpet\"}],\"table\":[{\"cells\":{\"fill\":{\"color\":\"#506784\"},\"line\":{\"color\":\"rgb(17,17,17)\"}},\"header\":{\"fill\":{\"color\":\"#2a3f5f\"},\"line\":{\"color\":\"rgb(17,17,17)\"}},\"type\":\"table\"}],\"barpolar\":[{\"marker\":{\"line\":{\"color\":\"rgb(17,17,17)\",\"width\":0.5},\"pattern\":{\"fillmode\":\"overlay\",\"size\":10,\"solidity\":0.2}},\"type\":\"barpolar\"}],\"pie\":[{\"automargin\":true,\"type\":\"pie\"}]},\"layout\":{\"autotypenumbers\":\"strict\",\"colorway\":[\"#636efa\",\"#EF553B\",\"#00cc96\",\"#ab63fa\",\"#FFA15A\",\"#19d3f3\",\"#FF6692\",\"#B6E880\",\"#FF97FF\",\"#FECB52\"],\"font\":{\"color\":\"#f2f5fa\"},\"hovermode\":\"closest\",\"hoverlabel\":{\"align\":\"left\"},\"paper_bgcolor\":\"rgb(17,17,17)\",\"plot_bgcolor\":\"rgb(17,17,17)\",\"polar\":{\"bgcolor\":\"rgb(17,17,17)\",\"angularaxis\":{\"gridcolor\":\"#506784\",\"linecolor\":\"#506784\",\"ticks\":\"\"},\"radialaxis\":{\"gridcolor\":\"#506784\",\"linecolor\":\"#506784\",\"ticks\":\"\"}},\"ternary\":{\"bgcolor\":\"rgb(17,17,17)\",\"aaxis\":{\"gridcolor\":\"#506784\",\"linecolor\":\"#506784\",\"ticks\":\"\"},\"baxis\":{\"gridcolor\":\"#506784\",\"linecolor\":\"#506784\",\"ticks\":\"\"},\"caxis\":{\"gridcolor\":\"#506784\",\"linecolor\":\"#506784\",\"ticks\":\"\"}},\"coloraxis\":{\"colorbar\":{\"outlinewidth\":0,\"ticks\":\"\"}},\"colorscale\":{\"sequential\":[[0.0,\"#0d0887\"],[0.1111111111111111,\"#46039f\"],[0.2222222222222222,\"#7201a8\"],[0.3333333333333333,\"#9c179e\"],[0.4444444444444444,\"#bd3786\"],[0.5555555555555556,\"#d8576b\"],[0.6666666666666666,\"#ed7953\"],[0.7777777777777778,\"#fb9f3a\"],[0.8888888888888888,\"#fdca26\"],[1.0,\"#f0f921\"]],\"sequentialminus\":[[0.0,\"#0d0887\"],[0.1111111111111111,\"#46039f\"],[0.2222222222222222,\"#7201a8\"],[0.3333333333333333,\"#9c179e\"],[0.4444444444444444,\"#bd3786\"],[0.5555555555555556,\"#d8576b\"],[0.6666666666666666,\"#ed7953\"],[0.7777777777777778,\"#fb9f3a\"],[0.8888888888888888,\"#fdca26\"],[1.0,\"#f0f921\"]],\"diverging\":[[0,\"#8e0152\"],[0.1,\"#c51b7d\"],[0.2,\"#de77ae\"],[0.3,\"#f1b6da\"],[0.4,\"#fde0ef\"],[0.5,\"#f7f7f7\"],[0.6,\"#e6f5d0\"],[0.7,\"#b8e186\"],[0.8,\"#7fbc41\"],[0.9,\"#4d9221\"],[1,\"#276419\"]]},\"xaxis\":{\"gridcolor\":\"#283442\",\"linecolor\":\"#506784\",\"ticks\":\"\",\"title\":{\"standoff\":15},\"zerolinecolor\":\"#283442\",\"automargin\":true,\"zerolinewidth\":2},\"yaxis\":{\"gridcolor\":\"#283442\",\"linecolor\":\"#506784\",\"ticks\":\"\",\"title\":{\"standoff\":15},\"zerolinecolor\":\"#283442\",\"automargin\":true,\"zerolinewidth\":2},\"scene\":{\"xaxis\":{\"backgroundcolor\":\"rgb(17,17,17)\",\"gridcolor\":\"#506784\",\"linecolor\":\"#506784\",\"showbackground\":true,\"ticks\":\"\",\"zerolinecolor\":\"#C8D4E3\",\"gridwidth\":2},\"yaxis\":{\"backgroundcolor\":\"rgb(17,17,17)\",\"gridcolor\":\"#506784\",\"linecolor\":\"#506784\",\"showbackground\":true,\"ticks\":\"\",\"zerolinecolor\":\"#C8D4E3\",\"gridwidth\":2},\"zaxis\":{\"backgroundcolor\":\"rgb(17,17,17)\",\"gridcolor\":\"#506784\",\"linecolor\":\"#506784\",\"showbackground\":true,\"ticks\":\"\",\"zerolinecolor\":\"#C8D4E3\",\"gridwidth\":2}},\"shapedefaults\":{\"line\":{\"color\":\"#f2f5fa\"}},\"annotationdefaults\":{\"arrowcolor\":\"#f2f5fa\",\"arrowhead\":0,\"arrowwidth\":1},\"geo\":{\"bgcolor\":\"rgb(17,17,17)\",\"landcolor\":\"rgb(17,17,17)\",\"subunitcolor\":\"#506784\",\"showland\":true,\"showlakes\":true,\"lakecolor\":\"rgb(17,17,17)\"},\"title\":{\"x\":0.05},\"updatemenudefaults\":{\"bgcolor\":\"#506784\",\"borderwidth\":0},\"sliderdefaults\":{\"bgcolor\":\"#C8D4E3\",\"borderwidth\":1,\"bordercolor\":\"rgb(17,17,17)\",\"tickwidth\":0},\"mapbox\":{\"style\":\"dark\"}}},\"xaxis\":{\"anchor\":\"y\",\"domain\":[0.0,1.0],\"title\":{\"text\":\"Issues\"}},\"yaxis\":{\"anchor\":\"x\",\"domain\":[0.0,1.0],\"title\":{\"text\":\"Volume of URLs\"}},\"legend\":{\"title\":{\"text\":\"Impact_Score_Quadrant\"},\"tracegroupgap\":0},\"title\":{\"text\":\"Low Priority Issues by Count of URLs - sorted by Impact Score\"},\"barmode\":\"relative\"},                        {\"responsive\": true}                    ).then(function(){\n",
       "                            \n",
       "var gd = document.getElementById('9e548946-2c78-4cee-a6e7-9fccacbc3d40');\n",
       "var x = new MutationObserver(function (mutations, observer) {{\n",
       "        var display = window.getComputedStyle(gd).display;\n",
       "        if (!display || display === 'none') {{\n",
       "            console.log([gd, 'removed!']);\n",
       "            Plotly.purge(gd);\n",
       "            observer.disconnect();\n",
       "        }}\n",
       "}});\n",
       "\n",
       "// Listen for the removal of the full notebook cells\n",
       "var notebookContainer = gd.closest('#notebook-container');\n",
       "if (notebookContainer) {{\n",
       "    x.observe(notebookContainer, {childList: true});\n",
       "}}\n",
       "\n",
       "// Listen for the clearing of the current output cell\n",
       "var outputEl = gd.closest('.output');\n",
       "if (outputEl) {{\n",
       "    x.observe(outputEl, {childList: true});\n",
       "}}\n",
       "\n",
       "                        })                };                });            </script>        </div>"
      ]
     },
     "metadata": {},
     "output_type": "display_data"
    },
    {
     "data": {
      "application/vnd.plotly.v1+json": {
       "data": [
        {
         "alignmentgroup": "True",
         "hovertemplate": "Impact_Score_Quadrant=Backlog<br>Issue Name=%{x}<br>Address=%{y}<extra></extra>",
         "legendgroup": "Backlog",
         "marker": {
          "color": "#AB63FA",
          "pattern": {
           "shape": ""
          }
         },
         "name": "Backlog",
         "offsetgroup": "Backlog",
         "orientation": "v",
         "showlegend": true,
         "textposition": "auto",
         "x": [
          "JavaScript: H1 Updated by JavaScript",
          "Response Codes: Internal Redirect Chain",
          "Validation: High Carbon Rating",
          "URL: Underscores",
          "H1: Over 70 Characters",
          "JavaScript: Meta Description Updated by JavaScript",
          "JavaScript: Page Title Updated by JavaScript",
          "URL: Over 115 Characters",
          "Images: Alt Text Over 100 Characters",
          "Search Console: No Search Analytics Data",
          "URL: Parameters",
          "URL: GA Tracking Parameters",
          "Images: Background Images",
          "URL: Repetitive Path"
         ],
         "xaxis": "x",
         "y": [
          1,
          55,
          2,
          124,
          25,
          1,
          1,
          19,
          9,
          311,
          136,
          117,
          6,
          3
         ],
         "yaxis": "y",
         "type": "bar"
        }
       ],
       "layout": {
        "template": {
         "data": {
          "histogram2dcontour": [
           {
            "type": "histogram2dcontour",
            "colorbar": {
             "outlinewidth": 0,
             "ticks": ""
            },
            "colorscale": [
             [
              0.0,
              "#0d0887"
             ],
             [
              0.1111111111111111,
              "#46039f"
             ],
             [
              0.2222222222222222,
              "#7201a8"
             ],
             [
              0.3333333333333333,
              "#9c179e"
             ],
             [
              0.4444444444444444,
              "#bd3786"
             ],
             [
              0.5555555555555556,
              "#d8576b"
             ],
             [
              0.6666666666666666,
              "#ed7953"
             ],
             [
              0.7777777777777778,
              "#fb9f3a"
             ],
             [
              0.8888888888888888,
              "#fdca26"
             ],
             [
              1.0,
              "#f0f921"
             ]
            ]
           }
          ],
          "choropleth": [
           {
            "type": "choropleth",
            "colorbar": {
             "outlinewidth": 0,
             "ticks": ""
            }
           }
          ],
          "histogram2d": [
           {
            "type": "histogram2d",
            "colorbar": {
             "outlinewidth": 0,
             "ticks": ""
            },
            "colorscale": [
             [
              0.0,
              "#0d0887"
             ],
             [
              0.1111111111111111,
              "#46039f"
             ],
             [
              0.2222222222222222,
              "#7201a8"
             ],
             [
              0.3333333333333333,
              "#9c179e"
             ],
             [
              0.4444444444444444,
              "#bd3786"
             ],
             [
              0.5555555555555556,
              "#d8576b"
             ],
             [
              0.6666666666666666,
              "#ed7953"
             ],
             [
              0.7777777777777778,
              "#fb9f3a"
             ],
             [
              0.8888888888888888,
              "#fdca26"
             ],
             [
              1.0,
              "#f0f921"
             ]
            ]
           }
          ],
          "heatmap": [
           {
            "type": "heatmap",
            "colorbar": {
             "outlinewidth": 0,
             "ticks": ""
            },
            "colorscale": [
             [
              0.0,
              "#0d0887"
             ],
             [
              0.1111111111111111,
              "#46039f"
             ],
             [
              0.2222222222222222,
              "#7201a8"
             ],
             [
              0.3333333333333333,
              "#9c179e"
             ],
             [
              0.4444444444444444,
              "#bd3786"
             ],
             [
              0.5555555555555556,
              "#d8576b"
             ],
             [
              0.6666666666666666,
              "#ed7953"
             ],
             [
              0.7777777777777778,
              "#fb9f3a"
             ],
             [
              0.8888888888888888,
              "#fdca26"
             ],
             [
              1.0,
              "#f0f921"
             ]
            ]
           }
          ],
          "heatmapgl": [
           {
            "type": "heatmapgl",
            "colorbar": {
             "outlinewidth": 0,
             "ticks": ""
            },
            "colorscale": [
             [
              0.0,
              "#0d0887"
             ],
             [
              0.1111111111111111,
              "#46039f"
             ],
             [
              0.2222222222222222,
              "#7201a8"
             ],
             [
              0.3333333333333333,
              "#9c179e"
             ],
             [
              0.4444444444444444,
              "#bd3786"
             ],
             [
              0.5555555555555556,
              "#d8576b"
             ],
             [
              0.6666666666666666,
              "#ed7953"
             ],
             [
              0.7777777777777778,
              "#fb9f3a"
             ],
             [
              0.8888888888888888,
              "#fdca26"
             ],
             [
              1.0,
              "#f0f921"
             ]
            ]
           }
          ],
          "contourcarpet": [
           {
            "type": "contourcarpet",
            "colorbar": {
             "outlinewidth": 0,
             "ticks": ""
            }
           }
          ],
          "contour": [
           {
            "type": "contour",
            "colorbar": {
             "outlinewidth": 0,
             "ticks": ""
            },
            "colorscale": [
             [
              0.0,
              "#0d0887"
             ],
             [
              0.1111111111111111,
              "#46039f"
             ],
             [
              0.2222222222222222,
              "#7201a8"
             ],
             [
              0.3333333333333333,
              "#9c179e"
             ],
             [
              0.4444444444444444,
              "#bd3786"
             ],
             [
              0.5555555555555556,
              "#d8576b"
             ],
             [
              0.6666666666666666,
              "#ed7953"
             ],
             [
              0.7777777777777778,
              "#fb9f3a"
             ],
             [
              0.8888888888888888,
              "#fdca26"
             ],
             [
              1.0,
              "#f0f921"
             ]
            ]
           }
          ],
          "surface": [
           {
            "type": "surface",
            "colorbar": {
             "outlinewidth": 0,
             "ticks": ""
            },
            "colorscale": [
             [
              0.0,
              "#0d0887"
             ],
             [
              0.1111111111111111,
              "#46039f"
             ],
             [
              0.2222222222222222,
              "#7201a8"
             ],
             [
              0.3333333333333333,
              "#9c179e"
             ],
             [
              0.4444444444444444,
              "#bd3786"
             ],
             [
              0.5555555555555556,
              "#d8576b"
             ],
             [
              0.6666666666666666,
              "#ed7953"
             ],
             [
              0.7777777777777778,
              "#fb9f3a"
             ],
             [
              0.8888888888888888,
              "#fdca26"
             ],
             [
              1.0,
              "#f0f921"
             ]
            ]
           }
          ],
          "mesh3d": [
           {
            "type": "mesh3d",
            "colorbar": {
             "outlinewidth": 0,
             "ticks": ""
            }
           }
          ],
          "scatter": [
           {
            "marker": {
             "line": {
              "color": "#283442"
             }
            },
            "type": "scatter"
           }
          ],
          "parcoords": [
           {
            "type": "parcoords",
            "line": {
             "colorbar": {
              "outlinewidth": 0,
              "ticks": ""
             }
            }
           }
          ],
          "scatterpolargl": [
           {
            "type": "scatterpolargl",
            "marker": {
             "colorbar": {
              "outlinewidth": 0,
              "ticks": ""
             }
            }
           }
          ],
          "bar": [
           {
            "error_x": {
             "color": "#f2f5fa"
            },
            "error_y": {
             "color": "#f2f5fa"
            },
            "marker": {
             "line": {
              "color": "rgb(17,17,17)",
              "width": 0.5
             },
             "pattern": {
              "fillmode": "overlay",
              "size": 10,
              "solidity": 0.2
             }
            },
            "type": "bar"
           }
          ],
          "scattergeo": [
           {
            "type": "scattergeo",
            "marker": {
             "colorbar": {
              "outlinewidth": 0,
              "ticks": ""
             }
            }
           }
          ],
          "scatterpolar": [
           {
            "type": "scatterpolar",
            "marker": {
             "colorbar": {
              "outlinewidth": 0,
              "ticks": ""
             }
            }
           }
          ],
          "histogram": [
           {
            "marker": {
             "pattern": {
              "fillmode": "overlay",
              "size": 10,
              "solidity": 0.2
             }
            },
            "type": "histogram"
           }
          ],
          "scattergl": [
           {
            "marker": {
             "line": {
              "color": "#283442"
             }
            },
            "type": "scattergl"
           }
          ],
          "scatter3d": [
           {
            "type": "scatter3d",
            "line": {
             "colorbar": {
              "outlinewidth": 0,
              "ticks": ""
             }
            },
            "marker": {
             "colorbar": {
              "outlinewidth": 0,
              "ticks": ""
             }
            }
           }
          ],
          "scattermapbox": [
           {
            "type": "scattermapbox",
            "marker": {
             "colorbar": {
              "outlinewidth": 0,
              "ticks": ""
             }
            }
           }
          ],
          "scatterternary": [
           {
            "type": "scatterternary",
            "marker": {
             "colorbar": {
              "outlinewidth": 0,
              "ticks": ""
             }
            }
           }
          ],
          "scattercarpet": [
           {
            "type": "scattercarpet",
            "marker": {
             "colorbar": {
              "outlinewidth": 0,
              "ticks": ""
             }
            }
           }
          ],
          "carpet": [
           {
            "aaxis": {
             "endlinecolor": "#A2B1C6",
             "gridcolor": "#506784",
             "linecolor": "#506784",
             "minorgridcolor": "#506784",
             "startlinecolor": "#A2B1C6"
            },
            "baxis": {
             "endlinecolor": "#A2B1C6",
             "gridcolor": "#506784",
             "linecolor": "#506784",
             "minorgridcolor": "#506784",
             "startlinecolor": "#A2B1C6"
            },
            "type": "carpet"
           }
          ],
          "table": [
           {
            "cells": {
             "fill": {
              "color": "#506784"
             },
             "line": {
              "color": "rgb(17,17,17)"
             }
            },
            "header": {
             "fill": {
              "color": "#2a3f5f"
             },
             "line": {
              "color": "rgb(17,17,17)"
             }
            },
            "type": "table"
           }
          ],
          "barpolar": [
           {
            "marker": {
             "line": {
              "color": "rgb(17,17,17)",
              "width": 0.5
             },
             "pattern": {
              "fillmode": "overlay",
              "size": 10,
              "solidity": 0.2
             }
            },
            "type": "barpolar"
           }
          ],
          "pie": [
           {
            "automargin": true,
            "type": "pie"
           }
          ]
         },
         "layout": {
          "autotypenumbers": "strict",
          "colorway": [
           "#636efa",
           "#EF553B",
           "#00cc96",
           "#ab63fa",
           "#FFA15A",
           "#19d3f3",
           "#FF6692",
           "#B6E880",
           "#FF97FF",
           "#FECB52"
          ],
          "font": {
           "color": "#f2f5fa"
          },
          "hovermode": "closest",
          "hoverlabel": {
           "align": "left"
          },
          "paper_bgcolor": "rgb(17,17,17)",
          "plot_bgcolor": "rgb(17,17,17)",
          "polar": {
           "bgcolor": "rgb(17,17,17)",
           "angularaxis": {
            "gridcolor": "#506784",
            "linecolor": "#506784",
            "ticks": ""
           },
           "radialaxis": {
            "gridcolor": "#506784",
            "linecolor": "#506784",
            "ticks": ""
           }
          },
          "ternary": {
           "bgcolor": "rgb(17,17,17)",
           "aaxis": {
            "gridcolor": "#506784",
            "linecolor": "#506784",
            "ticks": ""
           },
           "baxis": {
            "gridcolor": "#506784",
            "linecolor": "#506784",
            "ticks": ""
           },
           "caxis": {
            "gridcolor": "#506784",
            "linecolor": "#506784",
            "ticks": ""
           }
          },
          "coloraxis": {
           "colorbar": {
            "outlinewidth": 0,
            "ticks": ""
           }
          },
          "colorscale": {
           "sequential": [
            [
             0.0,
             "#0d0887"
            ],
            [
             0.1111111111111111,
             "#46039f"
            ],
            [
             0.2222222222222222,
             "#7201a8"
            ],
            [
             0.3333333333333333,
             "#9c179e"
            ],
            [
             0.4444444444444444,
             "#bd3786"
            ],
            [
             0.5555555555555556,
             "#d8576b"
            ],
            [
             0.6666666666666666,
             "#ed7953"
            ],
            [
             0.7777777777777778,
             "#fb9f3a"
            ],
            [
             0.8888888888888888,
             "#fdca26"
            ],
            [
             1.0,
             "#f0f921"
            ]
           ],
           "sequentialminus": [
            [
             0.0,
             "#0d0887"
            ],
            [
             0.1111111111111111,
             "#46039f"
            ],
            [
             0.2222222222222222,
             "#7201a8"
            ],
            [
             0.3333333333333333,
             "#9c179e"
            ],
            [
             0.4444444444444444,
             "#bd3786"
            ],
            [
             0.5555555555555556,
             "#d8576b"
            ],
            [
             0.6666666666666666,
             "#ed7953"
            ],
            [
             0.7777777777777778,
             "#fb9f3a"
            ],
            [
             0.8888888888888888,
             "#fdca26"
            ],
            [
             1.0,
             "#f0f921"
            ]
           ],
           "diverging": [
            [
             0,
             "#8e0152"
            ],
            [
             0.1,
             "#c51b7d"
            ],
            [
             0.2,
             "#de77ae"
            ],
            [
             0.3,
             "#f1b6da"
            ],
            [
             0.4,
             "#fde0ef"
            ],
            [
             0.5,
             "#f7f7f7"
            ],
            [
             0.6,
             "#e6f5d0"
            ],
            [
             0.7,
             "#b8e186"
            ],
            [
             0.8,
             "#7fbc41"
            ],
            [
             0.9,
             "#4d9221"
            ],
            [
             1,
             "#276419"
            ]
           ]
          },
          "xaxis": {
           "gridcolor": "#283442",
           "linecolor": "#506784",
           "ticks": "",
           "title": {
            "standoff": 15
           },
           "zerolinecolor": "#283442",
           "automargin": true,
           "zerolinewidth": 2
          },
          "yaxis": {
           "gridcolor": "#283442",
           "linecolor": "#506784",
           "ticks": "",
           "title": {
            "standoff": 15
           },
           "zerolinecolor": "#283442",
           "automargin": true,
           "zerolinewidth": 2
          },
          "scene": {
           "xaxis": {
            "backgroundcolor": "rgb(17,17,17)",
            "gridcolor": "#506784",
            "linecolor": "#506784",
            "showbackground": true,
            "ticks": "",
            "zerolinecolor": "#C8D4E3",
            "gridwidth": 2
           },
           "yaxis": {
            "backgroundcolor": "rgb(17,17,17)",
            "gridcolor": "#506784",
            "linecolor": "#506784",
            "showbackground": true,
            "ticks": "",
            "zerolinecolor": "#C8D4E3",
            "gridwidth": 2
           },
           "zaxis": {
            "backgroundcolor": "rgb(17,17,17)",
            "gridcolor": "#506784",
            "linecolor": "#506784",
            "showbackground": true,
            "ticks": "",
            "zerolinecolor": "#C8D4E3",
            "gridwidth": 2
           }
          },
          "shapedefaults": {
           "line": {
            "color": "#f2f5fa"
           }
          },
          "annotationdefaults": {
           "arrowcolor": "#f2f5fa",
           "arrowhead": 0,
           "arrowwidth": 1
          },
          "geo": {
           "bgcolor": "rgb(17,17,17)",
           "landcolor": "rgb(17,17,17)",
           "subunitcolor": "#506784",
           "showland": true,
           "showlakes": true,
           "lakecolor": "rgb(17,17,17)"
          },
          "title": {
           "x": 0.05
          },
          "updatemenudefaults": {
           "bgcolor": "#506784",
           "borderwidth": 0
          },
          "sliderdefaults": {
           "bgcolor": "#C8D4E3",
           "borderwidth": 1,
           "bordercolor": "rgb(17,17,17)",
           "tickwidth": 0
          },
          "mapbox": {
           "style": "dark"
          }
         }
        },
        "xaxis": {
         "anchor": "y",
         "domain": [
          0.0,
          1.0
         ],
         "title": {
          "text": "Issues"
         }
        },
        "yaxis": {
         "anchor": "x",
         "domain": [
          0.0,
          1.0
         ],
         "title": {
          "text": "Volume of URLs"
         }
        },
        "legend": {
         "title": {
          "text": "Impact_Score_Quadrant"
         },
         "tracegroupgap": 0
        },
        "title": {
         "text": "Backlog Priority Issues by Count of URLs - sorted by Impact Score"
        },
        "barmode": "relative"
       },
       "config": {
        "plotlyServerURL": "https://plot.ly"
       }
      },
      "text/html": [
       "<div>                            <div id=\"3b3c7850-217c-4a5d-ba05-1d0d64f049c2\" class=\"plotly-graph-div\" style=\"height:525px; width:100%;\"></div>            <script type=\"text/javascript\">                require([\"plotly\"], function(Plotly) {                    window.PLOTLYENV=window.PLOTLYENV || {};                                    if (document.getElementById(\"3b3c7850-217c-4a5d-ba05-1d0d64f049c2\")) {                    Plotly.newPlot(                        \"3b3c7850-217c-4a5d-ba05-1d0d64f049c2\",                        [{\"alignmentgroup\":\"True\",\"hovertemplate\":\"Impact_Score_Quadrant=Backlog\\u003cbr\\u003eIssue Name=%{x}\\u003cbr\\u003eAddress=%{y}\\u003cextra\\u003e\\u003c\\u002fextra\\u003e\",\"legendgroup\":\"Backlog\",\"marker\":{\"color\":\"#AB63FA\",\"pattern\":{\"shape\":\"\"}},\"name\":\"Backlog\",\"offsetgroup\":\"Backlog\",\"orientation\":\"v\",\"showlegend\":true,\"textposition\":\"auto\",\"x\":[\"JavaScript: H1 Updated by JavaScript\",\"Response Codes: Internal Redirect Chain\",\"Validation: High Carbon Rating\",\"URL: Underscores\",\"H1: Over 70 Characters\",\"JavaScript: Meta Description Updated by JavaScript\",\"JavaScript: Page Title Updated by JavaScript\",\"URL: Over 115 Characters\",\"Images: Alt Text Over 100 Characters\",\"Search Console: No Search Analytics Data\",\"URL: Parameters\",\"URL: GA Tracking Parameters\",\"Images: Background Images\",\"URL: Repetitive Path\"],\"xaxis\":\"x\",\"y\":[1,55,2,124,25,1,1,19,9,311,136,117,6,3],\"yaxis\":\"y\",\"type\":\"bar\"}],                        {\"template\":{\"data\":{\"histogram2dcontour\":[{\"type\":\"histogram2dcontour\",\"colorbar\":{\"outlinewidth\":0,\"ticks\":\"\"},\"colorscale\":[[0.0,\"#0d0887\"],[0.1111111111111111,\"#46039f\"],[0.2222222222222222,\"#7201a8\"],[0.3333333333333333,\"#9c179e\"],[0.4444444444444444,\"#bd3786\"],[0.5555555555555556,\"#d8576b\"],[0.6666666666666666,\"#ed7953\"],[0.7777777777777778,\"#fb9f3a\"],[0.8888888888888888,\"#fdca26\"],[1.0,\"#f0f921\"]]}],\"choropleth\":[{\"type\":\"choropleth\",\"colorbar\":{\"outlinewidth\":0,\"ticks\":\"\"}}],\"histogram2d\":[{\"type\":\"histogram2d\",\"colorbar\":{\"outlinewidth\":0,\"ticks\":\"\"},\"colorscale\":[[0.0,\"#0d0887\"],[0.1111111111111111,\"#46039f\"],[0.2222222222222222,\"#7201a8\"],[0.3333333333333333,\"#9c179e\"],[0.4444444444444444,\"#bd3786\"],[0.5555555555555556,\"#d8576b\"],[0.6666666666666666,\"#ed7953\"],[0.7777777777777778,\"#fb9f3a\"],[0.8888888888888888,\"#fdca26\"],[1.0,\"#f0f921\"]]}],\"heatmap\":[{\"type\":\"heatmap\",\"colorbar\":{\"outlinewidth\":0,\"ticks\":\"\"},\"colorscale\":[[0.0,\"#0d0887\"],[0.1111111111111111,\"#46039f\"],[0.2222222222222222,\"#7201a8\"],[0.3333333333333333,\"#9c179e\"],[0.4444444444444444,\"#bd3786\"],[0.5555555555555556,\"#d8576b\"],[0.6666666666666666,\"#ed7953\"],[0.7777777777777778,\"#fb9f3a\"],[0.8888888888888888,\"#fdca26\"],[1.0,\"#f0f921\"]]}],\"heatmapgl\":[{\"type\":\"heatmapgl\",\"colorbar\":{\"outlinewidth\":0,\"ticks\":\"\"},\"colorscale\":[[0.0,\"#0d0887\"],[0.1111111111111111,\"#46039f\"],[0.2222222222222222,\"#7201a8\"],[0.3333333333333333,\"#9c179e\"],[0.4444444444444444,\"#bd3786\"],[0.5555555555555556,\"#d8576b\"],[0.6666666666666666,\"#ed7953\"],[0.7777777777777778,\"#fb9f3a\"],[0.8888888888888888,\"#fdca26\"],[1.0,\"#f0f921\"]]}],\"contourcarpet\":[{\"type\":\"contourcarpet\",\"colorbar\":{\"outlinewidth\":0,\"ticks\":\"\"}}],\"contour\":[{\"type\":\"contour\",\"colorbar\":{\"outlinewidth\":0,\"ticks\":\"\"},\"colorscale\":[[0.0,\"#0d0887\"],[0.1111111111111111,\"#46039f\"],[0.2222222222222222,\"#7201a8\"],[0.3333333333333333,\"#9c179e\"],[0.4444444444444444,\"#bd3786\"],[0.5555555555555556,\"#d8576b\"],[0.6666666666666666,\"#ed7953\"],[0.7777777777777778,\"#fb9f3a\"],[0.8888888888888888,\"#fdca26\"],[1.0,\"#f0f921\"]]}],\"surface\":[{\"type\":\"surface\",\"colorbar\":{\"outlinewidth\":0,\"ticks\":\"\"},\"colorscale\":[[0.0,\"#0d0887\"],[0.1111111111111111,\"#46039f\"],[0.2222222222222222,\"#7201a8\"],[0.3333333333333333,\"#9c179e\"],[0.4444444444444444,\"#bd3786\"],[0.5555555555555556,\"#d8576b\"],[0.6666666666666666,\"#ed7953\"],[0.7777777777777778,\"#fb9f3a\"],[0.8888888888888888,\"#fdca26\"],[1.0,\"#f0f921\"]]}],\"mesh3d\":[{\"type\":\"mesh3d\",\"colorbar\":{\"outlinewidth\":0,\"ticks\":\"\"}}],\"scatter\":[{\"marker\":{\"line\":{\"color\":\"#283442\"}},\"type\":\"scatter\"}],\"parcoords\":[{\"type\":\"parcoords\",\"line\":{\"colorbar\":{\"outlinewidth\":0,\"ticks\":\"\"}}}],\"scatterpolargl\":[{\"type\":\"scatterpolargl\",\"marker\":{\"colorbar\":{\"outlinewidth\":0,\"ticks\":\"\"}}}],\"bar\":[{\"error_x\":{\"color\":\"#f2f5fa\"},\"error_y\":{\"color\":\"#f2f5fa\"},\"marker\":{\"line\":{\"color\":\"rgb(17,17,17)\",\"width\":0.5},\"pattern\":{\"fillmode\":\"overlay\",\"size\":10,\"solidity\":0.2}},\"type\":\"bar\"}],\"scattergeo\":[{\"type\":\"scattergeo\",\"marker\":{\"colorbar\":{\"outlinewidth\":0,\"ticks\":\"\"}}}],\"scatterpolar\":[{\"type\":\"scatterpolar\",\"marker\":{\"colorbar\":{\"outlinewidth\":0,\"ticks\":\"\"}}}],\"histogram\":[{\"marker\":{\"pattern\":{\"fillmode\":\"overlay\",\"size\":10,\"solidity\":0.2}},\"type\":\"histogram\"}],\"scattergl\":[{\"marker\":{\"line\":{\"color\":\"#283442\"}},\"type\":\"scattergl\"}],\"scatter3d\":[{\"type\":\"scatter3d\",\"line\":{\"colorbar\":{\"outlinewidth\":0,\"ticks\":\"\"}},\"marker\":{\"colorbar\":{\"outlinewidth\":0,\"ticks\":\"\"}}}],\"scattermapbox\":[{\"type\":\"scattermapbox\",\"marker\":{\"colorbar\":{\"outlinewidth\":0,\"ticks\":\"\"}}}],\"scatterternary\":[{\"type\":\"scatterternary\",\"marker\":{\"colorbar\":{\"outlinewidth\":0,\"ticks\":\"\"}}}],\"scattercarpet\":[{\"type\":\"scattercarpet\",\"marker\":{\"colorbar\":{\"outlinewidth\":0,\"ticks\":\"\"}}}],\"carpet\":[{\"aaxis\":{\"endlinecolor\":\"#A2B1C6\",\"gridcolor\":\"#506784\",\"linecolor\":\"#506784\",\"minorgridcolor\":\"#506784\",\"startlinecolor\":\"#A2B1C6\"},\"baxis\":{\"endlinecolor\":\"#A2B1C6\",\"gridcolor\":\"#506784\",\"linecolor\":\"#506784\",\"minorgridcolor\":\"#506784\",\"startlinecolor\":\"#A2B1C6\"},\"type\":\"carpet\"}],\"table\":[{\"cells\":{\"fill\":{\"color\":\"#506784\"},\"line\":{\"color\":\"rgb(17,17,17)\"}},\"header\":{\"fill\":{\"color\":\"#2a3f5f\"},\"line\":{\"color\":\"rgb(17,17,17)\"}},\"type\":\"table\"}],\"barpolar\":[{\"marker\":{\"line\":{\"color\":\"rgb(17,17,17)\",\"width\":0.5},\"pattern\":{\"fillmode\":\"overlay\",\"size\":10,\"solidity\":0.2}},\"type\":\"barpolar\"}],\"pie\":[{\"automargin\":true,\"type\":\"pie\"}]},\"layout\":{\"autotypenumbers\":\"strict\",\"colorway\":[\"#636efa\",\"#EF553B\",\"#00cc96\",\"#ab63fa\",\"#FFA15A\",\"#19d3f3\",\"#FF6692\",\"#B6E880\",\"#FF97FF\",\"#FECB52\"],\"font\":{\"color\":\"#f2f5fa\"},\"hovermode\":\"closest\",\"hoverlabel\":{\"align\":\"left\"},\"paper_bgcolor\":\"rgb(17,17,17)\",\"plot_bgcolor\":\"rgb(17,17,17)\",\"polar\":{\"bgcolor\":\"rgb(17,17,17)\",\"angularaxis\":{\"gridcolor\":\"#506784\",\"linecolor\":\"#506784\",\"ticks\":\"\"},\"radialaxis\":{\"gridcolor\":\"#506784\",\"linecolor\":\"#506784\",\"ticks\":\"\"}},\"ternary\":{\"bgcolor\":\"rgb(17,17,17)\",\"aaxis\":{\"gridcolor\":\"#506784\",\"linecolor\":\"#506784\",\"ticks\":\"\"},\"baxis\":{\"gridcolor\":\"#506784\",\"linecolor\":\"#506784\",\"ticks\":\"\"},\"caxis\":{\"gridcolor\":\"#506784\",\"linecolor\":\"#506784\",\"ticks\":\"\"}},\"coloraxis\":{\"colorbar\":{\"outlinewidth\":0,\"ticks\":\"\"}},\"colorscale\":{\"sequential\":[[0.0,\"#0d0887\"],[0.1111111111111111,\"#46039f\"],[0.2222222222222222,\"#7201a8\"],[0.3333333333333333,\"#9c179e\"],[0.4444444444444444,\"#bd3786\"],[0.5555555555555556,\"#d8576b\"],[0.6666666666666666,\"#ed7953\"],[0.7777777777777778,\"#fb9f3a\"],[0.8888888888888888,\"#fdca26\"],[1.0,\"#f0f921\"]],\"sequentialminus\":[[0.0,\"#0d0887\"],[0.1111111111111111,\"#46039f\"],[0.2222222222222222,\"#7201a8\"],[0.3333333333333333,\"#9c179e\"],[0.4444444444444444,\"#bd3786\"],[0.5555555555555556,\"#d8576b\"],[0.6666666666666666,\"#ed7953\"],[0.7777777777777778,\"#fb9f3a\"],[0.8888888888888888,\"#fdca26\"],[1.0,\"#f0f921\"]],\"diverging\":[[0,\"#8e0152\"],[0.1,\"#c51b7d\"],[0.2,\"#de77ae\"],[0.3,\"#f1b6da\"],[0.4,\"#fde0ef\"],[0.5,\"#f7f7f7\"],[0.6,\"#e6f5d0\"],[0.7,\"#b8e186\"],[0.8,\"#7fbc41\"],[0.9,\"#4d9221\"],[1,\"#276419\"]]},\"xaxis\":{\"gridcolor\":\"#283442\",\"linecolor\":\"#506784\",\"ticks\":\"\",\"title\":{\"standoff\":15},\"zerolinecolor\":\"#283442\",\"automargin\":true,\"zerolinewidth\":2},\"yaxis\":{\"gridcolor\":\"#283442\",\"linecolor\":\"#506784\",\"ticks\":\"\",\"title\":{\"standoff\":15},\"zerolinecolor\":\"#283442\",\"automargin\":true,\"zerolinewidth\":2},\"scene\":{\"xaxis\":{\"backgroundcolor\":\"rgb(17,17,17)\",\"gridcolor\":\"#506784\",\"linecolor\":\"#506784\",\"showbackground\":true,\"ticks\":\"\",\"zerolinecolor\":\"#C8D4E3\",\"gridwidth\":2},\"yaxis\":{\"backgroundcolor\":\"rgb(17,17,17)\",\"gridcolor\":\"#506784\",\"linecolor\":\"#506784\",\"showbackground\":true,\"ticks\":\"\",\"zerolinecolor\":\"#C8D4E3\",\"gridwidth\":2},\"zaxis\":{\"backgroundcolor\":\"rgb(17,17,17)\",\"gridcolor\":\"#506784\",\"linecolor\":\"#506784\",\"showbackground\":true,\"ticks\":\"\",\"zerolinecolor\":\"#C8D4E3\",\"gridwidth\":2}},\"shapedefaults\":{\"line\":{\"color\":\"#f2f5fa\"}},\"annotationdefaults\":{\"arrowcolor\":\"#f2f5fa\",\"arrowhead\":0,\"arrowwidth\":1},\"geo\":{\"bgcolor\":\"rgb(17,17,17)\",\"landcolor\":\"rgb(17,17,17)\",\"subunitcolor\":\"#506784\",\"showland\":true,\"showlakes\":true,\"lakecolor\":\"rgb(17,17,17)\"},\"title\":{\"x\":0.05},\"updatemenudefaults\":{\"bgcolor\":\"#506784\",\"borderwidth\":0},\"sliderdefaults\":{\"bgcolor\":\"#C8D4E3\",\"borderwidth\":1,\"bordercolor\":\"rgb(17,17,17)\",\"tickwidth\":0},\"mapbox\":{\"style\":\"dark\"}}},\"xaxis\":{\"anchor\":\"y\",\"domain\":[0.0,1.0],\"title\":{\"text\":\"Issues\"}},\"yaxis\":{\"anchor\":\"x\",\"domain\":[0.0,1.0],\"title\":{\"text\":\"Volume of URLs\"}},\"legend\":{\"title\":{\"text\":\"Impact_Score_Quadrant\"},\"tracegroupgap\":0},\"title\":{\"text\":\"Backlog Priority Issues by Count of URLs - sorted by Impact Score\"},\"barmode\":\"relative\"},                        {\"responsive\": true}                    ).then(function(){\n",
       "                            \n",
       "var gd = document.getElementById('3b3c7850-217c-4a5d-ba05-1d0d64f049c2');\n",
       "var x = new MutationObserver(function (mutations, observer) {{\n",
       "        var display = window.getComputedStyle(gd).display;\n",
       "        if (!display || display === 'none') {{\n",
       "            console.log([gd, 'removed!']);\n",
       "            Plotly.purge(gd);\n",
       "            observer.disconnect();\n",
       "        }}\n",
       "}});\n",
       "\n",
       "// Listen for the removal of the full notebook cells\n",
       "var notebookContainer = gd.closest('#notebook-container');\n",
       "if (notebookContainer) {{\n",
       "    x.observe(notebookContainer, {childList: true});\n",
       "}}\n",
       "\n",
       "// Listen for the clearing of the current output cell\n",
       "var outputEl = gd.closest('.output');\n",
       "if (outputEl) {{\n",
       "    x.observe(outputEl, {childList: true});\n",
       "}}\n",
       "\n",
       "                        })                };                });            </script>        </div>"
      ]
     },
     "metadata": {},
     "output_type": "display_data"
    },
    {
     "name": "stdout",
     "output_type": "stream",
     "text": [
      "Data exported to export/issues_with_traffic_pages.xlsx\n"
     ]
    }
   ],
   "execution_count": 18
  },
  {
   "metadata": {},
   "cell_type": "markdown",
   "source": "## Optional: Cluster Issues & Summarize",
   "id": "ff343b7f328f0c0b"
  },
  {
   "metadata": {
    "ExecuteTime": {
     "end_time": "2025-01-17T22:41:02.501367Z",
     "start_time": "2025-01-17T22:41:00.716373Z"
    }
   },
   "cell_type": "code",
   "source": [
    "from src.utils import generate_embeddings\n",
    "from src.visualization import plot_elbow, clusters_2D\n",
    "\n",
    "issues_list = issues_group['Issue Name'].tolist()\n",
    "issues_embeddings = generate_embeddings(issues_list)\n",
    "\n",
    "plot_elbow(issues_embeddings, max_clusters=15) # set max_clusters as needed"
   ],
   "id": "7c5e5d8bbe0a817e",
   "outputs": [
    {
     "name": "stdout",
     "output_type": "stream",
     "text": [
      "\n",
      "Percentage decrease in distortion:\n",
      "From 1 to 2 clusters: 9.4% decrease\n",
      "From 2 to 3 clusters: 8.0% decrease\n",
      "From 3 to 4 clusters: 6.8% decrease\n",
      "From 4 to 5 clusters: 1.3% decrease\n",
      "From 5 to 6 clusters: 7.6% decrease\n",
      "From 6 to 7 clusters: 8.7% decrease\n",
      "From 7 to 8 clusters: 9.0% decrease\n",
      "From 8 to 9 clusters: 5.8% decrease\n",
      "From 9 to 10 clusters: 6.4% decrease\n",
      "From 10 to 11 clusters: 7.0% decrease\n",
      "From 11 to 12 clusters: 5.9% decrease\n",
      "From 12 to 13 clusters: 5.5% decrease\n",
      "From 13 to 14 clusters: 9.9% decrease\n",
      "From 14 to 15 clusters: 4.0% decrease\n"
     ]
    },
    {
     "data": {
      "text/plain": [
       "<Figure size 800x500 with 1 Axes>"
      ],
      "image/png": "[encoded data removed]"
     },
     "metadata": {},
     "output_type": "display_data"
    }
   ],
   "execution_count": 19
  },
  {
   "metadata": {
    "ExecuteTime": {
     "end_time": "2025-01-17T22:41:02.690080Z",
     "start_time": "2025-01-17T22:41:02.531801Z"
    }
   },
   "cell_type": "code",
   "source": [
    "from sklearn.cluster import KMeans\n",
    "from sklearn.decomposition import PCA\n",
    "\n",
    "n_clusters = 10 # based on distortion decrease\n",
    "kmeans = KMeans(n_clusters=n_clusters,\n",
    "                random_state=0,\n",
    "                n_init = 'auto').fit(issues_embeddings)\n",
    "kmeans_labels = kmeans.labels_\n",
    "PCA_model = PCA(n_components=2)\n",
    "PCA_model.fit(issues_embeddings)\n",
    "new_values = PCA_model.transform(issues_embeddings)\n",
    "\n",
    "clusters_2D(x_values = new_values[:,0], y_values = new_values[:,1],\n",
    "            labels = issues_group, kmeans_labels = kmeans_labels)"
   ],
   "id": "8e4b6d7ff5e2def3",
   "outputs": [
    {
     "data": {
      "text/plain": [
       "<Figure size 1500x1000 with 2 Axes>"
      ],
      "image/png": "[encoded data removed]"
     },
     "metadata": {},
     "output_type": "display_data"
    },
    {
     "name": "stdout",
     "output_type": "stream",
     "text": [
      "\n",
      "Cluster Statistics:\n",
      "\n",
      "Cluster 1:\n",
      "Number of issues: 2\n",
      "Average Impact Score: 31.3\n",
      "Top issues in this cluster:\n",
      "- Directives: Noindex\n",
      "  Impact: 31.3\n",
      "  Type: Warning\n",
      "  Priority: High\n",
      "- Directives: Nofollow\n",
      "  Impact: 31.2\n",
      "  Type: Warning\n",
      "  Priority: High\n",
      "\n",
      "Cluster 2:\n",
      "Number of issues: 5\n",
      "Average Impact Score: 31.8\n",
      "Top issues in this cluster:\n",
      "- Meta Description: Duplicate\n",
      "  Impact: 47.5\n",
      "  Type: Opportunity\n",
      "  Priority: Low\n",
      "- Meta Description: Missing\n",
      "  Impact: 42.2\n",
      "  Type: Opportunity\n",
      "  Priority: Low\n",
      "- Images: Missing Alt Text\n",
      "  Impact: 28.1\n",
      "  Type: Issue\n",
      "  Priority: Low\n",
      "\n",
      "Cluster 3:\n",
      "Number of issues: 6\n",
      "Average Impact Score: 41.6\n",
      "Top issues in this cluster:\n",
      "- Content: Readability Difficult\n",
      "  Impact: 53.3\n",
      "  Type: Opportunity\n",
      "  Priority: Low\n",
      "- Meta Description: Over 155 Characters\n",
      "  Impact: 52.6\n",
      "  Type: Opportunity\n",
      "  Priority: Low\n",
      "- Content: Readability Very Difficult\n",
      "  Impact: 43.7\n",
      "  Type: Opportunity\n",
      "  Priority: Low\n",
      "\n",
      "Cluster 4:\n",
      "Number of issues: 9\n",
      "Average Impact Score: 22.6\n",
      "Top issues in this cluster:\n",
      "- Links: Pages With High Crawl Depth\n",
      "  Impact: 49.2\n",
      "  Type: Opportunity\n",
      "  Priority: Medium\n",
      "- URL: Uppercase\n",
      "  Impact: 25.7\n",
      "  Type: Warning\n",
      "  Priority: Low\n",
      "- URL: Multiple Slashes\n",
      "  Impact: 25.5\n",
      "  Type: Issue\n",
      "  Priority: Low\n",
      "\n",
      "Cluster 5:\n",
      "Number of issues: 5\n",
      "Average Impact Score: 44.5\n",
      "Top issues in this cluster:\n",
      "- Structured Data: Missing\n",
      "  Impact: 71.1\n",
      "  Type: Opportunity\n",
      "  Priority: Low\n",
      "- Structured Data: Rich Result Validation Errors\n",
      "  Impact: 65.0\n",
      "  Type: Issue\n",
      "  Priority: High\n",
      "- Structured Data: Rich Result Validation Warnings\n",
      "  Impact: 35.4\n",
      "  Type: Opportunity\n",
      "  Priority: Low\n",
      "\n",
      "Cluster 6:\n",
      "Number of issues: 4\n",
      "Average Impact Score: 22.8\n",
      "Top issues in this cluster:\n",
      "- JavaScript: Contains JavaScript Content\n",
      "  Impact: 28.7\n",
      "  Type: Warning\n",
      "  Priority: Medium\n",
      "- JavaScript: H1 Updated by JavaScript\n",
      "  Impact: 24.0\n",
      "  Type: Warning\n",
      "  Priority: Medium\n",
      "- JavaScript: Meta Description Updated by JavaScript\n",
      "  Impact: 19.2\n",
      "  Type: Warning\n",
      "  Priority: Medium\n",
      "\n",
      "Cluster 7:\n",
      "Number of issues: 12\n",
      "Average Impact Score: 45.3\n",
      "Top issues in this cluster:\n",
      "- Page Titles: Duplicate\n",
      "  Impact: 70.2\n",
      "  Type: Opportunity\n",
      "  Priority: Medium\n",
      "- Content: Low Content Pages\n",
      "  Impact: 70.2\n",
      "  Type: Opportunity\n",
      "  Priority: Medium\n",
      "- Page Titles: Below 30 Characters\n",
      "  Impact: 64.9\n",
      "  Type: Opportunity\n",
      "  Priority: Medium\n",
      "\n",
      "Cluster 8:\n",
      "Number of issues: 3\n",
      "Average Impact Score: 36.4\n",
      "Top issues in this cluster:\n",
      "- Canonicals: Non-Indexable Canonical\n",
      "  Impact: 45.9\n",
      "  Type: Issue\n",
      "  Priority: High\n",
      "- Canonicals: Canonicalised\n",
      "  Impact: 33.4\n",
      "  Type: Warning\n",
      "  Priority: High\n",
      "- Canonicals: Missing\n",
      "  Impact: 29.8\n",
      "  Type: Warning\n",
      "  Priority: Medium\n",
      "\n",
      "Cluster 9:\n",
      "Number of issues: 2\n",
      "Average Impact Score: 28.3\n",
      "Top issues in this cluster:\n",
      "- Response Codes: Internal Blocked Resource\n",
      "  Impact: 34.0\n",
      "  Type: Warning\n",
      "  Priority: High\n",
      "- Response Codes: Internal Redirect Chain\n",
      "  Impact: 22.6\n",
      "  Type: Warning\n",
      "  Priority: Medium\n",
      "\n",
      "Cluster 10:\n",
      "Number of issues: 7\n",
      "Average Impact Score: 50.6\n",
      "Top issues in this cluster:\n",
      "- H1: Missing\n",
      "  Impact: 74.1\n",
      "  Type: Issue\n",
      "  Priority: Medium\n",
      "- H2: Multiple\n",
      "  Impact: 62.2\n",
      "  Type: Warning\n",
      "  Priority: Low\n",
      "- H2: Duplicate\n",
      "  Impact: 56.7\n",
      "  Type: Opportunity\n",
      "  Priority: Low\n"
     ]
    }
   ],
   "execution_count": 20
  }
 ],
 "metadata": {
  "kernelspec": {
   "display_name": "Python 3",
   "language": "python",
   "name": "python3"
  },
  "language_info": {
   "codemirror_mode": {
    "name": "ipython",
    "version": 2
   },
   "file_extension": ".py",
   "mimetype": "text/x-python",
   "name": "python",
   "nbconvert_exporter": "python",
   "pygments_lexer": "ipython2",
   "version": "2.7.6"
  }
 },
 "nbformat": 4,
 "nbformat_minor": 5
}
